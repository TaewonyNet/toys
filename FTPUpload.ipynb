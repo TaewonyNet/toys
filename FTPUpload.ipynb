{
 "cells": [
  {
   "cell_type": "code",
   "execution_count": 7,
   "metadata": {},
   "outputs": [
    {
     "data": {
      "text/plain": [
       "'220-FileZilla Server 0.9.60 beta\\n220-written by Tim Kosse (tim.kosse@filezilla-project.org)\\n220 Please visit https://filezilla-project.org/'"
      ]
     },
     "execution_count": 7,
     "metadata": {},
     "output_type": "execute_result"
    }
   ],
   "source": [
    "import time\n",
    "import subprocess\n",
    "import datetime\n",
    "import ftplib\n",
    "import os\n",
    "import SimpleLog\n",
    "SimpleLog.SimpleLog('FTPUpload.log')"
   ]
  },
  {
   "cell_type": "code",
   "execution_count": null,
   "metadata": {},
   "outputs": [
    {
     "name": "stdout",
     "output_type": "stream",
     "text": [
      "naver_20200313.html\n",
      "b''\n"
     ]
    }
   ],
   "source": [
    "url = 'http://naver.com'\n",
    "today = None\n",
    "while (True):\n",
    "    newday = datetime.datetime.today()\n",
    "    if today != newday:\n",
    "        today = newday\n",
    "#         filename = 'naver_%04d%02d%02d.zip' % (today.year, today.month, today.day)\n",
    "        filename = 'naver_%04d%02d%02d.html' % (today.year, today.month, today.day)\n",
    "        print(filename)\n",
    "#         r =  subprocess.check_output('zip -r %s naver *.ipynb *.py' % filename, shell=True)\n",
    "        r =  subprocess.check_output('powershell Invoke-WebRequest -OutFile %s %s' % (filename, url), shell=True)\n",
    "        print(r)\n",
    "\n",
    "        ftp=ftplib.FTP()\n",
    "        ftp.set_pasv(False)\n",
    "        ftp.connect(\"localhost\",2121)\n",
    "        ftp.login(\"taewony\",\"taewony\")\n",
    "        ftp.cwd(\"./taewony/\")\n",
    "        # os.chdir(r\"보낼 파일의 위치\")\n",
    "        myfile = open(filename,'rb')\n",
    "        ftp.storbinary('STOR ' +filename, myfile )\n",
    "        myfile.close()\n",
    "        ftp.close()\n",
    "        time.sleep(1*60*60)"
   ]
  },
  {
   "cell_type": "code",
   "execution_count": 10,
   "metadata": {},
   "outputs": [],
   "source": []
  },
  {
   "cell_type": "code",
   "execution_count": null,
   "metadata": {},
   "outputs": [],
   "source": []
  }
 ],
 "metadata": {
  "kernelspec": {
   "display_name": "Python 3",
   "language": "python",
   "name": "python3"
  },
  "language_info": {
   "codemirror_mode": {
    "name": "ipython",
    "version": 3
   },
   "file_extension": ".py",
   "mimetype": "text/x-python",
   "name": "python",
   "nbconvert_exporter": "python",
   "pygments_lexer": "ipython3",
   "version": "3.7.4"
  }
 },
 "nbformat": 4,
 "nbformat_minor": 2
}
