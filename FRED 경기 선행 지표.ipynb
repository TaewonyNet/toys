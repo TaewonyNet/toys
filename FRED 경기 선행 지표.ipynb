{
 "cells": [
  {
   "cell_type": "markdown",
   "metadata": {
    "id": "U0pVUTmKH2jU"
   },
   "source": [
    "# FRED 주요 경기 선행 지표\n",
    "\n",
    "<img src=\"https://i.imgur.com/5zpNRdG.png\" >\n",
    "\n",
    "#### 2020 [FinanceData.KR]() | [facebook.com/financedata]()"
   ]
  },
  {
   "cell_type": "markdown",
   "metadata": {
    "id": "FIF-rcZaIgyc"
   },
   "source": [
    "[FinanceDataReader](https://github.com/FinanceData/FinanceDataReader)기능을 활용하여 FRED로 부터 대표적인 경기선행 지수 데이터를 가져와 향후 경기를 가늠해 봅니다."
   ]
  },
  {
   "cell_type": "code",
   "execution_count": 1,
   "metadata": {
    "id": "-v5lWu_dpIR6"
   },
   "outputs": [],
   "source": [
    "# matplotlib 설정\n",
    "import matplotlib.pyplot as plt\n",
    "\n",
    "plt.rcParams[\"axes.grid\"] = True\n",
    "plt.rcParams[\"figure.figsize\"] = (12,6)\n",
    "plt.rcParams['axes.unicode_minus'] = False\n",
    "plt.rcParams[\"axes.formatter.limits\"] = -10000, 10000"
   ]
  },
  {
   "cell_type": "code",
   "execution_count": null,
   "metadata": {
    "id": "IN9B6Sc2J4NT"
   },
   "outputs": [],
   "source": [
    "!pip install -q finance-dataReader"
   ]
  },
  {
   "cell_type": "markdown",
   "metadata": {
    "id": "DnYuFsQPpd2c"
   },
   "source": [
    "나스닥지수(IXIC) 입니다."
   ]
  },
  {
   "cell_type": "code",
   "execution_count": null,
   "metadata": {
    "colab": {
     "base_uri": "https://localhost:8080/",
     "height": 450
    },
    "id": "eZlAkUKHJ8z3",
    "outputId": "2827a5ef-bf13-49da-8cee-1d148c89d5c3"
   },
   "outputs": [],
   "source": [
    "import FinanceDataReader as fdr\n",
    "\n",
    "df = fdr.DataReader('NASDAQCOM', data_source='fred')\n",
    "df"
   ]
  },
  {
   "cell_type": "code",
   "execution_count": null,
   "metadata": {
    "colab": {
     "base_uri": "https://localhost:8080/",
     "height": 406
    },
    "id": "KlMw-llApV8U",
    "outputId": "91bb4e46-e4a9-48e6-c309-b595e0611a4c"
   },
   "outputs": [],
   "source": [
    "df.plot()"
   ]
  },
  {
   "cell_type": "markdown",
   "metadata": {
    "id": "V9mc96BPpsud"
   },
   "source": [
    "올해(2020년) 팬데믹이후 나스닥은 사상 최고 상승세를 이어가고 있습니다. 9월 들어 조정을 받고 있습니다.\n",
    "\n",
    "9월의 가격 흐름이 일시적인 조정인지 혹은 폭락의 시작인지 궁금합니다.\n"
   ]
  },
  {
   "cell_type": "code",
   "execution_count": null,
   "metadata": {
    "colab": {
     "base_uri": "https://localhost:8080/",
     "height": 400
    },
    "id": "E-p93zYqm2FO",
    "outputId": "8cccb0bb-6530-4d87-8784-abbff94dfe1b"
   },
   "outputs": [],
   "source": [
    "ax = df['2020':].plot()\n",
    "ax = ax.axvspan('2020-09-01', '2020-10-01', color='orange', alpha=0.2)"
   ]
  },
  {
   "cell_type": "markdown",
   "metadata": {
    "id": "RHB5pS3OK6el"
   },
   "source": [
    "선행지표란 경기가 좋아질 것인지 혹은 나빠질 것인지 앞서 반응하는 지표를 말합니다. 대표적인 선행 지표들이 무엇이 있는지 그리고, 이 선행지표들을 살펴봄으로 향후 주식 시장의 흐름을 가늠해 볼 수 있습니다.\n"
   ]
  },
  {
   "cell_type": "markdown",
   "metadata": {
    "id": "ldmOrgp38lS3"
   },
   "source": [
    "## 1. 주간 실업수당 청구 건수 (ICSA)\n",
    "https://fred.stlouisfed.org/series/ICSA\n",
    "\n",
    "요즘 미국 경기를 이야기 할 때 뉴스에 가장 많이 등장하는 지표중의 하나입니다.\n",
    "주단위 신규 실업수당청구 건수 입니다. \n",
    "\n",
    "참고로 연속 실업수당청구 건수 [CCSA](https://fred.stlouisfed.org/series/CCSA)도 있습니다.\n",
    "\n",
    "경기가 나빠지는 경우는 후행지표로 동작하지만, 경기가 좋아지는 경우 선행 지표로 활용할 수 있습니다. 2008년 금융위기 때는 약간 후행하는 모습을 보이고 있습니다.\n",
    "\n",
    "\n",
    "\n"
   ]
  },
  {
   "cell_type": "code",
   "execution_count": null,
   "metadata": {
    "colab": {
     "base_uri": "https://localhost:8080/",
     "height": 375
    },
    "id": "jiQ_njTgMsUN",
    "outputId": "e4965c4c-c2fa-4af7-87e4-15904df12378"
   },
   "outputs": [],
   "source": [
    "# 2008년 금융위기 나스닥지수(NASDAQCOM)와 주간 실업수당 청구 건수(ICSA)\n",
    "\n",
    "df = fdr.DataReader(['NASDAQCOM', 'ICSA'], start='2006', end='2010', data_source='fred')\n",
    "ax = df.plot(secondary_y='NASDAQCOM')\n",
    "ax = ax.axvspan('2007-12-01', '2009-03-30', color='gray', alpha=0.2)"
   ]
  },
  {
   "cell_type": "markdown",
   "metadata": {
    "id": "n3Y-1QFUV2Q-"
   },
   "source": [
    "최근 주간 실업수당 청구 건수는 꾸준히 감소하여 팬데믹 이후 최저를 기록하고 있습니다."
   ]
  },
  {
   "cell_type": "code",
   "execution_count": null,
   "metadata": {
    "colab": {
     "base_uri": "https://localhost:8080/",
     "height": 375
    },
    "id": "JTw1hycdH_I1",
    "outputId": "fac18a73-0a23-46fc-bcdb-510fe81b7f63"
   },
   "outputs": [],
   "source": [
    "# 최근(2020년 10월), 나스닥지수(NASDAQCOM)와 주간 실업수당 청구 건수(ICSA)\n",
    "\n",
    "df = fdr.DataReader(['NASDAQCOM', 'ICSA'], start='2019', data_source='fred')\n",
    "ax = df.plot(secondary_y='NASDAQCOM')"
   ]
  },
  {
   "cell_type": "code",
   "execution_count": null,
   "metadata": {
    "colab": {
     "base_uri": "https://localhost:8080/",
     "height": 235
    },
    "id": "CVDammWpOGYV",
    "outputId": "f81caafc-ee60-414a-e65c-061013707d76"
   },
   "outputs": [],
   "source": [
    "df.tail()"
   ]
  },
  {
   "cell_type": "markdown",
   "metadata": {
    "id": "IO0B3GDrzmOl"
   },
   "source": [
    "## 2. 소비자심리지수 (UMCSENT)\n",
    "https://fred.stlouisfed.org/series/UMCSENT\n",
    "\n",
    "UMCSENT (University of Michigan: Consumer Sentiment)는 미시건대 소비자심리지수 추이로 소비자심리지수(CSI, Consumer Sentiment Index)는 소비자에 설문 결과를 수치화한 지표 입니다.\n",
    "\n",
    "100을 기준으로 100이상이면 긍정적 100이하면 부정적으로 봅니다. 100이상이면 즉,  긍정적이면 소매업 유리하겠죠.\n",
    "\n",
    "2008년 금융위기 주가 하락이 본격화 되기 전에 소비자심리지수(CSI)가 먼저 하락하는 것을 또렸하게 볼 수 있습니다.\n",
    "\n"
   ]
  },
  {
   "cell_type": "code",
   "execution_count": null,
   "metadata": {
    "colab": {
     "base_uri": "https://localhost:8080/",
     "height": 375
    },
    "id": "JYT8o7qSMUM9",
    "outputId": "131bca1f-9ba1-45a1-bc56-d6783db6468b"
   },
   "outputs": [],
   "source": [
    "# 2008년 금융위기 나스닥지수(NASDAQCOM)와 미시건대 소비자심리지수(UMCSENT) \n",
    "\n",
    "df = fdr.DataReader(['NASDAQCOM', 'UMCSENT'], start='2006', end='2010', data_source='fred')\n",
    "ax = df.plot(secondary_y='NASDAQCOM')\n",
    "ax = ax.axvspan('2007-12-01', '2009-03-30', color='gray', alpha=0.2)"
   ]
  },
  {
   "cell_type": "markdown",
   "metadata": {
    "id": "cYGLTLaeNd9m"
   },
   "source": [
    "현재 (2020년 10월초) 소비자심리지수(CSI)는 72 부근에서 회복되지 않고 있습니다.\n",
    "\n",
    "소비자심리지수(CSI)는 경기에 대해 다소 부정적인 신호를 주고 있습니다."
   ]
  },
  {
   "cell_type": "code",
   "execution_count": null,
   "metadata": {
    "colab": {
     "base_uri": "https://localhost:8080/",
     "height": 375
    },
    "id": "SnUmF8IiJsSz",
    "outputId": "6786009e-371b-4d8a-f12c-7ebe103ea950"
   },
   "outputs": [],
   "source": [
    "# 최근(2020년 10월), 나스닥지수(NASDAQCOM)와 미시건대 소비자심리지수(UMCSENT) \n",
    "\n",
    "df = fdr.DataReader(['NASDAQCOM', 'UMCSENT'], start='2019', data_source='fred')\n",
    "ax = df.plot(secondary_y='NASDAQCOM')"
   ]
  },
  {
   "cell_type": "code",
   "execution_count": null,
   "metadata": {
    "colab": {
     "base_uri": "https://localhost:8080/",
     "height": 235
    },
    "id": "oU77w_x3OAYE",
    "outputId": "833347f5-0bc0-4e44-9a3a-c8c1940bd085"
   },
   "outputs": [],
   "source": [
    "df.tail()"
   ]
  },
  {
   "cell_type": "markdown",
   "metadata": {
    "id": "H_i1TQ5CxbOP"
   },
   "source": [
    "## 3. 주택 판매 지수 (HSN1F)\n",
    "https://fred.stlouisfed.org/series/HSN1F\n",
    "\n",
    "주택 판매 지수는 주택시장 활성화 정도를 나타냅니다. 불황으로 주가가 하락할 때 하락에 앞서 주택 판매 지수가 하락하는 모습을 보입니다.\n",
    "\n"
   ]
  },
  {
   "cell_type": "code",
   "execution_count": null,
   "metadata": {
    "colab": {
     "base_uri": "https://localhost:8080/",
     "height": 367
    },
    "id": "_ezcEeMZZ3MO",
    "outputId": "5a55eb53-14d5-4216-a517-f0a5de623eff"
   },
   "outputs": [],
   "source": [
    "# 2008년 금융위기 나스닥지수(NASDAQCOM)와 주택 판매 지수\n",
    "\n",
    "df = fdr.DataReader(['NASDAQCOM', 'HSN1F'], start='2005', end='2011', data_source='fred')\n",
    "ax = df.plot(secondary_y='NASDAQCOM')\n",
    "ax = ax.axvspan('2007-12-01', '2009-03-30', color='gray', alpha=0.2)"
   ]
  },
  {
   "cell_type": "markdown",
   "metadata": {
    "id": "PZq7l9nOafql"
   },
   "source": [
    "최근 주택판매지수는 팬데믹 이후 반등하는 모습을 보이고 있습니다."
   ]
  },
  {
   "cell_type": "code",
   "execution_count": null,
   "metadata": {
    "colab": {
     "base_uri": "https://localhost:8080/",
     "height": 375
    },
    "id": "MhxxXHojO9wt",
    "outputId": "2a08fd08-f36c-44ad-9d38-b69402a71e54"
   },
   "outputs": [],
   "source": [
    "# 최근(2020년 10월), 나스닥지수(NASDAQCOM)와 주택판매지수(HSN1F) \n",
    "\n",
    "df = fdr.DataReader(['NASDAQCOM', 'HSN1F'], start='2019', data_source='fred')\n",
    "ax = df.plot(secondary_y='NASDAQCOM')"
   ]
  },
  {
   "cell_type": "markdown",
   "metadata": {
    "id": "hcPhUq52_ROG"
   },
   "source": [
    "## 4. 실업률 (UNRATE)\n",
    "https://fred.stlouisfed.org/series/UNRATE\n",
    "\n",
    "실업률은 불황에는 후행지표, 경기회복에 동행지표로 작동합니다.\n",
    "\n"
   ]
  },
  {
   "cell_type": "code",
   "execution_count": null,
   "metadata": {
    "colab": {
     "base_uri": "https://localhost:8080/",
     "height": 367
    },
    "id": "EFDR5ri3XL86",
    "outputId": "7796e3f4-b457-42ce-9259-c5e071cdb480"
   },
   "outputs": [],
   "source": [
    "# 2008년 금융위기 나스닥지수(NASDAQCOM)와 실업률(UNRATE) \n",
    "\n",
    "df = fdr.DataReader(['NASDAQCOM', 'UNRATE'], start='2005', end='2011', data_source='fred')\n",
    "ax = df.plot(secondary_y='NASDAQCOM')\n",
    "ax = ax.axvspan('2007-12-01', '2009-03-30', color='gray', alpha=0.2)"
   ]
  },
  {
   "cell_type": "markdown",
   "metadata": {
    "id": "dIafA5AJYOMd"
   },
   "source": [
    "실업률(UNRATE)은 팬데믹 이후 지속적으로 낮아지고 있습니다"
   ]
  },
  {
   "cell_type": "code",
   "execution_count": null,
   "metadata": {
    "colab": {
     "base_uri": "https://localhost:8080/",
     "height": 375
    },
    "id": "3jBKZq5qPPWS",
    "outputId": "39cb94f4-777b-4400-aa37-565d97bfc90d"
   },
   "outputs": [],
   "source": [
    "# 최근(2020년 10월), 나스닥지수(NASDAQCOM)와 실업률(UNRATE) \n",
    "\n",
    "df = fdr.DataReader(['NASDAQCOM', 'UNRATE'], start='2019', data_source='fred')\n",
    "ax = df.plot(secondary_y='NASDAQCOM')"
   ]
  },
  {
   "cell_type": "markdown",
   "metadata": {
    "id": "jCZkPios_0Lq"
   },
   "source": [
    "## 5. M2 통화량(M2)\n",
    "https://fred.stlouisfed.org/series/M2\n",
    "\n",
    "M2 통화량은 시중 돈이 얼마나 많이 풀렸는지(유동성)을 보여주는 지표입니다."
   ]
  },
  {
   "cell_type": "code",
   "execution_count": null,
   "metadata": {
    "colab": {
     "base_uri": "https://localhost:8080/",
     "height": 388
    },
    "id": "Tyletj6KYfo2",
    "outputId": "28c6ab96-0be3-4449-fcd8-c9dfd4b58118"
   },
   "outputs": [],
   "source": [
    "# 2008년 금융위기, 나스닥지수(NASDAQCOM)와 M2통화량(M2) \n",
    "\n",
    "df = fdr.DataReader(['NASDAQCOM', 'M2'], start='2005', end='2011', data_source='fred')\n",
    "ax = df.plot(secondary_y='NASDAQCOM')\n",
    "ax = ax.axvspan('2007-12-01', '2009-03-30', color='gray', alpha=0.2)"
   ]
  },
  {
   "cell_type": "code",
   "execution_count": null,
   "metadata": {
    "colab": {
     "base_uri": "https://localhost:8080/",
     "height": 400
    },
    "id": "LnMwtU69PsZL",
    "outputId": "b05fbab8-2bd6-4726-d984-375c0ae14325"
   },
   "outputs": [],
   "source": [
    "# 최근(2020년 10월), 나스닥지수(NASDAQCOM)와 M2통화량(M2)\n",
    "\n",
    "df = fdr.DataReader(['NASDAQCOM', 'M2'], start='2019', data_source='fred')\n",
    "ax = df.plot(secondary_y='NASDAQCOM')"
   ]
  },
  {
   "cell_type": "markdown",
   "metadata": {
    "id": "7yTowzY-_0RS"
   },
   "source": [
    "## 6. 하이일드 채권 스프레드 (BAMLH0A0HYM2)\n",
    "https://fred.stlouisfed.org/series/BAMLH0A0HYM2\n",
    "\n",
    "하이일드 채권은 낮은 신용등급 회사에 투자하는 고위험,고수익 채권입니다. 여기서 스프레드는 국채 수익률과의 차이를 이야기합니다. \n",
    "\n",
    "하이일드 채권 스프레드 = 하이일드 채권 수익률 – 국채 수익률\n",
    "\n",
    "불황일 수록 하이일드 채권 스프레드는 더 커집니다.\n",
    "\n",
    "FRED에서 'ICE BofA US High Yield Index Option-Adjusted Spread'라는 하이일드 채권 스프레드 데이터를 제공합니다."
   ]
  },
  {
   "cell_type": "code",
   "execution_count": null,
   "metadata": {
    "colab": {
     "base_uri": "https://localhost:8080/",
     "height": 367
    },
    "id": "qzpq5TzLY7jw",
    "outputId": "6d654bf8-8fdc-402c-98f8-cad7a8b0718b"
   },
   "outputs": [],
   "source": [
    "# 2008년 금융위기, 나스닥지수(NASDAQCOM)와 하이일드 채권 스프레드 \n",
    "\n",
    "df = fdr.DataReader(['NASDAQCOM', 'BAMLH0A0HYM2'], start='2005', end='2011', data_source='fred')\n",
    "ax = df.plot(secondary_y='NASDAQCOM')\n",
    "ax = ax.axvspan('2007-12-01', '2009-03-30', color='gray', alpha=0.2)"
   ]
  },
  {
   "cell_type": "code",
   "execution_count": null,
   "metadata": {
    "colab": {
     "base_uri": "https://localhost:8080/",
     "height": 375
    },
    "id": "GFJjW8kAJ4Gg",
    "outputId": "afb3ed11-5ddb-4ce0-e2f0-e21e7adea953"
   },
   "outputs": [],
   "source": [
    "# 최근(2020년 10월), 나스닥지수(NASDAQCOM)와 하이일드 채권 스프레드 \n",
    "\n",
    "df = fdr.DataReader(['NASDAQCOM', 'BAMLH0A0HYM2'], start='2019', data_source='fred')\n",
    "ax = df.plot(secondary_y='NASDAQCOM')"
   ]
  },
  {
   "cell_type": "markdown",
   "metadata": {
    "id": "ehI6n7627EAX"
   },
   "source": [
    "## 결론\n",
    "1. 주간 실업수당 청구 건수 (ICSA): 긍정적(지속↓)\n",
    "2. 소비자심리지수 (UMCSENT): 부정적(하락)\n",
    "3. 주택 판매 지수 (HSN1F): 긍정적(지속↑) \n",
    "4. 실업률 (UNRATE): 긍정적(지속↓)\n",
    "5. M2 통화량(M2): 긍정적(지속↑)\n",
    "6. 하이일드 채권 스프레드 (BAMLH0A0HYM2): 긍정적(지속↓)\n"
   ]
  },
  {
   "cell_type": "markdown",
   "metadata": {
    "id": "wrz4v0ypQR9j"
   },
   "source": [
    "\n",
    "#### 2020 [FinanceData.KR]() | [facebook.com/financedata]()"
   ]
  },
  {
   "cell_type": "code",
   "execution_count": null,
   "metadata": {},
   "outputs": [],
   "source": []
  }
 ],
 "metadata": {
  "colab": {
   "collapsed_sections": [],
   "name": "FinanceDataReader Tutorial - FRED 경기 선행 지표.ipynb",
   "provenance": []
  },
  "kernelspec": {
   "display_name": "Python 3",
   "language": "python",
   "name": "python3"
  },
  "language_info": {
   "codemirror_mode": {
    "name": "ipython",
    "version": 3
   },
   "file_extension": ".py",
   "mimetype": "text/x-python",
   "name": "python",
   "nbconvert_exporter": "python",
   "pygments_lexer": "ipython3",
   "version": "3.7.6"
  }
 },
 "nbformat": 4,
 "nbformat_minor": 1
}
