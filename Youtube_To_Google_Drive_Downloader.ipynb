{
  "nbformat": 4,
  "nbformat_minor": 0,
  "metadata": {
    "colab": {
      "name": "Youtube_To_Google_Drive_Downloader.ipynb",
      "provenance": [],
      "collapsed_sections": [],
      "include_colab_link": true
    },
    "kernelspec": {
      "name": "python3",
      "display_name": "Python 3"
    }
  },
  "cells": [
    {
      "cell_type": "markdown",
      "metadata": {
        "id": "view-in-github",
        "colab_type": "text"
      },
      "source": [
        "<a href=\"https://colab.research.google.com/github/TaewonyNet/toys/blob/master/Youtube_To_Google_Drive_Downloader.ipynb\" target=\"_parent\"><img src=\"https://colab.research.google.com/assets/colab-badge.svg\" alt=\"Open In Colab\"/></a>"
      ]
    },
    {
      "cell_type": "code",
      "metadata": {
        "id": "R231dz_ZL11Q",
        "colab_type": "code",
        "colab": {}
      },
      "source": [
        "# 구글 드라이브 연결\n",
        "!pip install youtube_dl\n",
        "\n",
        "import os\n",
        "import youtube_dl\n",
        "from google.colab import drive\n",
        "from google.colab import files\n",
        "\n",
        "# 다운로드 받을 위치\n",
        "downloadpath = '/Youtube'\n",
        "mountpath = '/content/drive'\n",
        "# drive.mount(\"/content/drive\")\n",
        "drive.mount(mountpath, force_remount=False)\n",
        "savepath = mountpath + \"/My Drive\" + downloadpath\n",
        "\n",
        "import time\n",
        "from IPython.display import display\n",
        "import ipywidgets as widgets\n",
        "import sys\n",
        "import requests\n",
        "\n",
        "def download_video_and_subtitle(output_dir, youtube_video_list):\n",
        "\n",
        "    #download_path = os.path.join(output_dir, '%(id)s-%(title)s.%(ext)s')\n",
        "    download_path = os.path.join(output_dir, '%(title)s.%(ext)s')\n",
        "\n",
        "    \n",
        "    for video_url in youtube_video_list:\n",
        "\n",
        "        # youtube_dl options https://github.com/ytdl-org/youtube-dl\n",
        "        # https://github.com/ytdl-org/youtube-dl/blob/master/youtube_dl/YoutubeDL.py\n",
        "        ydl_opts = {\n",
        "            'format': 'best/best',  # 가장 좋은 화질로 선택(화질을 선택하여 다운로드 가능)\n",
        "            'outtmpl': download_path, # 다운로드 경로 설정\n",
        "            'writesubtitles': 'best', # 자막 다운로드(자막이 없는 경우 다운로드 X)\n",
        "            'writethumbnail': 'best',  # 영상 thumbnail 다운로드\n",
        "            'writeautomaticsub': True, # 자동 생성된 자막 다운로드\n",
        "            'subtitleslangs': 'en',  # 자막 언어가 영어인 경우(다른 언어로 변경 가능)\n",
        "            'keepvideo': True,\n",
        "            'postprocessors': [{\n",
        "                'key': 'FFmpegExtractAudio',\n",
        "                'preferredcodec': 'mp3',\n",
        "                #'preferredquality': '192',\n",
        "            }],\n",
        "            'quiet': False\n",
        "        }\n",
        "\n",
        "        try:\n",
        "            with youtube_dl.YoutubeDL(ydl_opts) as ydl:\n",
        "                ydl.download([video_url])\n",
        "        except Exception as e:\n",
        "            print('error', e)\n",
        "\n",
        "\n",
        "\n"
      ],
      "execution_count": 0,
      "outputs": []
    },
    {
      "cell_type": "code",
      "metadata": {
        "id": "YtOocasvL5r_",
        "colab_type": "code",
        "colab": {
          "base_uri": "https://localhost:8080/",
          "height": 179
        },
        "outputId": "b7d6e99a-8016-4a4b-9df1-2e67ccd0b3ce"
      },
      "source": [
        "if __name__ == '__main__':\n",
        "\n",
        "    youtube_url_list = [  # 유투브에서 다운로드 하려는 영상의 주소 리스트(아래는 Sample Video 리스트)\n",
        "        \"https://m.youtube.com/playlist?list=PLwAhia4ND7XAu6DiWkQ3ZgWW-2Kxe82JW\",\n",
        "    ]\n",
        "    download_video_and_subtitle(savepath, youtube_url_list)\n",
        "    print('Complete download!')"
      ],
      "execution_count": 0,
      "outputs": [
        {
          "output_type": "stream",
          "text": [
            "[download] Downloading video 8 of 45\n",
            "[youtube] _6zDNpGDa3s: Downloading webpage\n"
          ],
          "name": "stdout"
        },
        {
          "output_type": "stream",
          "text": [
            "WARNING: video doesn't have subtitles\n"
          ],
          "name": "stderr"
        },
        {
          "output_type": "stream",
          "text": [
            "[youtube] _6zDNpGDa3s: Looking for automatic captions\n"
          ],
          "name": "stdout"
        },
        {
          "output_type": "stream",
          "text": [
            "WARNING: Couldn't find automatic captions for _6zDNpGDa3s\n"
          ],
          "name": "stderr"
        },
        {
          "output_type": "stream",
          "text": [
            "[youtube] _6zDNpGDa3s: Downloading thumbnail ...\n",
            "[youtube] _6zDNpGDa3s: Writing thumbnail to: /content/drive/My Drive/Youtube/백설공주 노래모음 _ 동요 모음 _ 공주이야기 _ 동화뮤지컬 _ 주니토니 by 키즈캐슬.jpg\n",
            "[download] Destination: /content/drive/My Drive/Youtube/백설공주 노래모음 _ 동요 모음 _ 공주이야기 _ 동화뮤지컬 _ 주니토니 by 키즈캐슬.mp4\n",
            "[download]  72.9% of 21.94MiB at 20.50MiB/s ETA 00:00"
          ],
          "name": "stdout"
        }
      ]
    }
  ]
}