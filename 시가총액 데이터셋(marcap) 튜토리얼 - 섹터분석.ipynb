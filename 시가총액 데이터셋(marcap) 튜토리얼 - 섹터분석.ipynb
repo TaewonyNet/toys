{
 "cells": [
  {
   "cell_type": "markdown",
   "metadata": {
    "id": "nm-lmCy_p50f"
   },
   "source": [
    "# 시가총액 데이터셋(marcap) 튜토리얼 - 섹터분석\n",
    "\n",
    "<img src=\"https://i.imgur.com/b9t5FAA.png?1\" width=\"60%\">\n",
    "\n",
    "* 한국거래소(KRX)에서 일자별 시가총액 순위 데이터\n",
    "* 1995-05-02 ~ 2020-12-31 (26년간), 1천만건 이상\n",
    "\n",
    "#### 2018 - 2021 [FinanceData.KR]()"
   ]
  },
  {
   "cell_type": "markdown",
   "metadata": {
    "id": "AS3KHB35PJc3"
   },
   "source": [
    "## 환경 설정 - matplotlib 한글 (구글 Colab)\n",
    "\n",
    "구글 Colab (혹은 우분투 리눅스)의 경우 별도의 한글 폰트 설치가 필요합니다. matplotlib에서 모든 FFT(True Type Font)를 가져다 사용할 수 있습니다.\n",
    "\n",
    "여기서는 명령라인에서 폰트를 가져다 설치합니다.\n",
    "\n",
    "matplotlib 전역 환경을 파라미터들을 설정해 줍니다. 차트 이미지의 크기, 폰트, 라인 속성 등을 지정할 수 있습니다."
   ]
  },
  {
   "cell_type": "markdown",
   "metadata": {
    "id": "QCmX685Y7B-n"
   },
   "source": [
    "한글 폰트 설치\n",
    "\n",
    "아래 셀을 실행하고, 런타임 재시작 (메뉴의 \"런타임 / 런타임 다시 시작...\") 후\n",
    "다시 한번 아래 셀을 실행합니다.\n",
    "\n",
    "'한글 테스트' 가 표시되면 성공한 것입니다."
   ]
  },
  {
   "cell_type": "code",
   "execution_count": 1,
   "metadata": {
    "colab": {
     "base_uri": "https://localhost:8080/",
     "height": 244
    },
    "id": "N-sbjZW8PIYB",
    "outputId": "6cb2a4de-e400-4575-83e3-93df2889101c"
   },
   "outputs": [
    {
     "name": "stderr",
     "output_type": "stream",
     "text": [
      "'apt-get'은(는) 내부 또는 외부 명령, 실행할 수 있는 프로그램, 또는\n",
      "배치 파일이 아닙니다.\n",
      "'rm'은(는) 내부 또는 외부 명령, 실행할 수 있는 프로그램, 또는\n",
      "배치 파일이 아닙니다.\n"
     ]
    },
    {
     "data": {
      "text/plain": [
       "Text(0.5, 1.0, '한글 테스트')"
      ]
     },
     "execution_count": 1,
     "metadata": {},
     "output_type": "execute_result"
    },
    {
     "name": "stderr",
     "output_type": "stream",
     "text": [
      "findfont: Font family ['NanumBarunGothic'] not found. Falling back to DejaVu Sans.\n",
      "C:\\ProgramData\\Anaconda3\\lib\\site-packages\\matplotlib\\backends\\backend_agg.py:211: RuntimeWarning: Glyph 54620 missing from current font.\n",
      "  font.set_text(s, 0.0, flags=flags)\n",
      "C:\\ProgramData\\Anaconda3\\lib\\site-packages\\matplotlib\\backends\\backend_agg.py:211: RuntimeWarning: Glyph 44544 missing from current font.\n",
      "  font.set_text(s, 0.0, flags=flags)\n",
      "C:\\ProgramData\\Anaconda3\\lib\\site-packages\\matplotlib\\backends\\backend_agg.py:211: RuntimeWarning: Glyph 53580 missing from current font.\n",
      "  font.set_text(s, 0.0, flags=flags)\n",
      "C:\\ProgramData\\Anaconda3\\lib\\site-packages\\matplotlib\\backends\\backend_agg.py:211: RuntimeWarning: Glyph 49828 missing from current font.\n",
      "  font.set_text(s, 0.0, flags=flags)\n",
      "C:\\ProgramData\\Anaconda3\\lib\\site-packages\\matplotlib\\backends\\backend_agg.py:211: RuntimeWarning: Glyph 53944 missing from current font.\n",
      "  font.set_text(s, 0.0, flags=flags)\n",
      "findfont: Font family ['NanumBarunGothic'] not found. Falling back to DejaVu Sans.\n",
      "C:\\ProgramData\\Anaconda3\\lib\\site-packages\\matplotlib\\backends\\backend_agg.py:180: RuntimeWarning: Glyph 54620 missing from current font.\n",
      "  font.set_text(s, 0, flags=flags)\n",
      "C:\\ProgramData\\Anaconda3\\lib\\site-packages\\matplotlib\\backends\\backend_agg.py:180: RuntimeWarning: Glyph 44544 missing from current font.\n",
      "  font.set_text(s, 0, flags=flags)\n",
      "C:\\ProgramData\\Anaconda3\\lib\\site-packages\\matplotlib\\backends\\backend_agg.py:180: RuntimeWarning: Glyph 53580 missing from current font.\n",
      "  font.set_text(s, 0, flags=flags)\n",
      "C:\\ProgramData\\Anaconda3\\lib\\site-packages\\matplotlib\\backends\\backend_agg.py:180: RuntimeWarning: Glyph 49828 missing from current font.\n",
      "  font.set_text(s, 0, flags=flags)\n",
      "C:\\ProgramData\\Anaconda3\\lib\\site-packages\\matplotlib\\backends\\backend_agg.py:180: RuntimeWarning: Glyph 53944 missing from current font.\n",
      "  font.set_text(s, 0, flags=flags)\n"
     ]
    },
    {
     "data": {
      "image/png": "[encoded data removed]",
      "text/plain": [
       "<Figure size 720x216 with 1 Axes>"
      ]
     },
     "metadata": {
      "needs_background": "light"
     },
     "output_type": "display_data"
    }
   ],
   "source": [
    "# 한글 폰트 설치와 폰트 캐시 재설정\n",
    "!apt-get install -y -qq fonts-nanum\n",
    "!rm -rf ~/.cache/matplotlib/*\n",
    "\n",
    "# matplotlib 설정\n",
    "import matplotlib.pyplot as plt\n",
    "\n",
    "plt.rcParams[\"font.family\"] = 'NanumBarunGothic'\n",
    "plt.rcParams[\"axes.grid\"] = True\n",
    "plt.rcParams[\"figure.figsize\"] = (10,3)\n",
    "plt.rcParams[\"axes.formatter.useoffset\"] = False\n",
    "plt.rcParams['axes.unicode_minus'] = False\n",
    "plt.rcParams[\"axes.formatter.limits\"] = -10000, 10000\n",
    "\n",
    "plt.title('한글 테스트')"
   ]
  },
  {
   "cell_type": "markdown",
   "metadata": {
    "id": "SMo2CjS9PQ-P"
   },
   "source": [
    "## 시가총액 데이터셋(marcap) 가져오기\n",
    "다음과 같이 단 한 줄의 명령으로 데이터를 가져올 수 있습니다."
   ]
  },
  {
   "cell_type": "code",
   "execution_count": 3,
   "metadata": {
    "colab": {
     "base_uri": "https://localhost:8080/"
    },
    "id": "eQkz1AT2PCa8",
    "outputId": "ca684b43-af4f-4abd-fdc0-18da6d59f3bd"
   },
   "outputs": [
    {
     "name": "stderr",
     "output_type": "stream",
     "text": [
      "Cloning into 'marcap'...\n",
      "Updating files:  64% (24/37)\n",
      "Updating files:  67% (25/37)\n",
      "Updating files:  70% (26/37)\n",
      "Updating files:  72% (27/37)\n",
      "Updating files:  75% (28/37)\n",
      "Updating files:  78% (29/37)\n",
      "Updating files:  81% (30/37)\n",
      "Updating files:  83% (31/37)\n",
      "Updating files:  86% (32/37)\n",
      "Updating files:  89% (33/37)\n",
      "Updating files:  91% (34/37)\n",
      "Updating files:  94% (35/37)\n",
      "Updating files:  97% (36/37)\n",
      "Updating files: 100% (37/37)\n",
      "Updating files: 100% (37/37), done.\n"
     ]
    }
   ],
   "source": [
    "!git clone \"https://github.com/FinanceData/marcap.git\" marcap"
   ]
  },
  {
   "cell_type": "code",
   "execution_count": 4,
   "metadata": {
    "colab": {
     "base_uri": "https://localhost:8080/",
     "height": 448
    },
    "id": "Rv_Fc6bM3DyO",
    "outputId": "be21ea78-f08d-4442-b747-31ee735ee95b"
   },
   "outputs": [
    {
     "name": "stdout",
     "output_type": "stream",
     "text": [
      "cannot safely convert passed user dtype of int32 for float64 dtyped data in column 12\n",
      "cannot safely convert passed user dtype of int32 for float64 dtyped data in column 12\n",
      "cannot safely convert passed user dtype of int32 for float64 dtyped data in column 12\n",
      "cannot safely convert passed user dtype of int32 for float64 dtyped data in column 12\n",
      "cannot safely convert passed user dtype of int32 for float64 dtyped data in column 12\n",
      "cannot safely convert passed user dtype of int32 for float64 dtyped data in column 12\n",
      "cannot safely convert passed user dtype of int32 for float64 dtyped data in column 12\n",
      "cannot safely convert passed user dtype of int32 for float64 dtyped data in column 12\n",
      "cannot safely convert passed user dtype of int32 for float64 dtyped data in column 12\n",
      "cannot safely convert passed user dtype of int32 for float64 dtyped data in column 12\n",
      "cannot safely convert passed user dtype of int32 for float64 dtyped data in column 12\n",
      "cannot safely convert passed user dtype of int32 for float64 dtyped data in column 12\n",
      "cannot safely convert passed user dtype of int32 for float64 dtyped data in column 12\n",
      "cannot safely convert passed user dtype of int32 for float64 dtyped data in column 12\n",
      "cannot safely convert passed user dtype of int32 for float64 dtyped data in column 12\n",
      "cannot safely convert passed user dtype of int32 for float64 dtyped data in column 12\n",
      "cannot safely convert passed user dtype of int32 for float64 dtyped data in column 12\n",
      "cannot safely convert passed user dtype of int32 for float64 dtyped data in column 12\n",
      "cannot safely convert passed user dtype of int32 for float64 dtyped data in column 12\n",
      "cannot safely convert passed user dtype of int32 for float64 dtyped data in column 12\n",
      "cannot safely convert passed user dtype of int32 for float64 dtyped data in column 12\n",
      "cannot safely convert passed user dtype of int32 for float64 dtyped data in column 12\n",
      "cannot safely convert passed user dtype of int32 for float64 dtyped data in column 12\n",
      "cannot safely convert passed user dtype of int32 for float64 dtyped data in column 12\n",
      "cannot safely convert passed user dtype of int32 for float64 dtyped data in column 12\n",
      "cannot safely convert passed user dtype of int32 for float64 dtyped data in column 12\n",
      "cannot safely convert passed user dtype of int32 for float64 dtyped data in column 12\n"
     ]
    },
    {
     "ename": "ValueError",
     "evalue": "No objects to concatenate",
     "output_type": "error",
     "traceback": [
      "\u001b[1;31m---------------------------------------------------------------------------\u001b[0m",
      "\u001b[1;31mValueError\u001b[0m                                Traceback (most recent call last)",
      "\u001b[1;32m<ipython-input-4-cf4ac2dc9f8d>\u001b[0m in \u001b[0;36m<module>\u001b[1;34m\u001b[0m\n\u001b[0;32m      1\u001b[0m \u001b[1;32mfrom\u001b[0m \u001b[0mmarcap\u001b[0m \u001b[1;32mimport\u001b[0m \u001b[0mmarcap_data\u001b[0m\u001b[1;33m\u001b[0m\u001b[1;33m\u001b[0m\u001b[0m\n\u001b[0;32m      2\u001b[0m \u001b[1;33m\u001b[0m\u001b[0m\n\u001b[1;32m----> 3\u001b[1;33m \u001b[0mdf_marcap\u001b[0m \u001b[1;33m=\u001b[0m \u001b[0mmarcap_data\u001b[0m\u001b[1;33m(\u001b[0m\u001b[1;34m'1995-05-02'\u001b[0m\u001b[1;33m,\u001b[0m \u001b[1;34m'2021-01-15'\u001b[0m\u001b[1;33m)\u001b[0m\u001b[1;33m\u001b[0m\u001b[1;33m\u001b[0m\u001b[0m\n\u001b[0m\u001b[0;32m      4\u001b[0m \u001b[0mdf_marcap\u001b[0m\u001b[1;33m\u001b[0m\u001b[1;33m\u001b[0m\u001b[0m\n",
      "\u001b[1;32mD:\\.Projects\\toys\\marcap\\marcap_utils.py\u001b[0m in \u001b[0;36mmarcap_data\u001b[1;34m(start, end, code)\u001b[0m\n\u001b[0;32m     32\u001b[0m       \u001b[0mprint\u001b[0m\u001b[1;33m(\u001b[0m\u001b[0me\u001b[0m\u001b[1;33m)\u001b[0m\u001b[1;33m\u001b[0m\u001b[1;33m\u001b[0m\u001b[0m\n\u001b[0;32m     33\u001b[0m       \u001b[1;32mpass\u001b[0m\u001b[1;33m\u001b[0m\u001b[1;33m\u001b[0m\u001b[0m\n\u001b[1;32m---> 34\u001b[1;33m   \u001b[0mdf_merged\u001b[0m \u001b[1;33m=\u001b[0m \u001b[0mpd\u001b[0m\u001b[1;33m.\u001b[0m\u001b[0mconcat\u001b[0m\u001b[1;33m(\u001b[0m\u001b[0mdf_list\u001b[0m\u001b[1;33m)\u001b[0m\u001b[1;33m\u001b[0m\u001b[1;33m\u001b[0m\u001b[0m\n\u001b[0m\u001b[0;32m     35\u001b[0m   \u001b[0mdf_merged\u001b[0m \u001b[1;33m=\u001b[0m \u001b[0mdf_merged\u001b[0m\u001b[1;33m[\u001b[0m\u001b[1;33m(\u001b[0m\u001b[0mstart\u001b[0m \u001b[1;33m<=\u001b[0m \u001b[0mdf_merged\u001b[0m\u001b[1;33m[\u001b[0m\u001b[1;34m'Date'\u001b[0m\u001b[1;33m]\u001b[0m\u001b[1;33m)\u001b[0m \u001b[1;33m&\u001b[0m \u001b[1;33m(\u001b[0m\u001b[0mdf_merged\u001b[0m\u001b[1;33m[\u001b[0m\u001b[1;34m'Date'\u001b[0m\u001b[1;33m]\u001b[0m \u001b[1;33m<=\u001b[0m \u001b[0mend\u001b[0m\u001b[1;33m)\u001b[0m\u001b[1;33m]\u001b[0m\u001b[1;33m\u001b[0m\u001b[1;33m\u001b[0m\u001b[0m\n\u001b[0;32m     36\u001b[0m   \u001b[0mdf_merged\u001b[0m \u001b[1;33m=\u001b[0m \u001b[0mdf_merged\u001b[0m\u001b[1;33m.\u001b[0m\u001b[0msort_values\u001b[0m\u001b[1;33m(\u001b[0m\u001b[1;33m[\u001b[0m\u001b[1;34m'Date'\u001b[0m\u001b[1;33m,\u001b[0m\u001b[1;34m'Rank'\u001b[0m\u001b[1;33m]\u001b[0m\u001b[1;33m)\u001b[0m\u001b[1;33m\u001b[0m\u001b[1;33m\u001b[0m\u001b[0m\n",
      "\u001b[1;32m~\\AppData\\Roaming\\Python\\Python37\\site-packages\\pandas\\core\\reshape\\concat.py\u001b[0m in \u001b[0;36mconcat\u001b[1;34m(objs, axis, join, ignore_index, keys, levels, names, verify_integrity, sort, copy)\u001b[0m\n\u001b[0;32m    282\u001b[0m         \u001b[0mverify_integrity\u001b[0m\u001b[1;33m=\u001b[0m\u001b[0mverify_integrity\u001b[0m\u001b[1;33m,\u001b[0m\u001b[1;33m\u001b[0m\u001b[1;33m\u001b[0m\u001b[0m\n\u001b[0;32m    283\u001b[0m         \u001b[0mcopy\u001b[0m\u001b[1;33m=\u001b[0m\u001b[0mcopy\u001b[0m\u001b[1;33m,\u001b[0m\u001b[1;33m\u001b[0m\u001b[1;33m\u001b[0m\u001b[0m\n\u001b[1;32m--> 284\u001b[1;33m         \u001b[0msort\u001b[0m\u001b[1;33m=\u001b[0m\u001b[0msort\u001b[0m\u001b[1;33m,\u001b[0m\u001b[1;33m\u001b[0m\u001b[1;33m\u001b[0m\u001b[0m\n\u001b[0m\u001b[0;32m    285\u001b[0m     )\n\u001b[0;32m    286\u001b[0m \u001b[1;33m\u001b[0m\u001b[0m\n",
      "\u001b[1;32m~\\AppData\\Roaming\\Python\\Python37\\site-packages\\pandas\\core\\reshape\\concat.py\u001b[0m in \u001b[0;36m__init__\u001b[1;34m(self, objs, axis, join, keys, levels, names, ignore_index, verify_integrity, copy, sort)\u001b[0m\n\u001b[0;32m    329\u001b[0m \u001b[1;33m\u001b[0m\u001b[0m\n\u001b[0;32m    330\u001b[0m         \u001b[1;32mif\u001b[0m \u001b[0mlen\u001b[0m\u001b[1;33m(\u001b[0m\u001b[0mobjs\u001b[0m\u001b[1;33m)\u001b[0m \u001b[1;33m==\u001b[0m \u001b[1;36m0\u001b[0m\u001b[1;33m:\u001b[0m\u001b[1;33m\u001b[0m\u001b[1;33m\u001b[0m\u001b[0m\n\u001b[1;32m--> 331\u001b[1;33m             \u001b[1;32mraise\u001b[0m \u001b[0mValueError\u001b[0m\u001b[1;33m(\u001b[0m\u001b[1;34m\"No objects to concatenate\"\u001b[0m\u001b[1;33m)\u001b[0m\u001b[1;33m\u001b[0m\u001b[1;33m\u001b[0m\u001b[0m\n\u001b[0m\u001b[0;32m    332\u001b[0m \u001b[1;33m\u001b[0m\u001b[0m\n\u001b[0;32m    333\u001b[0m         \u001b[1;32mif\u001b[0m \u001b[0mkeys\u001b[0m \u001b[1;32mis\u001b[0m \u001b[1;32mNone\u001b[0m\u001b[1;33m:\u001b[0m\u001b[1;33m\u001b[0m\u001b[1;33m\u001b[0m\u001b[0m\n",
      "\u001b[1;31mValueError\u001b[0m: No objects to concatenate"
     ]
    }
   ],
   "source": [
    "from marcap import marcap_data\n",
    "\n",
    "df_marcap = marcap_data('1995-05-02', '2021-01-15')\n",
    "df_marcap"
   ]
  },
  {
   "cell_type": "code",
   "execution_count": null,
   "metadata": {
    "colab": {
     "base_uri": "https://localhost:8080/"
    },
    "id": "Mq0ElBDQiZhD",
    "outputId": "a5a7594d-f663-4d37-846b-4fb7dc39539e"
   },
   "outputs": [],
   "source": [
    "len(df_marcap)"
   ]
  },
  {
   "cell_type": "markdown",
   "metadata": {
    "id": "12nPyJ8s7Mg5"
   },
   "source": [
    "## 환경 설정 - 판다스 출력 자리수\n",
    "\n",
    "숫자가 커서 과학적 표기법(10의 승수로 표현)으로 표시되면 오히려 읽기 좋지 않은 경우가 있습니다.\n",
    "\n",
    "pandas에서 수치값을 출력할 때 과학적 표기법을 사용하지 않고, 소수점 이하 몇 자리 출력할 것인지를 정해줍니다."
   ]
  },
  {
   "cell_type": "code",
   "execution_count": null,
   "metadata": {
    "id": "iMdOn7B0O636"
   },
   "outputs": [],
   "source": [
    "import pandas as pd\n",
    "pd.options.display.float_format = '{:.1f}'.format"
   ]
  },
  {
   "cell_type": "markdown",
   "metadata": {
    "id": "vpDqOV0mO652"
   },
   "source": [
    "## 섹터 분석\n",
    "\n",
    "[FinanceDataReader](https://financedata.github.io/FinanceDataReader/)를 사용하면 전체종목 코드와 섹터 데이터를 손쉽게 가져올 수 있습니다.\n",
    "\n",
    "\n",
    "[FinanceDataReader](https://financedata.github.io/FinanceDataReader/)는 다음과 같이 설치합니다."
   ]
  },
  {
   "cell_type": "code",
   "execution_count": null,
   "metadata": {
    "id": "wb2yiCIa8qQn"
   },
   "outputs": [],
   "source": [
    "!pip install -q finance-datareader"
   ]
  },
  {
   "cell_type": "markdown",
   "metadata": {
    "id": "eNxdy1O3MyKl"
   },
   "source": [
    "다음과 같이 간편하게 전체종목 코드와 섹터 데이터를 가져올 수 있습니다.\n",
    "전체종목 목록을 \"종목마스터\"(df_master)라고 부르겠습니다."
   ]
  },
  {
   "cell_type": "code",
   "execution_count": null,
   "metadata": {
    "colab": {
     "base_uri": "https://localhost:8080/",
     "height": 358
    },
    "id": "tWflH9OUO652",
    "outputId": "412395bd-63c9-42ff-fc11-46e97676812b"
   },
   "outputs": [],
   "source": [
    "import FinanceDataReader as fdr\n",
    "\n",
    "df_master = fdr.StockListing('KRX')\n",
    "df_master.head(10)"
   ]
  },
  {
   "cell_type": "code",
   "execution_count": null,
   "metadata": {
    "colab": {
     "base_uri": "https://localhost:8080/"
    },
    "id": "oyIboW2bXTN7",
    "outputId": "c4444f22-f5c5-430b-963d-70834bbd1f83"
   },
   "outputs": [],
   "source": [
    "len(df_master)"
   ]
  },
  {
   "cell_type": "markdown",
   "metadata": {
    "id": "mvB2K3VUVQQi"
   },
   "source": [
    "ETF 혹은 우선주에는 Sector 값이 지정되어 있지 않습니다. 따라서 Sector 가 지정된(즉, NaN이 아닌) 종목만 추출합니다."
   ]
  },
  {
   "cell_type": "code",
   "execution_count": null,
   "metadata": {
    "colab": {
     "base_uri": "https://localhost:8080/",
     "height": 417
    },
    "id": "-Wberz5aWKd0",
    "outputId": "fefbab85-270d-404f-d3f2-2204edac0e0e"
   },
   "outputs": [],
   "source": [
    "df_master = df_master.dropna(subset=['Sector'])\n",
    "df_master"
   ]
  },
  {
   "cell_type": "markdown",
   "metadata": {
    "id": "uC6dviANO65_"
   },
   "source": [
    "## 전체종목과 시가총액 데이터 병합\n",
    "다음 두 데이터를 종목코드를 기준으로 병합합니다.\n",
    "\n",
    "* 종목마스터(df_master): 종목코드(Symbol), 섹터(Sector)\n",
    "* 시가총액 데이터(df_marcap): 종목코드(Code), 종목명(Name), 시가총액(Marcap)\n"
   ]
  },
  {
   "cell_type": "markdown",
   "metadata": {
    "id": "yYY6X47-dJK2"
   },
   "source": [
    "시가총액 데이터(df_marcap)에서 종목코드(Code), 종목명(Name), 시가총액(Marcap) 데이터만 사용하고, \n",
    "이후 날짜를 사용하기 위해 인덱스를 풀어(reset_index)줍니다. "
   ]
  },
  {
   "cell_type": "code",
   "execution_count": null,
   "metadata": {
    "colab": {
     "base_uri": "https://localhost:8080/",
     "height": 417
    },
    "id": "dghrXXR2axT-",
    "outputId": "ff4d1453-dc9e-4545-bfdb-0d30bc825bb5"
   },
   "outputs": [],
   "source": [
    "df_marcap[['Code', 'Name', 'Marcap']].reset_index()"
   ]
  },
  {
   "cell_type": "markdown",
   "metadata": {
    "id": "Uqq_VPmkO654"
   },
   "source": [
    "\"종목마스터\"(df_master)에서 종목코드(Symbol)와 섹터(Sector) 데이터만 활용합니다."
   ]
  },
  {
   "cell_type": "code",
   "execution_count": null,
   "metadata": {
    "colab": {
     "base_uri": "https://localhost:8080/",
     "height": 417
    },
    "id": "sHjPmGoqO655",
    "outputId": "abd6637d-4b9c-4780-e2d7-f1cd6c273ab7"
   },
   "outputs": [],
   "source": [
    "df_master[['Symbol', 'Sector']]"
   ]
  },
  {
   "cell_type": "markdown",
   "metadata": {
    "id": "hGsGq8C4dxqM"
   },
   "source": [
    "종목코드를 기준으로 시가총액 데이터(df_marcap)와 종목마스터(df_master)를 병합 합니다. 개별 종목에 Sector를 지정하기 위함입니다. "
   ]
  },
  {
   "cell_type": "code",
   "execution_count": null,
   "metadata": {
    "colab": {
     "base_uri": "https://localhost:8080/",
     "height": 417
    },
    "id": "UZNIEh10bFdr",
    "outputId": "6f7c4ccc-0ad8-4c9f-d065-f82a939a7587"
   },
   "outputs": [],
   "source": [
    "df = pd.merge(df_marcap[['Code', 'Name', 'Marcap']].reset_index(), df_master[['Symbol', 'Sector']], left_on='Code', right_on=\"Symbol\")\n",
    "df"
   ]
  },
  {
   "cell_type": "markdown",
   "metadata": {
    "id": "GkQU2QUaeC9p"
   },
   "source": [
    "피벗하여 날짜별(로우), 섹터(컬럼) 시가총액 합계를 구합니다."
   ]
  },
  {
   "cell_type": "code",
   "execution_count": null,
   "metadata": {
    "colab": {
     "base_uri": "https://localhost:8080/",
     "height": 690
    },
    "id": "jmgKdClKbFbQ",
    "outputId": "6b21c0b0-ef3e-4df4-d875-2921697fd51d"
   },
   "outputs": [],
   "source": [
    "marcap_sector = pd.pivot_table(df, index='Date', columns='Sector', values='Marcap', aggfunc='sum')\n",
    "marcap_sector"
   ]
  },
  {
   "cell_type": "code",
   "execution_count": null,
   "metadata": {
    "colab": {
     "base_uri": "https://localhost:8080/"
    },
    "id": "91Py9lgvgdhm",
    "outputId": "3ba12f86-474b-4b04-a33a-21303b1169a5"
   },
   "outputs": [],
   "source": [
    "marcap_sector.columns"
   ]
  },
  {
   "cell_type": "code",
   "execution_count": null,
   "metadata": {
    "colab": {
     "base_uri": "https://localhost:8080/"
    },
    "id": "pTXq-rSFillc",
    "outputId": "db8ea1b6-741b-4c0d-b978-1818b5729419"
   },
   "outputs": [],
   "source": [
    "marcap_sector.loc['2021-01-15'] # 특정한 날짜의 섹터별 시가총액"
   ]
  },
  {
   "cell_type": "markdown",
   "metadata": {
    "id": "9w7Bfj7gjDPU"
   },
   "source": [
    "특정한 날짜의 섹터별 시가총액을 소트하여 TOP 10을 구합니다"
   ]
  },
  {
   "cell_type": "code",
   "execution_count": null,
   "metadata": {
    "colab": {
     "base_uri": "https://localhost:8080/",
     "height": 389
    },
    "id": "ouHeydl8iz2X",
    "outputId": "c9d897b1-bb4f-41c6-8d51-1b488206309a"
   },
   "outputs": [],
   "source": [
    "pd.DataFrame(marcap_sector.loc['2021-01-15'].sort_values(ascending=False)).head(10)"
   ]
  },
  {
   "cell_type": "code",
   "execution_count": null,
   "metadata": {
    "colab": {
     "base_uri": "https://localhost:8080/"
    },
    "id": "bV6Cp4xNejuk",
    "outputId": "fd52d495-1623-46e5-c523-42ed038cb811"
   },
   "outputs": [],
   "source": [
    "cols = pd.DataFrame(marcap_sector.loc['2021-01-15'].sort_values(ascending=False)).head(10).index\n",
    "cols"
   ]
  },
  {
   "cell_type": "code",
   "execution_count": null,
   "metadata": {
    "colab": {
     "base_uri": "https://localhost:8080/",
     "height": 481
    },
    "id": "utEb0_SrbFXv",
    "outputId": "6fee5723-5bae-491f-8377-b4c09446d9b9"
   },
   "outputs": [],
   "source": [
    "marcap_sector[cols].plot(figsize=(14,8))"
   ]
  },
  {
   "cell_type": "markdown",
   "metadata": {
    "id": "R1hTY9SLjrwz"
   },
   "source": [
    "펜데믹을 중심으로 2020년 이후 TOP10 섹터를 살펴봅니다."
   ]
  },
  {
   "cell_type": "code",
   "execution_count": null,
   "metadata": {
    "colab": {
     "base_uri": "https://localhost:8080/",
     "height": 490
    },
    "id": "tD1xgKVvjxot",
    "outputId": "fe6c1ba2-4935-4308-9c48-30b36317668a"
   },
   "outputs": [],
   "source": [
    "marcap_sector.loc['2020':, cols].plot(figsize=(16,8))"
   ]
  },
  {
   "cell_type": "markdown",
   "metadata": {
    "id": "FFzzrrUUkXvc"
   },
   "source": [
    "'통신 및 방송 장비 제조업' 섹터의 시가총액이 다른 섹터에 비해 압도적으로 크고 또 가파르게 성장하는 것을 확인할 수 있습니다."
   ]
  },
  {
   "cell_type": "markdown",
   "metadata": {
    "id": "TT_xZvePkwMS"
   },
   "source": [
    "## 섹터별 종목수 \n",
    "TOP 10을 산출합니다."
   ]
  },
  {
   "cell_type": "code",
   "execution_count": null,
   "metadata": {
    "colab": {
     "base_uri": "https://localhost:8080/",
     "height": 636
    },
    "id": "4-qnLGWfkvPb",
    "outputId": "c2b3713b-04e8-4c1f-ccdf-ad6554046457"
   },
   "outputs": [],
   "source": [
    "marcap_sector_count = pd.pivot_table(df, index='Date', columns='Sector', values='Marcap', aggfunc='count')\n",
    "marcap_sector_count[cols]"
   ]
  },
  {
   "cell_type": "code",
   "execution_count": null,
   "metadata": {
    "colab": {
     "base_uri": "https://localhost:8080/",
     "height": 481
    },
    "id": "PMgQsuF7k-6n",
    "outputId": "96a341dc-a19d-475a-c23a-5fffaf8ef476"
   },
   "outputs": [],
   "source": [
    "marcap_sector_count[cols].plot(figsize=(16,8))"
   ]
  },
  {
   "cell_type": "code",
   "execution_count": null,
   "metadata": {
    "colab": {
     "base_uri": "https://localhost:8080/"
    },
    "id": "M8XCZMRUlRe5",
    "outputId": "3a05bb14-bb04-4ad8-eec5-d5d64e3ae247"
   },
   "outputs": [],
   "source": [
    "marcap_sector_count.loc['2021-01-15']"
   ]
  },
  {
   "cell_type": "code",
   "execution_count": null,
   "metadata": {
    "colab": {
     "base_uri": "https://localhost:8080/"
    },
    "id": "r4aSjlSYlede",
    "outputId": "7d06a434-28c6-4ade-c62f-edf8962ecffe"
   },
   "outputs": [],
   "source": [
    "count_top10 = marcap_sector_count.loc['2021-01-15'].sort_values(ascending=False)[:10]\n",
    "count_top10"
   ]
  },
  {
   "cell_type": "markdown",
   "metadata": {
    "id": "6o3HV4OtI-17"
   },
   "source": [
    "특정 날짜(2021-01-15)기준으로 가장 많은 종목은 '특수 목적용 기계 제조업', '소프트웨어 개발 및 공급업', '전자부품 제조업' 순이네요.\n",
    "\n",
    "섹터별 종목수 TOP 10을 파이차트로 표현해 봅니다. \n",
    "\n"
   ]
  },
  {
   "cell_type": "code",
   "execution_count": null,
   "metadata": {
    "colab": {
     "base_uri": "https://localhost:8080/",
     "height": 484
    },
    "id": "Uj-mrstpO66F",
    "outputId": "ec2aee2c-5b09-452c-fac2-428196bfd610"
   },
   "outputs": [],
   "source": [
    "count_top10.plot.pie(figsize=(8, 8))"
   ]
  },
  {
   "cell_type": "markdown",
   "metadata": {
    "id": "0HWECBqDOvW7"
   },
   "source": [
    "## 결론\n",
    "시가총액(marcap) 데이터셋은 26년간 개별 종목의 가격 등 다양한 데이터를 포함하고 있습니다. \n",
    "\n",
    "특정 분야의 종목의 시총을 일자별로 합산하면 특정 영역의 혹은 특정 산업의 트렌드를 분석하는데도 요긴하게 사용할 수 있으며, 산업의 규모나 트렌드 분석하는데도 사용할 수 있습니다."
   ]
  },
  {
   "cell_type": "markdown",
   "metadata": {
    "id": "1tQiMXMnp51X"
   },
   "source": [
    "#### 2018 - 2021 [FinanceData.KR]()"
   ]
  }
 ],
 "metadata": {
  "colab": {
   "collapsed_sections": [],
   "name": "marcap-tutorial-04-sector-analysis.ipynb",
   "provenance": []
  },
  "kernelspec": {
   "display_name": "Python 3",
   "language": "python",
   "name": "python3"
  },
  "language_info": {
   "codemirror_mode": {
    "name": "ipython",
    "version": 3
   },
   "file_extension": ".py",
   "mimetype": "text/x-python",
   "name": "python",
   "nbconvert_exporter": "python",
   "pygments_lexer": "ipython3",
   "version": "3.7.6"
  }
 },
 "nbformat": 4,
 "nbformat_minor": 1
}
