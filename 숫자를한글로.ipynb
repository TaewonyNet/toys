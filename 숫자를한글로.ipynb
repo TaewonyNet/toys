{
 "cells": [
  {
   "cell_type": "code",
   "execution_count": 1,
   "id": "e763b812",
   "metadata": {},
   "outputs": [
    {
     "name": "stdout",
     "output_type": "stream",
     "text": [
      "{1: '일', 2: '이', 3: '삼', 4: '사', 5: '오', 6: '육', 7: '칠', 8: '팔', 9: '구'} {1: '십', 2: '백', 3: '천'} {1: '만', 2: '억', 3: '조'}\n",
      "['백']\n",
      "['백', '']\n",
      "['백', '', '', '억']\n",
      "['백', '', '', '억', '']\n",
      "['백', '', '', '억', '', '']\n",
      "['백', '', '', '억', '', '', '이', '십']\n",
      "['백', '', '', '억', '', '', '이', '십', '', '만']\n",
      "['백', '', '', '억', '', '', '이', '십', '', '만', '']\n",
      "['백', '', '', '억', '', '', '이', '십', '', '만', '', '']\n",
      "['백', '', '', '억', '', '', '이', '십', '', '만', '', '', '십']\n",
      "['백', '', '', '억', '', '', '이', '십', '', '만', '', '', '십', '', '']\n",
      "10,000,200,010 백억이십만십\n"
     ]
    }
   ],
   "source": [
    "num_char = {i+1:x for i, x in enumerate('일이삼사오육칠팔구')}\n",
    "num_10 = {i+1:x for i, x in enumerate('십백천')}\n",
    "num_10000 = {i+1:x for i, x in enumerate('만억조')}\n",
    "print(num_char, num_10, num_10000)\n",
    "\n",
    "value = '10000200010'\n",
    "# value = input()\n",
    "\n",
    "result = []\n",
    "for i, x in enumerate(value):\n",
    "    no = int(x)\n",
    "    ln_no = len(value)-1\n",
    "    if no != 1 and ln_no != 1:\n",
    "        result.append(num_char.get(no, ''))\n",
    "    if no != 0:\n",
    "        result.append(num_10.get((ln_no - i) % 4, ''))\n",
    "    if (ln_no - i) % 4 == 0 and value[i-4+1:i+1] != '0000':\n",
    "        result.append(num_10000.get((ln_no - i) // 4, ''))\n",
    "    print(result)\n",
    "print(f'''{int(value):003,d} {''.join(result)}''')"
   ]
  },
  {
   "cell_type": "code",
   "execution_count": null,
   "id": "4cefca0b",
   "metadata": {},
   "outputs": [],
   "source": []
  }
 ],
 "metadata": {
  "kernelspec": {
   "display_name": "Python 3 (ipykernel)",
   "language": "python",
   "name": "python3"
  },
  "language_info": {
   "codemirror_mode": {
    "name": "ipython",
    "version": 3
   },
   "file_extension": ".py",
   "mimetype": "text/x-python",
   "name": "python",
   "nbconvert_exporter": "python",
   "pygments_lexer": "ipython3",
   "version": "3.10.6"
  }
 },
 "nbformat": 4,
 "nbformat_minor": 5
}
