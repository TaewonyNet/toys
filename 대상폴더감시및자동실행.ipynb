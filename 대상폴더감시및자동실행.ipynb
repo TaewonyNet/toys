{
 "cells": [
  {
   "cell_type": "code",
   "execution_count": 1,
   "metadata": {},
   "outputs": [],
   "source": [
    "import time\n",
    "import datetime\n",
    "import os\n",
    "import sys\n",
    "import schedule\n",
    "import psutil\n",
    "import re\n",
    "\n",
    "def find_proc(find_name, find_cmdline):\n",
    "    find_proc = None\n",
    "    find_map = None\n",
    "    re_cmdline = re.compile(find_cmdline)\n",
    "    #실행중인 전체 목록\n",
    "    for pid in reversed(psutil.pids()):\n",
    "        # 현재 실행중인프로세스\n",
    "        if psutil.pid_exists(pid):\n",
    "            try:\n",
    "                # 프로세스 획득\n",
    "                proc = psutil.Process(pid)\n",
    "                name = proc.name()\n",
    "                cmdline = proc.cmdline()\n",
    "                find_map = list(filter(re_cmdline.match, cmdline))\n",
    "                if find_name in name and find_map:\n",
    "#                     print(pid, name, cmdline)\n",
    "                    find_proc = proc\n",
    "                    break\n",
    "            except:\n",
    "                pass\n",
    "    return find_proc, find_map\n",
    "\n",
    "def find_file(find_path, find_pattern):\n",
    "    # 마지막 생성 파일 검색\n",
    "    re_cmdline = re.compile(find_pattern)\n",
    "    find_files = [[x, os.path.join(find_path, x), os.path.getctime(os.path.join(find_path, x))] \n",
    "     for x in filter(re_cmdline.match, os.listdir(find_path))]\n",
    "    find_files = sorted(find_files, key=lambda x:x[2], reverse=True)\n",
    "    return find_files"
   ]
  },
  {
   "cell_type": "code",
   "execution_count": null,
   "metadata": {},
   "outputs": [
    {
     "name": "stdout",
     "output_type": "stream",
     "text": [
      "run process psutil.Popen(pid=19936, name='java.exe', status='running', started='11:18:16')\n"
     ]
    }
   ],
   "source": [
    "def run():\n",
    "    # 실행중 프로그램 확인\n",
    "    target_path = 'C:\\.Projects\\home'\n",
    "    target_proc = 'java'\n",
    "    target_cmdline = ['-jar','{0}']\n",
    "    find_cmdline = '.*home-.*jar'\n",
    "#     target_proc = 'notepad'\n",
    "#     target_cmdline = '{0}'\n",
    "#     find_cmdline = '.*startup.*bat'\n",
    "    ps = find_proc(target_proc, find_cmdline)\n",
    "    # 프로그램이 실행중이 아닌라면\n",
    "    fs = find_file(target_path, find_cmdline)\n",
    "    if not ps[0]:\n",
    "        p = psutil.Popen([target_proc, *[str.format(x, fs[0][0]) for x in target_cmdline]], cwd=target_path)\n",
    "        print('run process', p)\n",
    "    # 실행중이나 파라미터가 다를경우\n",
    "    elif ps[1][0] != fs[0][0]:\n",
    "        ps[0].kill()\n",
    "        time.sleep(1)\n",
    "        p = psutil.Popen([target_proc, *[str.format(x, fs[0][0]) for x in target_cmdline]], cwd=target_path)\n",
    "        print('run process', p)\n",
    "    time.sleep(1)\n",
    "        \n",
    "schedule.every().minutes.do(lambda:run())\n",
    "\n",
    "while True:\n",
    "    try:\n",
    "        schedule.run_pending()\n",
    "    except Exception as e:\n",
    "        print('Exception', e)\n",
    "        time.sleep(1)"
   ]
  },
  {
   "cell_type": "code",
   "execution_count": 3,
   "metadata": {},
   "outputs": [
    {
     "data": {
      "text/plain": [
       "((None, []),\n",
       " [['home-1.0.7.jar',\n",
       "   'C:\\\\.Projects\\\\home\\\\home-1.0.7.jar',\n",
       "   1637713052.5828223],\n",
       "  ['home-1.0.6.jar', 'C:\\\\.Projects\\\\home\\\\home-1.0.6.jar', 1637627701.980413],\n",
       "  ['home-1.0.5.jar',\n",
       "   'C:\\\\.Projects\\\\home\\\\home-1.0.5.jar',\n",
       "   1635987365.2350054],\n",
       "  ['home-1.0.4.jar',\n",
       "   'C:\\\\.Projects\\\\home\\\\home-1.0.4.jar',\n",
       "   1635812248.8703606]])"
      ]
     },
     "execution_count": 3,
     "metadata": {},
     "output_type": "execute_result"
    }
   ],
   "source": [
    "\n",
    "    target_path = 'C:\\.Projects\\home'\n",
    "    target_proc = 'java'\n",
    "    target_cmdline = ['-jar','{0}']\n",
    "    find_cmdline = '.*home-.*jar'\n",
    "#     target_proc = 'notepad'\n",
    "#     target_cmdline = '{0}'\n",
    "#     find_cmdline = '.*startup.*bat'\n",
    "    ps = find_proc(target_proc, find_cmdline)\n",
    "    # 프로그램이 실행중이 아닌라면\n",
    "    fs = find_file(target_path, find_cmdline)\n",
    "    \n",
    "    ps, fs"
   ]
  },
  {
   "cell_type": "code",
   "execution_count": 4,
   "metadata": {},
   "outputs": [
    {
     "name": "stdout",
     "output_type": "stream",
     "text": [
      "run process psutil.Popen(pid=22392, name='java.exe', status='running', started='11:16:46')\n"
     ]
    }
   ],
   "source": [
    "\n",
    "    if not ps[0]:\n",
    "        p = psutil.Popen([target_proc, *[str.format(x, fs[0][0]) for x in target_cmdline]], cwd=target_path)\n",
    "        print('run process', p)\n",
    "    # 실행중이나 파라미터가 다를경우\n",
    "    elif ps[1][0] != fs[0][0]:\n",
    "        ps[0].kill()\n",
    "        time.sleep(1)\n",
    "        p = psutil.Popen([target_proc, *[str.format(x, fs[0][0]) for x in target_cmdline]], cwd=target_path)\n",
    "        print('run process', p)"
   ]
  },
  {
   "cell_type": "code",
   "execution_count": null,
   "metadata": {},
   "outputs": [],
   "source": []
  }
 ],
 "metadata": {
  "kernelspec": {
   "display_name": "Python 3",
   "language": "python",
   "name": "python3"
  },
  "language_info": {
   "codemirror_mode": {
    "name": "ipython",
    "version": 3
   },
   "file_extension": ".py",
   "mimetype": "text/x-python",
   "name": "python",
   "nbconvert_exporter": "python",
   "pygments_lexer": "ipython3",
   "version": "3.8.8"
  }
 },
 "nbformat": 4,
 "nbformat_minor": 4
}
