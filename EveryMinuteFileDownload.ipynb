{
 "cells": [
  {
   "cell_type": "code",
   "execution_count": 1,
   "metadata": {},
   "outputs": [
    {
     "data": {
      "application/javascript": [
       "var kernel = IPython.notebook.kernel;\n",
       "var body = document.body,  \n",
       "attribs = body.attributes;\n",
       "var command = \"filename = \" + \"'\"+attribs['data-notebook-name'].value+\"'\";\n",
       "kernel.execute(command);\n"
      ],
      "text/plain": [
       "<IPython.core.display.Javascript object>"
      ]
     },
     "metadata": {},
     "output_type": "display_data"
    }
   ],
   "source": [
    "%%javascript\n",
    "var kernel = IPython.notebook.kernel;\n",
    "var body = document.body,  \n",
    "attribs = body.attributes;\n",
    "var command = \"filename = \" + \"'\"+attribs['data-notebook-name'].value+\"'\";\n",
    "kernel.execute(command);"
   ]
  },
  {
   "cell_type": "code",
   "execution_count": null,
   "metadata": {},
   "outputs": [
    {
     "name": "stdout",
     "output_type": "stream",
     "text": [
      "naver.com.html http://naver.com\n",
      "google.com.html http://google.com\n"
     ]
    }
   ],
   "source": [
    "import SimpleLog\n",
    "SimpleLog.SimpleLog(filename + '.log')\n",
    "\n",
    "delaymin = 1 # 다운로드 후 대기시간\n",
    "\n",
    "#-*- coding: utf-8 -*-\n",
    "import requests\n",
    "from bs4 import BeautifulSoup\n",
    "import time\n",
    "import urllib\n",
    "dics = {    \n",
    "    'naver.com.html' : 'http://naver.com',\n",
    "    'google.com.html' : 'http://google.com',\n",
    "    }\n",
    "while True:\n",
    "    session = requests.Session()\n",
    "    for dic in dics:\n",
    "        url = dics[dic]\n",
    "        print(dic, url)\n",
    "        req = session.get(url)\n",
    "        with open(dic, 'wb') as f:\n",
    "            f.write(req.content)\n",
    "    time.sleep(delaymin * 60)"
   ]
  },
  {
   "cell_type": "code",
   "execution_count": null,
   "metadata": {},
   "outputs": [],
   "source": []
  }
 ],
 "metadata": {
  "kernelspec": {
   "display_name": "Python 3",
   "language": "python",
   "name": "python3"
  },
  "language_info": {
   "codemirror_mode": {
    "name": "ipython",
    "version": 3
   },
   "file_extension": ".py",
   "mimetype": "text/x-python",
   "name": "python",
   "nbconvert_exporter": "python",
   "pygments_lexer": "ipython3",
   "version": "3.7.4"
  }
 },
 "nbformat": 4,
 "nbformat_minor": 2
}
