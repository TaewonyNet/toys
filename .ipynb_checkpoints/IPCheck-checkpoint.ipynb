{
 "cells": [
  {
   "cell_type": "code",
   "execution_count": 1,
   "metadata": {},
   "outputs": [
    {
     "data": {
      "application/javascript": [
       "var kernel = IPython.notebook.kernel;\n",
       "var body = document.body,  \n",
       "attribs = body.attributes;\n",
       "var command = \"filename = \" + \"'\"+attribs['data-notebook-name'].value+\"'\";\n",
       "kernel.execute(command);\n"
      ],
      "text/plain": [
       "<IPython.core.display.Javascript object>"
      ]
     },
     "metadata": {},
     "output_type": "display_data"
    }
   ],
   "source": [
    "%%javascript\n",
    "var kernel = IPython.notebook.kernel;\n",
    "var body = document.body,  \n",
    "attribs = body.attributes;\n",
    "var command = \"filename = \" + \"'\"+attribs['data-notebook-name'].value+\"'\";\n",
    "kernel.execute(command);"
   ]
  },
  {
   "cell_type": "code",
   "execution_count": 2,
   "metadata": {},
   "outputs": [
    {
     "name": "stdout",
     "output_type": "stream",
     "text": [
      "결과: 192.168.0.1 연결 불가\n",
      "결과: 192.168.0.2 연결 불가\n",
      "결과: 192.168.0.3 연결 불가\n",
      "결과: 192.168.0.4 연결 불가\n",
      "결과: 192.168.0.5 연결 불가\n"
     ]
    }
   ],
   "source": [
    "import subprocess\n",
    "import ipaddress\n",
    "import SimpleLog\n",
    "SimpleLog.SimpleLog(filename + '.log')\n",
    "\n",
    "start_ip = '192.168.0.1' # 시작 아이피\n",
    "end_ip = '192.168.0.5' # 종료 아이피\n",
    "\n",
    "st_ip = ipaddress.ip_address(start_ip)\n",
    "ed_ip = ipaddress.ip_address(end_ip)\n",
    "while (st_ip <= ed_ip):\n",
    "    p = subprocess.getoutput('ping %s -n 1' % st_ip)\n",
    "#     print('프로세스:',p)\n",
    "    msg = '결과: %s' % st_ip\n",
    "    if p.find('TTL=') == -1:\n",
    "        msg += ' 연결 불가'\n",
    "    print(msg)\n",
    "    st_ip = st_ip + 1\n",
    "    "
   ]
  },
  {
   "cell_type": "code",
   "execution_count": null,
   "metadata": {},
   "outputs": [],
   "source": []
  }
 ],
 "metadata": {
  "kernelspec": {
   "display_name": "Python 3",
   "language": "python",
   "name": "python3"
  },
  "language_info": {
   "codemirror_mode": {
    "name": "ipython",
    "version": 3
   },
   "file_extension": ".py",
   "mimetype": "text/x-python",
   "name": "python",
   "nbconvert_exporter": "python",
   "pygments_lexer": "ipython3",
   "version": "3.7.6"
  }
 },
 "nbformat": 4,
 "nbformat_minor": 2
}
