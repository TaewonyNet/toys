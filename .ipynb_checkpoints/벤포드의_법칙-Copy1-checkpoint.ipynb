{
 "cells": [
  {
   "cell_type": "markdown",
   "metadata": {
    "colab_type": "text",
    "id": "lKfJf974T-Ua"
   },
   "source": [
    "# 벤포드의 법칙 (Benford law)\n",
    "\n",
    "<img width=\"50%\" src=\"https://i.imgur.com/FmExD6c.png\" >\n",
    "\n",
    "\n",
    "### 2019 [FinanceData.KR](http://financedata.kr) | [facebook.com/financedata](http://facebook.com/financedata)\n"
   ]
  },
  {
   "cell_type": "markdown",
   "metadata": {
    "colab_type": "text",
    "id": "3y1xZFI-R06i"
   },
   "source": [
    "# 벤포드의 법칙 (Benford law)\n",
    "임의의 데이터 집합에서 처음 시작하는 수로 가장 많이 등장하는 것이 '1'이고, '2', '3' 순서대로 낮아 진다는 법칙\n",
    "\n",
    "* 데이터의 첫 자리가 1인 경우가 가장 많다 (30%)\n",
    "* 첫 자리의 숫자의 비율은 로그에 따라 결정\n",
    "* 첫 자리 1: 30.1%, 2: 17.6%, 3: 12.5% ...\n",
    "\n",
    "$$ \n",
    "P(d) = \\log_{10}\\left( \\frac{d+1}{d} \\right)\n",
    "$$\n",
    "\n",
    "[Benford's law (wikipedia)](https://en.wikipedia.org/wiki/Benford's_law)"
   ]
  },
  {
   "cell_type": "markdown",
   "metadata": {
    "colab_type": "text",
    "id": "jIP8xLH5o3ct"
   },
   "source": [
    "## 벤포드 값 구하기"
   ]
  },
  {
   "cell_type": "code",
   "execution_count": 1,
   "metadata": {
    "colab": {},
    "colab_type": "code",
    "id": "39GvRc9YRp_1"
   },
   "outputs": [],
   "source": [
    "%matplotlib inline\n",
    "import matplotlib.pylab as plt\n",
    "\n",
    "plt.rcParams[\"figure.figsize\"] = (12, 6)\n",
    "plt.rcParams['axes.grid'] = True \n",
    "plt.rcParams['lines.linewidth'] = 2"
   ]
  },
  {
   "cell_type": "code",
   "execution_count": 2,
   "metadata": {
    "colab": {
     "base_uri": "https://localhost:8080/",
     "height": 179
    },
    "colab_type": "code",
    "id": "MGxBofAbP508",
    "outputId": "672c76e8-d039-4310-a6da-6d6ae0f1a63b"
   },
   "outputs": [
    {
     "name": "stdout",
     "output_type": "stream",
     "text": [
      "0.3010\n",
      "0.1761\n",
      "0.1249\n",
      "0.0969\n",
      "0.0792\n",
      "0.0669\n",
      "0.0580\n",
      "0.0512\n",
      "0.0458\n"
     ]
    }
   ],
   "source": [
    "import numpy as np\n",
    "\n",
    "for d in range(1, 10):\n",
    "  v = np.log10((d+1)/d)\n",
    "  print('{:.4f}'.format(v))"
   ]
  },
  {
   "cell_type": "code",
   "execution_count": 3,
   "metadata": {
    "colab": {
     "base_uri": "https://localhost:8080/",
     "height": 179
    },
    "colab_type": "code",
    "id": "jaEuiTUZGhjO",
    "outputId": "57f6281b-d2b1-4f47-d1e4-2b6891c6d01f"
   },
   "outputs": [
    {
     "data": {
      "text/plain": [
       "{1: 0.3010299956639812,\n",
       " 2: 0.17609125905568124,\n",
       " 3: 0.12493873660829993,\n",
       " 4: 0.09691001300805642,\n",
       " 5: 0.07918124604762482,\n",
       " 6: 0.06694678963061322,\n",
       " 7: 0.05799194697768673,\n",
       " 8: 0.05115252244738129,\n",
       " 9: 0.04575749056067514}"
      ]
     },
     "execution_count": 3,
     "metadata": {},
     "output_type": "execute_result"
    }
   ],
   "source": [
    "benford_values =  {d:np.log10((d+1)/d) for d in range(1,10)}\n",
    "benford_values"
   ]
  },
  {
   "cell_type": "code",
   "execution_count": 4,
   "metadata": {
    "colab": {
     "base_uri": "https://localhost:8080/",
     "height": 328
    },
    "colab_type": "code",
    "id": "X1xVoqpemM17",
    "outputId": "d5111668-f932-4a96-b9c8-1c5d4218bcf5"
   },
   "outputs": [
    {
     "data": {
      "text/html": [
       "<div>\n",
       "<style scoped>\n",
       "    .dataframe tbody tr th:only-of-type {\n",
       "        vertical-align: middle;\n",
       "    }\n",
       "\n",
       "    .dataframe tbody tr th {\n",
       "        vertical-align: top;\n",
       "    }\n",
       "\n",
       "    .dataframe thead th {\n",
       "        text-align: right;\n",
       "    }\n",
       "</style>\n",
       "<table border=\"1\" class=\"dataframe\">\n",
       "  <thead>\n",
       "    <tr style=\"text-align: right;\">\n",
       "      <th></th>\n",
       "      <th>benford</th>\n",
       "    </tr>\n",
       "  </thead>\n",
       "  <tbody>\n",
       "    <tr>\n",
       "      <th>1</th>\n",
       "      <td>0.301030</td>\n",
       "    </tr>\n",
       "    <tr>\n",
       "      <th>2</th>\n",
       "      <td>0.176091</td>\n",
       "    </tr>\n",
       "    <tr>\n",
       "      <th>3</th>\n",
       "      <td>0.124939</td>\n",
       "    </tr>\n",
       "    <tr>\n",
       "      <th>4</th>\n",
       "      <td>0.096910</td>\n",
       "    </tr>\n",
       "    <tr>\n",
       "      <th>5</th>\n",
       "      <td>0.079181</td>\n",
       "    </tr>\n",
       "    <tr>\n",
       "      <th>6</th>\n",
       "      <td>0.066947</td>\n",
       "    </tr>\n",
       "    <tr>\n",
       "      <th>7</th>\n",
       "      <td>0.057992</td>\n",
       "    </tr>\n",
       "    <tr>\n",
       "      <th>8</th>\n",
       "      <td>0.051153</td>\n",
       "    </tr>\n",
       "    <tr>\n",
       "      <th>9</th>\n",
       "      <td>0.045757</td>\n",
       "    </tr>\n",
       "  </tbody>\n",
       "</table>\n",
       "</div>"
      ],
      "text/plain": [
       "    benford\n",
       "1  0.301030\n",
       "2  0.176091\n",
       "3  0.124939\n",
       "4  0.096910\n",
       "5  0.079181\n",
       "6  0.066947\n",
       "7  0.057992\n",
       "8  0.051153\n",
       "9  0.045757"
      ]
     },
     "execution_count": 4,
     "metadata": {},
     "output_type": "execute_result"
    }
   ],
   "source": [
    "import pandas as pd\n",
    "\n",
    "df = pd.DataFrame({'benford': benford_values})\n",
    "df"
   ]
  },
  {
   "cell_type": "code",
   "execution_count": 5,
   "metadata": {
    "colab": {
     "base_uri": "https://localhost:8080/",
     "height": 396
    },
    "colab_type": "code",
    "id": "zXp4KYNWDGUz",
    "outputId": "3a630eed-6ca5-4f92-83f5-d7f4dade4731"
   },
   "outputs": [
    {
     "data": {
      "text/plain": [
       "[<matplotlib.lines.Line2D at 0x1810e231b08>]"
      ]
     },
     "execution_count": 5,
     "metadata": {},
     "output_type": "execute_result"
    },
    {
     "data": {
      "image/png": "[encoded data removed]",
      "text/plain": [
       "<Figure size 864x432 with 1 Axes>"
      ]
     },
     "metadata": {
      "needs_background": "light"
     },
     "output_type": "display_data"
    }
   ],
   "source": [
    "plt.bar(range(1, 10), df.benford)\n",
    "plt.plot(range(1, 10), df.benford, color='r', lw=3)"
   ]
  },
  {
   "cell_type": "markdown",
   "metadata": {
    "colab_type": "text",
    "id": "89rIoShLMHGL"
   },
   "source": [
    "# 조작된 영수증을 찾아라 \n",
    "\n",
    "<img width=\"80%\" src=\"https://i.imgur.com/tX4mtlX.png\" >\n",
    "\n",
    "http://hkconsensus.hankyung.com/apps.analysis/analysis.downpdf?report_idx=522341\n"
   ]
  },
  {
   "cell_type": "markdown",
   "metadata": {
    "colab_type": "text",
    "id": "tG97rmwVMHBv"
   },
   "source": [
    "## Enron 회계 조작사건 \n",
    "2001년 미국 수학자 마크 니그리니가 벤포드 법칙을 통해 회계 부정을 적발\n",
    "\n",
    "<img src=\"https://i.imgur.com/mSGkPo2.jpg\" >\n",
    "\n",
    "https://successfulportfolios.com/good-clean-fun-with-numbers/"
   ]
  },
  {
   "cell_type": "markdown",
   "metadata": {
    "colab_type": "text",
    "id": "a1YC1y6l3N5V"
   },
   "source": [
    "# 다양한 사례\n",
    "* [영국 LIBOR, 은행들 간의 금리 조작 담합 적발](https://dbr.donga.com/article/view/1206/article_no/6853)\n",
    "* [2009년 이란 부정선거의 증거](https://en.wikipedia.org/wiki/Iranian_presidential_election,_2009)\n",
    "* [그리스가 EU 가입시 제출한 거시경제 지표 조작](https://www.forbes.com/sites/timworstall/2011/09/12/greece-was-lying-about-its-budget-numbers)\n"
   ]
  },
  {
   "cell_type": "markdown",
   "metadata": {
    "colab_type": "text",
    "id": "5TPsSrEKzoJt"
   },
   "source": [
    "# 전자공시(DART) 재무제표 데이터\n",
    "\n",
    "#### 삼성전자 사업보고서 (2018년) (공시일자: 2019-04-01)\n",
    "http://dart.fss.or.kr/dsaf001/main.do?rcpNo=20190401004781\n",
    "\n",
    "#### III. 재무에 관한 사항 / 2. 연결재무제표\n",
    "http://dart.fss.or.kr/report/viewer.do?rcpNo=20190401004781&dcmNo=6616741&eleId=13&offset=625579&length=120141&dtd=dart3.xsd\n",
    "\n",
    "(개별 보고서의 프레임소스 보기를 통해 본문의 URL을 얻을 수 있습니다)\n"
   ]
  },
  {
   "cell_type": "code",
   "execution_count": 18,
   "metadata": {
    "colab": {
     "base_uri": "https://localhost:8080/",
     "height": 35
    },
    "colab_type": "code",
    "id": "WrvROFZJWwFf",
    "outputId": "07b46cce-be87-4146-c03e-41bb22964f5d"
   },
   "outputs": [
    {
     "data": {
      "text/plain": [
       "46"
      ]
     },
     "execution_count": 18,
     "metadata": {},
     "output_type": "execute_result"
    }
   ],
   "source": [
    "import pandas as pd\n",
    "\n",
    "# 2016년, 2017년, 2018년 재무제표 (연결 재무상태표)\n",
    "url = 'http://dart.fss.or.kr/report/viewer.do?rcpNo=20140324000163&dcmNo=4087556&eleId=25&offset=1134748&length=300531&dtd=dart3.xsd'\n",
    "\n",
    "df_list = pd.read_html(url)\n",
    "len(df_list)"
   ]
  },
  {
   "cell_type": "code",
   "execution_count": 19,
   "metadata": {
    "colab": {
     "base_uri": "https://localhost:8080/",
     "height": 669
    },
    "colab_type": "code",
    "id": "H20XCAiRWv__",
    "outputId": "a125bb61-ce68-4361-e2c7-f6ca449433fd"
   },
   "outputs": [
    {
     "data": {
      "text/html": [
       "<div>\n",
       "<style scoped>\n",
       "    .dataframe tbody tr th:only-of-type {\n",
       "        vertical-align: middle;\n",
       "    }\n",
       "\n",
       "    .dataframe tbody tr th {\n",
       "        vertical-align: top;\n",
       "    }\n",
       "\n",
       "    .dataframe thead th {\n",
       "        text-align: right;\n",
       "    }\n",
       "</style>\n",
       "<table border=\"1\" class=\"dataframe\">\n",
       "  <thead>\n",
       "    <tr style=\"text-align: right;\">\n",
       "      <th></th>\n",
       "      <th>Unnamed: 0</th>\n",
       "      <th>제 45 기</th>\n",
       "      <th>제 44 기</th>\n",
       "      <th>제 43 기</th>\n",
       "    </tr>\n",
       "  </thead>\n",
       "  <tbody>\n",
       "    <tr>\n",
       "      <th>0</th>\n",
       "      <td>자산</td>\n",
       "      <td>nan</td>\n",
       "      <td>nan</td>\n",
       "      <td>nan</td>\n",
       "    </tr>\n",
       "    <tr>\n",
       "      <th>1</th>\n",
       "      <td>유동자산</td>\n",
       "      <td>8414467007030</td>\n",
       "      <td>7879037253336</td>\n",
       "      <td>8271459836836</td>\n",
       "    </tr>\n",
       "    <tr>\n",
       "      <th>2</th>\n",
       "      <td>현금및현금성자산</td>\n",
       "      <td>1865508077008</td>\n",
       "      <td>1430279194448</td>\n",
       "      <td>1491833267976</td>\n",
       "    </tr>\n",
       "    <tr>\n",
       "      <th>3</th>\n",
       "      <td>매출채권 및 기타채권</td>\n",
       "      <td>4785253805264</td>\n",
       "      <td>4479489341545</td>\n",
       "      <td>4619627216150</td>\n",
       "    </tr>\n",
       "    <tr>\n",
       "      <th>4</th>\n",
       "      <td>재고자산</td>\n",
       "      <td>499239806623</td>\n",
       "      <td>869064953326</td>\n",
       "      <td>976321972013</td>\n",
       "    </tr>\n",
       "    <tr>\n",
       "      <th>5</th>\n",
       "      <td>단기금융자산</td>\n",
       "      <td>323187418196</td>\n",
       "      <td>318922860287</td>\n",
       "      <td>292223164261</td>\n",
       "    </tr>\n",
       "    <tr>\n",
       "      <th>6</th>\n",
       "      <td>기타유동자산</td>\n",
       "      <td>941277899939</td>\n",
       "      <td>781280903730</td>\n",
       "      <td>891454216436</td>\n",
       "    </tr>\n",
       "    <tr>\n",
       "      <th>7</th>\n",
       "      <td>비유동자산</td>\n",
       "      <td>4012845934801</td>\n",
       "      <td>3896914949313</td>\n",
       "      <td>3507992156280</td>\n",
       "    </tr>\n",
       "    <tr>\n",
       "      <th>8</th>\n",
       "      <td>유형자산</td>\n",
       "      <td>2242895871048</td>\n",
       "      <td>2253948594331</td>\n",
       "      <td>2195262907429</td>\n",
       "    </tr>\n",
       "    <tr>\n",
       "      <th>9</th>\n",
       "      <td>무형자산</td>\n",
       "      <td>194899238452</td>\n",
       "      <td>221423136039</td>\n",
       "      <td>115938342973</td>\n",
       "    </tr>\n",
       "    <tr>\n",
       "      <th>10</th>\n",
       "      <td>투자부동산</td>\n",
       "      <td>167187962694</td>\n",
       "      <td>298980491077</td>\n",
       "      <td>343314360194</td>\n",
       "    </tr>\n",
       "    <tr>\n",
       "      <th>11</th>\n",
       "      <td>관계회사지분증권</td>\n",
       "      <td>32445502676</td>\n",
       "      <td>24208497447</td>\n",
       "      <td>4069300574</td>\n",
       "    </tr>\n",
       "    <tr>\n",
       "      <th>12</th>\n",
       "      <td>장기매출채권 및 기타채권</td>\n",
       "      <td>615441682985</td>\n",
       "      <td>503857953640</td>\n",
       "      <td>448294821238</td>\n",
       "    </tr>\n",
       "    <tr>\n",
       "      <th>13</th>\n",
       "      <td>장기금융자산</td>\n",
       "      <td>333278162046</td>\n",
       "      <td>365621047945</td>\n",
       "      <td>210826668912</td>\n",
       "    </tr>\n",
       "    <tr>\n",
       "      <th>14</th>\n",
       "      <td>이연법인세자산</td>\n",
       "      <td>426697514900</td>\n",
       "      <td>228875228834</td>\n",
       "      <td>190285754960</td>\n",
       "    </tr>\n",
       "    <tr>\n",
       "      <th>15</th>\n",
       "      <td>자산총계</td>\n",
       "      <td>12427312941831</td>\n",
       "      <td>11775952202649</td>\n",
       "      <td>11779451993116</td>\n",
       "    </tr>\n",
       "    <tr>\n",
       "      <th>16</th>\n",
       "      <td>부채</td>\n",
       "      <td>nan</td>\n",
       "      <td>nan</td>\n",
       "      <td>nan</td>\n",
       "    </tr>\n",
       "    <tr>\n",
       "      <th>17</th>\n",
       "      <td>유동부채</td>\n",
       "      <td>6136911751490</td>\n",
       "      <td>5361477064945</td>\n",
       "      <td>5351418130851</td>\n",
       "    </tr>\n",
       "    <tr>\n",
       "      <th>18</th>\n",
       "      <td>매입채무 및 기타유동채무</td>\n",
       "      <td>1527395858790</td>\n",
       "      <td>1448708566681</td>\n",
       "      <td>1738363588020</td>\n",
       "    </tr>\n",
       "    <tr>\n",
       "      <th>19</th>\n",
       "      <td>단기금융부채</td>\n",
       "      <td>2190045307902</td>\n",
       "      <td>1225250609860</td>\n",
       "      <td>999435117515</td>\n",
       "    </tr>\n",
       "  </tbody>\n",
       "</table>\n",
       "</div>"
      ],
      "text/plain": [
       "       Unnamed: 0          제 45 기          제 44 기          제 43 기\n",
       "0              자산             nan             nan             nan\n",
       "1            유동자산   8414467007030   7879037253336   8271459836836\n",
       "2        현금및현금성자산   1865508077008   1430279194448   1491833267976\n",
       "3     매출채권 및 기타채권   4785253805264   4479489341545   4619627216150\n",
       "4            재고자산    499239806623    869064953326    976321972013\n",
       "5          단기금융자산    323187418196    318922860287    292223164261\n",
       "6          기타유동자산    941277899939    781280903730    891454216436\n",
       "7           비유동자산   4012845934801   3896914949313   3507992156280\n",
       "8            유형자산   2242895871048   2253948594331   2195262907429\n",
       "9            무형자산    194899238452    221423136039    115938342973\n",
       "10          투자부동산    167187962694    298980491077    343314360194\n",
       "11       관계회사지분증권     32445502676     24208497447      4069300574\n",
       "12  장기매출채권 및 기타채권    615441682985    503857953640    448294821238\n",
       "13         장기금융자산    333278162046    365621047945    210826668912\n",
       "14        이연법인세자산    426697514900    228875228834    190285754960\n",
       "15           자산총계  12427312941831  11775952202649  11779451993116\n",
       "16             부채             nan             nan             nan\n",
       "17           유동부채   6136911751490   5361477064945   5351418130851\n",
       "18  매입채무 및 기타유동채무   1527395858790   1448708566681   1738363588020\n",
       "19         단기금융부채   2190045307902   1225250609860    999435117515"
      ]
     },
     "execution_count": 19,
     "metadata": {},
     "output_type": "execute_result"
    }
   ],
   "source": [
    "# 연결 재무상태표(BS)\n",
    "df_bs = df_list[1].astype(str)\n",
    "df_bs.head(20)"
   ]
  },
  {
   "cell_type": "code",
   "execution_count": 20,
   "metadata": {
    "colab": {
     "base_uri": "https://localhost:8080/",
     "height": 514
    },
    "colab_type": "code",
    "id": "L1kKoWyQ11P-",
    "outputId": "be9d64dd-8718-454c-e703-c77619ca2baf"
   },
   "outputs": [
    {
     "data": {
      "text/html": [
       "<div>\n",
       "<style scoped>\n",
       "    .dataframe tbody tr th:only-of-type {\n",
       "        vertical-align: middle;\n",
       "    }\n",
       "\n",
       "    .dataframe tbody tr th {\n",
       "        vertical-align: top;\n",
       "    }\n",
       "\n",
       "    .dataframe thead tr th {\n",
       "        text-align: left;\n",
       "    }\n",
       "</style>\n",
       "<table border=\"1\" class=\"dataframe\">\n",
       "  <thead>\n",
       "    <tr>\n",
       "      <th></th>\n",
       "      <th>Unnamed: 0_level_0</th>\n",
       "      <th>Unnamed: 1_level_0</th>\n",
       "      <th colspan=\"8\" halign=\"left\">자본</th>\n",
       "    </tr>\n",
       "    <tr>\n",
       "      <th></th>\n",
       "      <th>Unnamed: 0_level_1</th>\n",
       "      <th>Unnamed: 1_level_1</th>\n",
       "      <th colspan=\"6\" halign=\"left\">지배기업의 소유주에게 귀속되는 자본</th>\n",
       "      <th>비지배지분</th>\n",
       "      <th>자본 합계</th>\n",
       "    </tr>\n",
       "    <tr>\n",
       "      <th></th>\n",
       "      <th>Unnamed: 0_level_2</th>\n",
       "      <th>Unnamed: 1_level_2</th>\n",
       "      <th>자본금</th>\n",
       "      <th>자본잉여금</th>\n",
       "      <th>기타자본</th>\n",
       "      <th>기타포괄손익누계액</th>\n",
       "      <th>이익잉여금(결손금)</th>\n",
       "      <th>지배기업의 소유주에게 귀속되는 자본 합계</th>\n",
       "      <th>비지배지분</th>\n",
       "      <th>자본 합계</th>\n",
       "    </tr>\n",
       "  </thead>\n",
       "  <tbody>\n",
       "    <tr>\n",
       "      <th>0</th>\n",
       "      <td>2011.01.01 (기초)</td>\n",
       "      <td>2011.01.01 (기초)</td>\n",
       "      <td>255000000000.0</td>\n",
       "      <td>161132826306</td>\n",
       "      <td>(83,502,547,119)</td>\n",
       "      <td>145071477172</td>\n",
       "      <td>3037108016558</td>\n",
       "      <td>3514809772918</td>\n",
       "      <td>220903331815</td>\n",
       "      <td>3735713104733</td>\n",
       "    </tr>\n",
       "    <tr>\n",
       "      <th>1</th>\n",
       "      <td>총포괄이익</td>\n",
       "      <td>당기순이익</td>\n",
       "      <td>nan</td>\n",
       "      <td>nan</td>\n",
       "      <td>nan</td>\n",
       "      <td>nan</td>\n",
       "      <td>401152146745</td>\n",
       "      <td>401152146745</td>\n",
       "      <td>5906330750</td>\n",
       "      <td>407058477495</td>\n",
       "    </tr>\n",
       "    <tr>\n",
       "      <th>2</th>\n",
       "      <td>총포괄이익</td>\n",
       "      <td>매도가능금융자산평가이익</td>\n",
       "      <td>nan</td>\n",
       "      <td>nan</td>\n",
       "      <td>nan</td>\n",
       "      <td>(161,352,944,476)</td>\n",
       "      <td>nan</td>\n",
       "      <td>(161,352,944,476)</td>\n",
       "      <td>(59,233,201)</td>\n",
       "      <td>(161,412,177,677)</td>\n",
       "    </tr>\n",
       "    <tr>\n",
       "      <th>3</th>\n",
       "      <td>총포괄이익</td>\n",
       "      <td>매도가능금융자산평가손실</td>\n",
       "      <td>nan</td>\n",
       "      <td>nan</td>\n",
       "      <td>nan</td>\n",
       "      <td>(462,708,718)</td>\n",
       "      <td>nan</td>\n",
       "      <td>(462,708,718)</td>\n",
       "      <td>(34,216,860)</td>\n",
       "      <td>(496,925,578)</td>\n",
       "    </tr>\n",
       "    <tr>\n",
       "      <th>4</th>\n",
       "      <td>총포괄이익</td>\n",
       "      <td>지분법자본변동</td>\n",
       "      <td>nan</td>\n",
       "      <td>nan</td>\n",
       "      <td>nan</td>\n",
       "      <td>624546937</td>\n",
       "      <td>nan</td>\n",
       "      <td>624546937</td>\n",
       "      <td>nan</td>\n",
       "      <td>624546937</td>\n",
       "    </tr>\n",
       "    <tr>\n",
       "      <th>5</th>\n",
       "      <td>총포괄이익</td>\n",
       "      <td>부의지분법자본변동</td>\n",
       "      <td>nan</td>\n",
       "      <td>nan</td>\n",
       "      <td>nan</td>\n",
       "      <td>(172,089,966)</td>\n",
       "      <td>nan</td>\n",
       "      <td>(172,089,966)</td>\n",
       "      <td>(82,648,154)</td>\n",
       "      <td>(254,738,120)</td>\n",
       "    </tr>\n",
       "    <tr>\n",
       "      <th>6</th>\n",
       "      <td>총포괄이익</td>\n",
       "      <td>해외사업환산이익</td>\n",
       "      <td>nan</td>\n",
       "      <td>nan</td>\n",
       "      <td>nan</td>\n",
       "      <td>4665946999</td>\n",
       "      <td>nan</td>\n",
       "      <td>4665946999</td>\n",
       "      <td>(8,132,779)</td>\n",
       "      <td>4657814220</td>\n",
       "    </tr>\n",
       "    <tr>\n",
       "      <th>7</th>\n",
       "      <td>총포괄이익</td>\n",
       "      <td>해외사업환산손실</td>\n",
       "      <td>nan</td>\n",
       "      <td>nan</td>\n",
       "      <td>nan</td>\n",
       "      <td>(7,949,017,841)</td>\n",
       "      <td>nan</td>\n",
       "      <td>(7,949,017,841)</td>\n",
       "      <td>nan</td>\n",
       "      <td>(7,949,017,841)</td>\n",
       "    </tr>\n",
       "    <tr>\n",
       "      <th>8</th>\n",
       "      <td>총포괄이익</td>\n",
       "      <td>파생상품평가이익</td>\n",
       "      <td>nan</td>\n",
       "      <td>nan</td>\n",
       "      <td>nan</td>\n",
       "      <td>2166708479</td>\n",
       "      <td>nan</td>\n",
       "      <td>2166708479</td>\n",
       "      <td>nan</td>\n",
       "      <td>2166708479</td>\n",
       "    </tr>\n",
       "    <tr>\n",
       "      <th>9</th>\n",
       "      <td>총포괄이익</td>\n",
       "      <td>파생상품평가손실</td>\n",
       "      <td>nan</td>\n",
       "      <td>nan</td>\n",
       "      <td>nan</td>\n",
       "      <td>15796217</td>\n",
       "      <td>nan</td>\n",
       "      <td>15796217</td>\n",
       "      <td>66547275</td>\n",
       "      <td>82343492</td>\n",
       "    </tr>\n",
       "    <tr>\n",
       "      <th>10</th>\n",
       "      <td>총포괄이익</td>\n",
       "      <td>순확정급여부채의 재측정요소</td>\n",
       "      <td>nan</td>\n",
       "      <td>nan</td>\n",
       "      <td>nan</td>\n",
       "      <td>nan</td>\n",
       "      <td>(30,722,920,449)</td>\n",
       "      <td>(30,722,920,449)</td>\n",
       "      <td>(787,218,916)</td>\n",
       "      <td>(31,510,139,365)</td>\n",
       "    </tr>\n",
       "    <tr>\n",
       "      <th>11</th>\n",
       "      <td>총포괄이익</td>\n",
       "      <td>총포괄손익 소계</td>\n",
       "      <td>nan</td>\n",
       "      <td>nan</td>\n",
       "      <td>nan</td>\n",
       "      <td>(162,463,762,369)</td>\n",
       "      <td>370429226296</td>\n",
       "      <td>207965463927</td>\n",
       "      <td>5001428115</td>\n",
       "      <td>212966892042</td>\n",
       "    </tr>\n",
       "    <tr>\n",
       "      <th>12</th>\n",
       "      <td>자본에 직접 반영된 소유주와의 거래</td>\n",
       "      <td>자기주식 처분</td>\n",
       "      <td>nan</td>\n",
       "      <td>(1,199,203,548)</td>\n",
       "      <td>1442673000</td>\n",
       "      <td>nan</td>\n",
       "      <td>nan</td>\n",
       "      <td>243469452</td>\n",
       "      <td>nan</td>\n",
       "      <td>243469452</td>\n",
       "    </tr>\n",
       "    <tr>\n",
       "      <th>13</th>\n",
       "      <td>자본에 직접 반영된 소유주와의 거래</td>\n",
       "      <td>연차배당</td>\n",
       "      <td>nan</td>\n",
       "      <td>nan</td>\n",
       "      <td>nan</td>\n",
       "      <td>nan</td>\n",
       "      <td>(49,478,849,000)</td>\n",
       "      <td>(49,478,849,000)</td>\n",
       "      <td>(1,235,986,419)</td>\n",
       "      <td>(50,714,835,419)</td>\n",
       "    </tr>\n",
       "    <tr>\n",
       "      <th>14</th>\n",
       "      <td>자본에 직접 반영된 소유주와의 거래</td>\n",
       "      <td>연결범위의 변동</td>\n",
       "      <td>nan</td>\n",
       "      <td>nan</td>\n",
       "      <td>nan</td>\n",
       "      <td>nan</td>\n",
       "      <td>nan</td>\n",
       "      <td>nan</td>\n",
       "      <td>nan</td>\n",
       "      <td>nan</td>\n",
       "    </tr>\n",
       "    <tr>\n",
       "      <th>15</th>\n",
       "      <td>자본에 직접 반영된 소유주와의 거래</td>\n",
       "      <td>비지배주주지분의 변동</td>\n",
       "      <td>nan</td>\n",
       "      <td>nan</td>\n",
       "      <td>nan</td>\n",
       "      <td>nan</td>\n",
       "      <td>nan</td>\n",
       "      <td>nan</td>\n",
       "      <td>nan</td>\n",
       "      <td>nan</td>\n",
       "    </tr>\n",
       "    <tr>\n",
       "      <th>16</th>\n",
       "      <td>자본에 직접 반영된 소유주와의 거래</td>\n",
       "      <td>기타</td>\n",
       "      <td>nan</td>\n",
       "      <td>nan</td>\n",
       "      <td>nan</td>\n",
       "      <td>nan</td>\n",
       "      <td>4439818873</td>\n",
       "      <td>4439818872</td>\n",
       "      <td>(33,260,968)</td>\n",
       "      <td>4406557904</td>\n",
       "    </tr>\n",
       "    <tr>\n",
       "      <th>17</th>\n",
       "      <td>자본에 직접 반영된 소유주와의 거래</td>\n",
       "      <td>자본에 직접 반영된 소유주와의 거래 소계</td>\n",
       "      <td>nan</td>\n",
       "      <td>(1,199,203,548)</td>\n",
       "      <td>1442673000</td>\n",
       "      <td>nan</td>\n",
       "      <td>(45,039,030,127)</td>\n",
       "      <td>(44,795,560,676)</td>\n",
       "      <td>(1,269,247,387)</td>\n",
       "      <td>(46,064,808,063)</td>\n",
       "    </tr>\n",
       "    <tr>\n",
       "      <th>18</th>\n",
       "      <td>2011.12.31 (기말)</td>\n",
       "      <td>2011.12.31 (기말)</td>\n",
       "      <td>255000000000.0</td>\n",
       "      <td>159933622758</td>\n",
       "      <td>(82,059,874,119)</td>\n",
       "      <td>(17,392,285,197)</td>\n",
       "      <td>3362498212727</td>\n",
       "      <td>3677979676169</td>\n",
       "      <td>224635512543</td>\n",
       "      <td>3902615188712</td>\n",
       "    </tr>\n",
       "    <tr>\n",
       "      <th>19</th>\n",
       "      <td>2012.01.01 (기초)</td>\n",
       "      <td>2012.01.01 (기초)</td>\n",
       "      <td>255000000000.0</td>\n",
       "      <td>159933622758</td>\n",
       "      <td>(82,059,874,119)</td>\n",
       "      <td>(17,392,285,197)</td>\n",
       "      <td>3362498212727</td>\n",
       "      <td>3677979676169</td>\n",
       "      <td>224635512543</td>\n",
       "      <td>3902615188712</td>\n",
       "    </tr>\n",
       "  </tbody>\n",
       "</table>\n",
       "</div>"
      ],
      "text/plain": [
       "     Unnamed: 0_level_0      Unnamed: 1_level_0                  자본  \\\n",
       "     Unnamed: 0_level_1      Unnamed: 1_level_1 지배기업의 소유주에게 귀속되는 자본   \n",
       "     Unnamed: 0_level_2      Unnamed: 1_level_2                 자본금   \n",
       "0       2011.01.01 (기초)         2011.01.01 (기초)      255000000000.0   \n",
       "1                 총포괄이익                   당기순이익                 nan   \n",
       "2                 총포괄이익            매도가능금융자산평가이익                 nan   \n",
       "3                 총포괄이익            매도가능금융자산평가손실                 nan   \n",
       "4                 총포괄이익                 지분법자본변동                 nan   \n",
       "5                 총포괄이익               부의지분법자본변동                 nan   \n",
       "6                 총포괄이익                해외사업환산이익                 nan   \n",
       "7                 총포괄이익                해외사업환산손실                 nan   \n",
       "8                 총포괄이익                파생상품평가이익                 nan   \n",
       "9                 총포괄이익                파생상품평가손실                 nan   \n",
       "10                총포괄이익          순확정급여부채의 재측정요소                 nan   \n",
       "11                총포괄이익                총포괄손익 소계                 nan   \n",
       "12  자본에 직접 반영된 소유주와의 거래                 자기주식 처분                 nan   \n",
       "13  자본에 직접 반영된 소유주와의 거래                    연차배당                 nan   \n",
       "14  자본에 직접 반영된 소유주와의 거래                연결범위의 변동                 nan   \n",
       "15  자본에 직접 반영된 소유주와의 거래             비지배주주지분의 변동                 nan   \n",
       "16  자본에 직접 반영된 소유주와의 거래                      기타                 nan   \n",
       "17  자본에 직접 반영된 소유주와의 거래  자본에 직접 반영된 소유주와의 거래 소계                 nan   \n",
       "18      2011.12.31 (기말)         2011.12.31 (기말)      255000000000.0   \n",
       "19      2012.01.01 (기초)         2012.01.01 (기초)      255000000000.0   \n",
       "\n",
       "                                                                            \\\n",
       "                                                                             \n",
       "              자본잉여금              기타자본          기타포괄손익누계액        이익잉여금(결손금)   \n",
       "0      161132826306  (83,502,547,119)       145071477172     3037108016558   \n",
       "1               nan               nan                nan      401152146745   \n",
       "2               nan               nan  (161,352,944,476)               nan   \n",
       "3               nan               nan      (462,708,718)               nan   \n",
       "4               nan               nan          624546937               nan   \n",
       "5               nan               nan      (172,089,966)               nan   \n",
       "6               nan               nan         4665946999               nan   \n",
       "7               nan               nan    (7,949,017,841)               nan   \n",
       "8               nan               nan         2166708479               nan   \n",
       "9               nan               nan           15796217               nan   \n",
       "10              nan               nan                nan  (30,722,920,449)   \n",
       "11              nan               nan  (162,463,762,369)      370429226296   \n",
       "12  (1,199,203,548)        1442673000                nan               nan   \n",
       "13              nan               nan                nan  (49,478,849,000)   \n",
       "14              nan               nan                nan               nan   \n",
       "15              nan               nan                nan               nan   \n",
       "16              nan               nan                nan        4439818873   \n",
       "17  (1,199,203,548)        1442673000                nan  (45,039,030,127)   \n",
       "18     159933622758  (82,059,874,119)   (17,392,285,197)     3362498212727   \n",
       "19     159933622758  (82,059,874,119)   (17,392,285,197)     3362498212727   \n",
       "\n",
       "                                                               \n",
       "                                     비지배지분              자본 합계  \n",
       "   지배기업의 소유주에게 귀속되는 자본 합계            비지배지분              자본 합계  \n",
       "0           3514809772918     220903331815      3735713104733  \n",
       "1            401152146745       5906330750       407058477495  \n",
       "2       (161,352,944,476)     (59,233,201)  (161,412,177,677)  \n",
       "3           (462,708,718)     (34,216,860)      (496,925,578)  \n",
       "4               624546937              nan          624546937  \n",
       "5           (172,089,966)     (82,648,154)      (254,738,120)  \n",
       "6              4665946999      (8,132,779)         4657814220  \n",
       "7         (7,949,017,841)              nan    (7,949,017,841)  \n",
       "8              2166708479              nan         2166708479  \n",
       "9                15796217         66547275           82343492  \n",
       "10       (30,722,920,449)    (787,218,916)   (31,510,139,365)  \n",
       "11           207965463927       5001428115       212966892042  \n",
       "12              243469452              nan          243469452  \n",
       "13       (49,478,849,000)  (1,235,986,419)   (50,714,835,419)  \n",
       "14                    nan              nan                nan  \n",
       "15                    nan              nan                nan  \n",
       "16             4439818872     (33,260,968)         4406557904  \n",
       "17       (44,795,560,676)  (1,269,247,387)   (46,064,808,063)  \n",
       "18          3677979676169     224635512543      3902615188712  \n",
       "19          3677979676169     224635512543      3902615188712  "
      ]
     },
     "execution_count": 20,
     "metadata": {},
     "output_type": "execute_result"
    }
   ],
   "source": [
    "# 연결 포괄손익계산서 (IS)\n",
    "df_is = df_list[7].astype(str)\n",
    "df_is.head(20)"
   ]
  },
  {
   "cell_type": "code",
   "execution_count": 21,
   "metadata": {
    "colab": {
     "base_uri": "https://localhost:8080/",
     "height": 669
    },
    "colab_type": "code",
    "id": "VVs3QmW-11KW",
    "outputId": "083eecf7-a0e0-499a-9e7d-2fa06dc59f5b"
   },
   "outputs": [
    {
     "data": {
      "text/html": [
       "<div>\n",
       "<style scoped>\n",
       "    .dataframe tbody tr th:only-of-type {\n",
       "        vertical-align: middle;\n",
       "    }\n",
       "\n",
       "    .dataframe tbody tr th {\n",
       "        vertical-align: top;\n",
       "    }\n",
       "\n",
       "    .dataframe thead th {\n",
       "        text-align: right;\n",
       "    }\n",
       "</style>\n",
       "<table border=\"1\" class=\"dataframe\">\n",
       "  <thead>\n",
       "    <tr style=\"text-align: right;\">\n",
       "      <th></th>\n",
       "      <th>Unnamed: 0</th>\n",
       "      <th>제 45 기</th>\n",
       "      <th>제 44 기</th>\n",
       "      <th>제 43 기</th>\n",
       "    </tr>\n",
       "  </thead>\n",
       "  <tbody>\n",
       "    <tr>\n",
       "      <th>0</th>\n",
       "      <td>매출액</td>\n",
       "      <td>7861809393837</td>\n",
       "      <td>8530989162786</td>\n",
       "      <td>8524883692768</td>\n",
       "    </tr>\n",
       "    <tr>\n",
       "      <th>1</th>\n",
       "      <td>공사매출</td>\n",
       "      <td>7594979699411</td>\n",
       "      <td>8330281380737</td>\n",
       "      <td>8350692555596</td>\n",
       "    </tr>\n",
       "    <tr>\n",
       "      <th>2</th>\n",
       "      <td>분양매출</td>\n",
       "      <td>181624628277</td>\n",
       "      <td>135943263739</td>\n",
       "      <td>106892388253</td>\n",
       "    </tr>\n",
       "    <tr>\n",
       "      <th>3</th>\n",
       "      <td>기타매출</td>\n",
       "      <td>85205066149</td>\n",
       "      <td>64764518310</td>\n",
       "      <td>67298748919</td>\n",
       "    </tr>\n",
       "    <tr>\n",
       "      <th>4</th>\n",
       "      <td>매출원가</td>\n",
       "      <td>8446954582642</td>\n",
       "      <td>7900955006240</td>\n",
       "      <td>7578780671971</td>\n",
       "    </tr>\n",
       "    <tr>\n",
       "      <th>5</th>\n",
       "      <td>공사매출원가</td>\n",
       "      <td>8152583142243</td>\n",
       "      <td>7659613385011</td>\n",
       "      <td>7330486384910</td>\n",
       "    </tr>\n",
       "    <tr>\n",
       "      <th>6</th>\n",
       "      <td>분양매출원가</td>\n",
       "      <td>195733087357</td>\n",
       "      <td>163721098315</td>\n",
       "      <td>173349062270</td>\n",
       "    </tr>\n",
       "    <tr>\n",
       "      <th>7</th>\n",
       "      <td>기타매출원가</td>\n",
       "      <td>98638353042</td>\n",
       "      <td>77620522914</td>\n",
       "      <td>74945224791</td>\n",
       "    </tr>\n",
       "    <tr>\n",
       "      <th>8</th>\n",
       "      <td>매출총이익(손실)</td>\n",
       "      <td>(585,145,188,805)</td>\n",
       "      <td>630034156546</td>\n",
       "      <td>946103020797</td>\n",
       "    </tr>\n",
       "    <tr>\n",
       "      <th>9</th>\n",
       "      <td>판매비와관리비</td>\n",
       "      <td>446251125297</td>\n",
       "      <td>496818027505</td>\n",
       "      <td>568081225178</td>\n",
       "    </tr>\n",
       "    <tr>\n",
       "      <th>10</th>\n",
       "      <td>영업이익(손실)</td>\n",
       "      <td>(1,031,396,314,102)</td>\n",
       "      <td>133216129041</td>\n",
       "      <td>378021795619</td>\n",
       "    </tr>\n",
       "    <tr>\n",
       "      <th>11</th>\n",
       "      <td>기타수익</td>\n",
       "      <td>387678330210</td>\n",
       "      <td>388888264801</td>\n",
       "      <td>527778594477</td>\n",
       "    </tr>\n",
       "    <tr>\n",
       "      <th>12</th>\n",
       "      <td>기타비용</td>\n",
       "      <td>480247350927</td>\n",
       "      <td>430876371917</td>\n",
       "      <td>360694432935</td>\n",
       "    </tr>\n",
       "    <tr>\n",
       "      <th>13</th>\n",
       "      <td>금융수익</td>\n",
       "      <td>207872511256</td>\n",
       "      <td>216132610092</td>\n",
       "      <td>205401754092</td>\n",
       "    </tr>\n",
       "    <tr>\n",
       "      <th>14</th>\n",
       "      <td>금융원가</td>\n",
       "      <td>213216343601</td>\n",
       "      <td>133591399052</td>\n",
       "      <td>237388545246</td>\n",
       "    </tr>\n",
       "    <tr>\n",
       "      <th>15</th>\n",
       "      <td>법인세비용차감전순이익(손실)</td>\n",
       "      <td>(1,129,309,167,164)</td>\n",
       "      <td>173769232965</td>\n",
       "      <td>513119166007</td>\n",
       "    </tr>\n",
       "    <tr>\n",
       "      <th>16</th>\n",
       "      <td>법인세비용(수익)</td>\n",
       "      <td>(203,275,099,416)</td>\n",
       "      <td>54635056399</td>\n",
       "      <td>100548386491</td>\n",
       "    </tr>\n",
       "    <tr>\n",
       "      <th>17</th>\n",
       "      <td>당기순이익(손실)</td>\n",
       "      <td>(926,034,067,748)</td>\n",
       "      <td>119134176566</td>\n",
       "      <td>412570779516</td>\n",
       "    </tr>\n",
       "    <tr>\n",
       "      <th>18</th>\n",
       "      <td>기본주당순이익(손실)</td>\n",
       "      <td>(18,685)</td>\n",
       "      <td>2407</td>\n",
       "      <td>8338</td>\n",
       "    </tr>\n",
       "  </tbody>\n",
       "</table>\n",
       "</div>"
      ],
      "text/plain": [
       "         Unnamed: 0               제 45 기         제 44 기         제 43 기\n",
       "0               매출액        7861809393837  8530989162786  8524883692768\n",
       "1              공사매출        7594979699411  8330281380737  8350692555596\n",
       "2              분양매출         181624628277   135943263739   106892388253\n",
       "3              기타매출          85205066149    64764518310    67298748919\n",
       "4              매출원가        8446954582642  7900955006240  7578780671971\n",
       "5            공사매출원가        8152583142243  7659613385011  7330486384910\n",
       "6            분양매출원가         195733087357   163721098315   173349062270\n",
       "7            기타매출원가          98638353042    77620522914    74945224791\n",
       "8         매출총이익(손실)    (585,145,188,805)   630034156546   946103020797\n",
       "9           판매비와관리비         446251125297   496818027505   568081225178\n",
       "10         영업이익(손실)  (1,031,396,314,102)   133216129041   378021795619\n",
       "11             기타수익         387678330210   388888264801   527778594477\n",
       "12             기타비용         480247350927   430876371917   360694432935\n",
       "13             금융수익         207872511256   216132610092   205401754092\n",
       "14             금융원가         213216343601   133591399052   237388545246\n",
       "15  법인세비용차감전순이익(손실)  (1,129,309,167,164)   173769232965   513119166007\n",
       "16        법인세비용(수익)    (203,275,099,416)    54635056399   100548386491\n",
       "17        당기순이익(손실)    (926,034,067,748)   119134176566   412570779516\n",
       "18      기본주당순이익(손실)             (18,685)           2407           8338"
      ]
     },
     "execution_count": 21,
     "metadata": {},
     "output_type": "execute_result"
    }
   ],
   "source": [
    "# 연결 현금흐름표 (CF)\n",
    "df_cf = df_list[13].astype(str)\n",
    "df_cf.head(20)"
   ]
  },
  {
   "cell_type": "markdown",
   "metadata": {
    "colab_type": "text",
    "id": "EBqvgmwL-L9j"
   },
   "source": [
    "데이터프레임에서 숫자를 제외한('[^0-9]')모든 내용을 빈 값('')으로 치환합니다."
   ]
  },
  {
   "cell_type": "code",
   "execution_count": 22,
   "metadata": {
    "colab": {
     "base_uri": "https://localhost:8080/",
     "height": 669
    },
    "colab_type": "code",
    "id": "oOOLhRD48gay",
    "outputId": "f8d32999-b142-4233-f930-abb0dd73564b"
   },
   "outputs": [
    {
     "data": {
      "text/html": [
       "<div>\n",
       "<style scoped>\n",
       "    .dataframe tbody tr th:only-of-type {\n",
       "        vertical-align: middle;\n",
       "    }\n",
       "\n",
       "    .dataframe tbody tr th {\n",
       "        vertical-align: top;\n",
       "    }\n",
       "\n",
       "    .dataframe thead th {\n",
       "        text-align: right;\n",
       "    }\n",
       "</style>\n",
       "<table border=\"1\" class=\"dataframe\">\n",
       "  <thead>\n",
       "    <tr style=\"text-align: right;\">\n",
       "      <th></th>\n",
       "      <th>Unnamed: 0</th>\n",
       "      <th>제 45 기</th>\n",
       "      <th>제 44 기</th>\n",
       "      <th>제 43 기</th>\n",
       "    </tr>\n",
       "  </thead>\n",
       "  <tbody>\n",
       "    <tr>\n",
       "      <th>0</th>\n",
       "      <td></td>\n",
       "      <td>7861809393837</td>\n",
       "      <td>8530989162786</td>\n",
       "      <td>8524883692768</td>\n",
       "    </tr>\n",
       "    <tr>\n",
       "      <th>1</th>\n",
       "      <td></td>\n",
       "      <td>7594979699411</td>\n",
       "      <td>8330281380737</td>\n",
       "      <td>8350692555596</td>\n",
       "    </tr>\n",
       "    <tr>\n",
       "      <th>2</th>\n",
       "      <td></td>\n",
       "      <td>181624628277</td>\n",
       "      <td>135943263739</td>\n",
       "      <td>106892388253</td>\n",
       "    </tr>\n",
       "    <tr>\n",
       "      <th>3</th>\n",
       "      <td></td>\n",
       "      <td>85205066149</td>\n",
       "      <td>64764518310</td>\n",
       "      <td>67298748919</td>\n",
       "    </tr>\n",
       "    <tr>\n",
       "      <th>4</th>\n",
       "      <td></td>\n",
       "      <td>8446954582642</td>\n",
       "      <td>7900955006240</td>\n",
       "      <td>7578780671971</td>\n",
       "    </tr>\n",
       "    <tr>\n",
       "      <th>5</th>\n",
       "      <td></td>\n",
       "      <td>8152583142243</td>\n",
       "      <td>7659613385011</td>\n",
       "      <td>7330486384910</td>\n",
       "    </tr>\n",
       "    <tr>\n",
       "      <th>6</th>\n",
       "      <td></td>\n",
       "      <td>195733087357</td>\n",
       "      <td>163721098315</td>\n",
       "      <td>173349062270</td>\n",
       "    </tr>\n",
       "    <tr>\n",
       "      <th>7</th>\n",
       "      <td></td>\n",
       "      <td>98638353042</td>\n",
       "      <td>77620522914</td>\n",
       "      <td>74945224791</td>\n",
       "    </tr>\n",
       "    <tr>\n",
       "      <th>8</th>\n",
       "      <td></td>\n",
       "      <td>585145188805</td>\n",
       "      <td>630034156546</td>\n",
       "      <td>946103020797</td>\n",
       "    </tr>\n",
       "    <tr>\n",
       "      <th>9</th>\n",
       "      <td></td>\n",
       "      <td>446251125297</td>\n",
       "      <td>496818027505</td>\n",
       "      <td>568081225178</td>\n",
       "    </tr>\n",
       "    <tr>\n",
       "      <th>10</th>\n",
       "      <td></td>\n",
       "      <td>1031396314102</td>\n",
       "      <td>133216129041</td>\n",
       "      <td>378021795619</td>\n",
       "    </tr>\n",
       "    <tr>\n",
       "      <th>11</th>\n",
       "      <td></td>\n",
       "      <td>387678330210</td>\n",
       "      <td>388888264801</td>\n",
       "      <td>527778594477</td>\n",
       "    </tr>\n",
       "    <tr>\n",
       "      <th>12</th>\n",
       "      <td></td>\n",
       "      <td>480247350927</td>\n",
       "      <td>430876371917</td>\n",
       "      <td>360694432935</td>\n",
       "    </tr>\n",
       "    <tr>\n",
       "      <th>13</th>\n",
       "      <td></td>\n",
       "      <td>207872511256</td>\n",
       "      <td>216132610092</td>\n",
       "      <td>205401754092</td>\n",
       "    </tr>\n",
       "    <tr>\n",
       "      <th>14</th>\n",
       "      <td></td>\n",
       "      <td>213216343601</td>\n",
       "      <td>133591399052</td>\n",
       "      <td>237388545246</td>\n",
       "    </tr>\n",
       "    <tr>\n",
       "      <th>15</th>\n",
       "      <td></td>\n",
       "      <td>1129309167164</td>\n",
       "      <td>173769232965</td>\n",
       "      <td>513119166007</td>\n",
       "    </tr>\n",
       "    <tr>\n",
       "      <th>16</th>\n",
       "      <td></td>\n",
       "      <td>203275099416</td>\n",
       "      <td>54635056399</td>\n",
       "      <td>100548386491</td>\n",
       "    </tr>\n",
       "    <tr>\n",
       "      <th>17</th>\n",
       "      <td></td>\n",
       "      <td>926034067748</td>\n",
       "      <td>119134176566</td>\n",
       "      <td>412570779516</td>\n",
       "    </tr>\n",
       "    <tr>\n",
       "      <th>18</th>\n",
       "      <td></td>\n",
       "      <td>18685</td>\n",
       "      <td>2407</td>\n",
       "      <td>8338</td>\n",
       "    </tr>\n",
       "  </tbody>\n",
       "</table>\n",
       "</div>"
      ],
      "text/plain": [
       "   Unnamed: 0         제 45 기         제 44 기         제 43 기\n",
       "0              7861809393837  8530989162786  8524883692768\n",
       "1              7594979699411  8330281380737  8350692555596\n",
       "2               181624628277   135943263739   106892388253\n",
       "3                85205066149    64764518310    67298748919\n",
       "4              8446954582642  7900955006240  7578780671971\n",
       "5              8152583142243  7659613385011  7330486384910\n",
       "6               195733087357   163721098315   173349062270\n",
       "7                98638353042    77620522914    74945224791\n",
       "8               585145188805   630034156546   946103020797\n",
       "9               446251125297   496818027505   568081225178\n",
       "10             1031396314102   133216129041   378021795619\n",
       "11              387678330210   388888264801   527778594477\n",
       "12              480247350927   430876371917   360694432935\n",
       "13              207872511256   216132610092   205401754092\n",
       "14              213216343601   133591399052   237388545246\n",
       "15             1129309167164   173769232965   513119166007\n",
       "16              203275099416    54635056399   100548386491\n",
       "17              926034067748   119134176566   412570779516\n",
       "18                     18685           2407           8338"
      ]
     },
     "execution_count": 22,
     "metadata": {},
     "output_type": "execute_result"
    }
   ],
   "source": [
    "import re\n",
    "\n",
    "df_cf.replace('[^0-9]', '', regex=True).head(20)"
   ]
  },
  {
   "cell_type": "markdown",
   "metadata": {
    "colab_type": "text",
    "id": "NiGzRhYh-eZz"
   },
   "source": [
    "데이터 프레임은 2차원 구조(컬럼과 로우로 구성)입니다. DataFrame.values로 2차원 값들만 추출할 수 있습니다.\n",
    "\n",
    "2차원 자료구조를 reshape(-1) 하여 간단하게 1차원 리스트로 바꿀 수 있습니다."
   ]
  },
  {
   "cell_type": "code",
   "execution_count": 23,
   "metadata": {
    "colab": {
     "base_uri": "https://localhost:8080/",
     "height": 431
    },
    "colab_type": "code",
    "id": "KoqOMnLd5xx_",
    "outputId": "f654e986-01fd-403b-9dcc-ba0489d95e89"
   },
   "outputs": [
    {
     "data": {
      "text/plain": [
       "array(['', '7861809393837', '8530989162786', '8524883692768', '',\n",
       "       '7594979699411', '8330281380737', '8350692555596', '',\n",
       "       '181624628277', '135943263739', '106892388253', '', '85205066149',\n",
       "       '64764518310', '67298748919', '', '8446954582642', '7900955006240',\n",
       "       '7578780671971', '', '8152583142243', '7659613385011',\n",
       "       '7330486384910', '', '195733087357', '163721098315',\n",
       "       '173349062270', '', '98638353042', '77620522914', '74945224791',\n",
       "       '', '585145188805', '630034156546', '946103020797', '',\n",
       "       '446251125297', '496818027505', '568081225178', '',\n",
       "       '1031396314102', '133216129041', '378021795619', '',\n",
       "       '387678330210', '388888264801', '527778594477', '', '480247350927',\n",
       "       '430876371917', '360694432935', '', '207872511256', '216132610092',\n",
       "       '205401754092', '', '213216343601', '133591399052', '237388545246',\n",
       "       '', '1129309167164', '173769232965', '513119166007', '',\n",
       "       '203275099416', '54635056399', '100548386491', '', '926034067748',\n",
       "       '119134176566', '412570779516', '', '18685', '2407', '8338'],\n",
       "      dtype=object)"
      ]
     },
     "execution_count": 23,
     "metadata": {},
     "output_type": "execute_result"
    }
   ],
   "source": [
    "val_list = df_cf.replace('[^0-9]', '', regex=True).values.reshape(-1)\n",
    "val_list"
   ]
  },
  {
   "cell_type": "markdown",
   "metadata": {
    "colab_type": "text",
    "id": "5G3iG6nf--qL"
   },
   "source": [
    "## 첫 번째 숫자 추출하기\n",
    "\n",
    "빈 값('')이 아닌 숫자 데이터의 첫 글자만 수집합니다"
   ]
  },
  {
   "cell_type": "code",
   "execution_count": 24,
   "metadata": {
    "colab": {
     "base_uri": "https://localhost:8080/",
     "height": 55
    },
    "colab_type": "code",
    "id": "RvoL93wK6cqQ",
    "outputId": "3d9af6c8-1a16-48a3-f7b8-3ed47844b397"
   },
   "outputs": [
    {
     "name": "stdout",
     "output_type": "stream",
     "text": [
      "[7, 8, 8, 7, 8, 8, 1, 1, 1, 8, 6, 6, 8, 7, 7, 8, 7, 7, 1, 1, 1, 9, 7, 7, 5, 6, 9, 4, 4, 5, 1, 1, 3, 3, 3, 5, 4, 4, 3, 2, 2, 2, 2, 1, 2, 1, 1, 5, 2, 5, 1, 9, 1, 4, 1, 2, 8]\n"
     ]
    }
   ],
   "source": [
    "leading_digits = [int(v[0]) for v in val_list if v]\n",
    "\n",
    "print(leading_digits)"
   ]
  },
  {
   "cell_type": "markdown",
   "metadata": {
    "colab_type": "text",
    "id": "1hR1sAES_omR"
   },
   "source": [
    "## 개수 세기\n",
    "파이썬의 dict를 사용하여 각 숫자의 개수를 카운트 합니다."
   ]
  },
  {
   "cell_type": "code",
   "execution_count": 25,
   "metadata": {
    "colab": {
     "base_uri": "https://localhost:8080/",
     "height": 35
    },
    "colab_type": "code",
    "id": "CFidqlJv_ome",
    "outputId": "0eadc416-f4f7-4f08-c446-247529c92831"
   },
   "outputs": [
    {
     "data": {
      "text/plain": [
       "{1: 14, 2: 7, 3: 4, 4: 5, 5: 5, 6: 3, 7: 8, 8: 8, 9: 3}"
      ]
     },
     "execution_count": 25,
     "metadata": {},
     "output_type": "execute_result"
    }
   ],
   "source": [
    "# counter dict 초기화\n",
    "counter = {i:0 for i in range(1, 10)}\n",
    "\n",
    "# dict를 사용하여 개수 세기\n",
    "for i in leading_digits:\n",
    "  counter[i] =  counter.get(i, 0) + 1\n",
    "\n",
    "counter  "
   ]
  },
  {
   "cell_type": "code",
   "execution_count": 26,
   "metadata": {
    "colab": {
     "base_uri": "https://localhost:8080/",
     "height": 179
    },
    "colab_type": "code",
    "id": "5NWlZGeCBXhZ",
    "outputId": "3983deb8-6285-4379-f268-38b395ca4bc0"
   },
   "outputs": [
    {
     "data": {
      "text/plain": [
       "{1: 0.24561403508771928,\n",
       " 2: 0.12280701754385964,\n",
       " 3: 0.07017543859649122,\n",
       " 4: 0.08771929824561403,\n",
       " 5: 0.08771929824561403,\n",
       " 6: 0.05263157894736842,\n",
       " 7: 0.14035087719298245,\n",
       " 8: 0.14035087719298245,\n",
       " 9: 0.05263157894736842}"
      ]
     },
     "execution_count": 26,
     "metadata": {},
     "output_type": "execute_result"
    }
   ],
   "source": [
    "total = sum(counter.values())\n",
    "finstat_ratio = {i: counter[i]/total for i in counter.keys()}\n",
    "finstat_ratio"
   ]
  },
  {
   "cell_type": "code",
   "execution_count": 27,
   "metadata": {
    "colab": {
     "base_uri": "https://localhost:8080/",
     "height": 328
    },
    "colab_type": "code",
    "id": "14pgNfS_BXhj",
    "outputId": "06a71848-ee90-4f9b-b9fd-182a65ac95ef"
   },
   "outputs": [
    {
     "data": {
      "text/html": [
       "<div>\n",
       "<style scoped>\n",
       "    .dataframe tbody tr th:only-of-type {\n",
       "        vertical-align: middle;\n",
       "    }\n",
       "\n",
       "    .dataframe tbody tr th {\n",
       "        vertical-align: top;\n",
       "    }\n",
       "\n",
       "    .dataframe thead th {\n",
       "        text-align: right;\n",
       "    }\n",
       "</style>\n",
       "<table border=\"1\" class=\"dataframe\">\n",
       "  <thead>\n",
       "    <tr style=\"text-align: right;\">\n",
       "      <th></th>\n",
       "      <th>benford</th>\n",
       "      <th>finstat</th>\n",
       "    </tr>\n",
       "  </thead>\n",
       "  <tbody>\n",
       "    <tr>\n",
       "      <th>1</th>\n",
       "      <td>0.301030</td>\n",
       "      <td>0.245614</td>\n",
       "    </tr>\n",
       "    <tr>\n",
       "      <th>2</th>\n",
       "      <td>0.176091</td>\n",
       "      <td>0.122807</td>\n",
       "    </tr>\n",
       "    <tr>\n",
       "      <th>3</th>\n",
       "      <td>0.124939</td>\n",
       "      <td>0.070175</td>\n",
       "    </tr>\n",
       "    <tr>\n",
       "      <th>4</th>\n",
       "      <td>0.096910</td>\n",
       "      <td>0.087719</td>\n",
       "    </tr>\n",
       "    <tr>\n",
       "      <th>5</th>\n",
       "      <td>0.079181</td>\n",
       "      <td>0.087719</td>\n",
       "    </tr>\n",
       "    <tr>\n",
       "      <th>6</th>\n",
       "      <td>0.066947</td>\n",
       "      <td>0.052632</td>\n",
       "    </tr>\n",
       "    <tr>\n",
       "      <th>7</th>\n",
       "      <td>0.057992</td>\n",
       "      <td>0.140351</td>\n",
       "    </tr>\n",
       "    <tr>\n",
       "      <th>8</th>\n",
       "      <td>0.051153</td>\n",
       "      <td>0.140351</td>\n",
       "    </tr>\n",
       "    <tr>\n",
       "      <th>9</th>\n",
       "      <td>0.045757</td>\n",
       "      <td>0.052632</td>\n",
       "    </tr>\n",
       "  </tbody>\n",
       "</table>\n",
       "</div>"
      ],
      "text/plain": [
       "    benford   finstat\n",
       "1  0.301030  0.245614\n",
       "2  0.176091  0.122807\n",
       "3  0.124939  0.070175\n",
       "4  0.096910  0.087719\n",
       "5  0.079181  0.087719\n",
       "6  0.066947  0.052632\n",
       "7  0.057992  0.140351\n",
       "8  0.051153  0.140351\n",
       "9  0.045757  0.052632"
      ]
     },
     "execution_count": 27,
     "metadata": {},
     "output_type": "execute_result"
    }
   ],
   "source": [
    "df_ratio = pd.DataFrame({\n",
    "    'benford': benford_values,\n",
    "    'finstat': finstat_ratio\n",
    "})\n",
    "\n",
    "df_ratio"
   ]
  },
  {
   "cell_type": "code",
   "execution_count": 28,
   "metadata": {
    "colab": {
     "base_uri": "https://localhost:8080/",
     "height": 396
    },
    "colab_type": "code",
    "id": "YJDsiG84BpKc",
    "outputId": "76672880-5ed3-4390-bb35-36964323e5db"
   },
   "outputs": [
    {
     "data": {
      "text/plain": [
       "<matplotlib.axes._subplots.AxesSubplot at 0x1810f850288>"
      ]
     },
     "execution_count": 28,
     "metadata": {},
     "output_type": "execute_result"
    },
    {
     "data": {
      "image/png": "[encoded data removed]",
      "text/plain": [
       "<Figure size 864x432 with 1 Axes>"
      ]
     },
     "metadata": {
      "needs_background": "light"
     },
     "output_type": "display_data"
    }
   ],
   "source": [
    "df_ratio.plot()"
   ]
  },
  {
   "cell_type": "markdown",
   "metadata": {
    "colab_type": "text",
    "id": "X_xOrIcJLiMu"
   },
   "source": [
    "## RMSE 와 최대오차\n",
    "\n",
    "$$\n",
    "RMSE = \\sqrt{\\frac{\\sum_{i=1}^{9}{(P(i) - P_{benford}(i))^2}}{9}} \n",
    "$$\n"
   ]
  },
  {
   "cell_type": "code",
   "execution_count": 29,
   "metadata": {
    "colab": {
     "base_uri": "https://localhost:8080/",
     "height": 35
    },
    "colab_type": "code",
    "id": "4g8ePLQcMsxM",
    "outputId": "29ef308f-3568-4763-efdb-2788ef1b4793"
   },
   "outputs": [
    {
     "data": {
      "text/plain": [
       "0.05170218530302402"
      ]
     },
     "execution_count": 29,
     "metadata": {},
     "output_type": "execute_result"
    }
   ],
   "source": [
    "rmse = ((df_ratio['finstat'] - df_ratio['benford']) ** 2).mean() ** 0.5\n",
    "rmse"
   ]
  },
  {
   "cell_type": "code",
   "execution_count": 30,
   "metadata": {
    "colab": {
     "base_uri": "https://localhost:8080/",
     "height": 35
    },
    "colab_type": "code",
    "id": "LepDKs5NXOQw",
    "outputId": "e998a702-ad4c-45df-8b87-1f5ef783d016"
   },
   "outputs": [
    {
     "data": {
      "text/plain": [
       "0.08919835474560116"
      ]
     },
     "execution_count": 30,
     "metadata": {},
     "output_type": "execute_result"
    }
   ],
   "source": [
    "np.abs(df_ratio['finstat'] - df_ratio['benford']).max()"
   ]
  },
  {
   "cell_type": "markdown",
   "metadata": {
    "colab_type": "text",
    "id": "elF0MT3c_k2r"
   },
   "source": [
    "# 함수로 정리"
   ]
  },
  {
   "cell_type": "code",
   "execution_count": 31,
   "metadata": {
    "colab": {},
    "colab_type": "code",
    "id": "Xr2g9Bvz_kXi"
   },
   "outputs": [],
   "source": [
    "import re\n",
    "import numpy as np\n",
    "\n",
    "def benford(df_list, plot=True):\n",
    "  val_list = []\n",
    "  # 전달된 데이터프레임 리스트에서 숫자 문자열만 추출\n",
    "  for df in df_list:\n",
    "    df = df.astype(str)\n",
    "    # 특정 문자열을 포함하는 데이터프레임만 대상\n",
    "    if any(x in df.to_html() for x in ['유동자산', '매출원가', '포괄손익', '현금흐름', '당기순이익']):\n",
    "      values = df.replace('[^0-9]', '', regex=True).values.reshape(-1)\n",
    "      val_list.extend(values)\n",
    "\n",
    "  # 첫 글자 목록 추출\n",
    "  leading_digits = [int(v[0]) for v in val_list if v]\n",
    "\n",
    "  # 개수 세기\n",
    "  counter = {i:0 for i in range(1, 10)}\n",
    "  for i in leading_digits:\n",
    "    counter[i] =  counter.get(i, 0) + 1\n",
    "\n",
    "  # 비율 구하기\n",
    "  total = sum(counter.values())\n",
    "  finstat_ratio = {i: counter[i]/total for i in counter.keys()}\n",
    "\n",
    "  # 데이터 프레임을 생성하여 반환\n",
    "  benford_values =  {d:np.log10((d+1)/d) for d in range(1,10)}\n",
    "  df_ratio = pd.DataFrame({\n",
    "    'benford': benford_values,\n",
    "    'finstat': finstat_ratio\n",
    "  })\n",
    "  if plot:\n",
    "    df_ratio.plot()\n",
    "  return df_ratio\n",
    "\n",
    "# return RMSE와 최대오차(max)\n",
    "def benford_desc(df_list):\n",
    "  df = benford(df_list, plot=False)\n",
    "  rmse = ((df['finstat'] - df['benford']) ** 2).mean() ** 0.5\n",
    "  max_err = np.abs(df['finstat'] - df['benford']).max()\n",
    "  return rmse, max_err"
   ]
  },
  {
   "cell_type": "code",
   "execution_count": 37,
   "metadata": {},
   "outputs": [
    {
     "data": {
      "text/html": [
       "<div>\n",
       "<style scoped>\n",
       "    .dataframe tbody tr th:only-of-type {\n",
       "        vertical-align: middle;\n",
       "    }\n",
       "\n",
       "    .dataframe tbody tr th {\n",
       "        vertical-align: top;\n",
       "    }\n",
       "\n",
       "    .dataframe thead th {\n",
       "        text-align: right;\n",
       "    }\n",
       "</style>\n",
       "<table border=\"1\" class=\"dataframe\">\n",
       "  <thead>\n",
       "    <tr style=\"text-align: right;\">\n",
       "      <th></th>\n",
       "      <th>benford</th>\n",
       "      <th>finstat</th>\n",
       "    </tr>\n",
       "  </thead>\n",
       "  <tbody>\n",
       "    <tr>\n",
       "      <th>1</th>\n",
       "      <td>0.301030</td>\n",
       "      <td>0.263925</td>\n",
       "    </tr>\n",
       "    <tr>\n",
       "      <th>2</th>\n",
       "      <td>0.176091</td>\n",
       "      <td>0.186804</td>\n",
       "    </tr>\n",
       "    <tr>\n",
       "      <th>3</th>\n",
       "      <td>0.124939</td>\n",
       "      <td>0.112254</td>\n",
       "    </tr>\n",
       "    <tr>\n",
       "      <th>4</th>\n",
       "      <td>0.096910</td>\n",
       "      <td>0.113967</td>\n",
       "    </tr>\n",
       "    <tr>\n",
       "      <th>5</th>\n",
       "      <td>0.079181</td>\n",
       "      <td>0.070266</td>\n",
       "    </tr>\n",
       "    <tr>\n",
       "      <th>6</th>\n",
       "      <td>0.066947</td>\n",
       "      <td>0.050557</td>\n",
       "    </tr>\n",
       "    <tr>\n",
       "      <th>7</th>\n",
       "      <td>0.057992</td>\n",
       "      <td>0.056555</td>\n",
       "    </tr>\n",
       "    <tr>\n",
       "      <th>8</th>\n",
       "      <td>0.051153</td>\n",
       "      <td>0.065981</td>\n",
       "    </tr>\n",
       "    <tr>\n",
       "      <th>9</th>\n",
       "      <td>0.045757</td>\n",
       "      <td>0.055698</td>\n",
       "    </tr>\n",
       "    <tr>\n",
       "      <th>0</th>\n",
       "      <td>NaN</td>\n",
       "      <td>0.023993</td>\n",
       "    </tr>\n",
       "  </tbody>\n",
       "</table>\n",
       "</div>"
      ],
      "text/plain": [
       "    benford   finstat\n",
       "1  0.301030  0.263925\n",
       "2  0.176091  0.186804\n",
       "3  0.124939  0.112254\n",
       "4  0.096910  0.113967\n",
       "5  0.079181  0.070266\n",
       "6  0.066947  0.050557\n",
       "7  0.057992  0.056555\n",
       "8  0.051153  0.065981\n",
       "9  0.045757  0.055698\n",
       "0       NaN  0.023993"
      ]
     },
     "execution_count": 37,
     "metadata": {},
     "output_type": "execute_result"
    },
    {
     "data": {
      "image/png": "[encoded data removed]",
      "text/plain": [
       "<Figure size 864x432 with 1 Axes>"
      ]
     },
     "metadata": {
      "needs_background": "light"
     },
     "output_type": "display_data"
    }
   ],
   "source": [
    "url = 'http://dart.fss.or.kr/report/viewer.do?rcpNo=20140324000163&dcmNo=4087556&eleId=25&offset=1134748&length=300531&dtd=dart3.xsd'\n",
    "df_list = pd.read_html(url)\n",
    "benford(df_list)"
   ]
  },
  {
   "cell_type": "code",
   "execution_count": 39,
   "metadata": {},
   "outputs": [
    {
     "data": {
      "text/html": [
       "<div>\n",
       "<style scoped>\n",
       "    .dataframe tbody tr th:only-of-type {\n",
       "        vertical-align: middle;\n",
       "    }\n",
       "\n",
       "    .dataframe tbody tr th {\n",
       "        vertical-align: top;\n",
       "    }\n",
       "\n",
       "    .dataframe thead th {\n",
       "        text-align: right;\n",
       "    }\n",
       "</style>\n",
       "<table border=\"1\" class=\"dataframe\">\n",
       "  <thead>\n",
       "    <tr style=\"text-align: right;\">\n",
       "      <th></th>\n",
       "      <th>benford</th>\n",
       "      <th>finstat</th>\n",
       "    </tr>\n",
       "  </thead>\n",
       "  <tbody>\n",
       "    <tr>\n",
       "      <th>1</th>\n",
       "      <td>0.301030</td>\n",
       "      <td>0.254296</td>\n",
       "    </tr>\n",
       "    <tr>\n",
       "      <th>2</th>\n",
       "      <td>0.176091</td>\n",
       "      <td>0.183849</td>\n",
       "    </tr>\n",
       "    <tr>\n",
       "      <th>3</th>\n",
       "      <td>0.124939</td>\n",
       "      <td>0.108247</td>\n",
       "    </tr>\n",
       "    <tr>\n",
       "      <th>4</th>\n",
       "      <td>0.096910</td>\n",
       "      <td>0.128866</td>\n",
       "    </tr>\n",
       "    <tr>\n",
       "      <th>5</th>\n",
       "      <td>0.079181</td>\n",
       "      <td>0.079038</td>\n",
       "    </tr>\n",
       "    <tr>\n",
       "      <th>6</th>\n",
       "      <td>0.066947</td>\n",
       "      <td>0.073883</td>\n",
       "    </tr>\n",
       "    <tr>\n",
       "      <th>7</th>\n",
       "      <td>0.057992</td>\n",
       "      <td>0.061856</td>\n",
       "    </tr>\n",
       "    <tr>\n",
       "      <th>8</th>\n",
       "      <td>0.051153</td>\n",
       "      <td>0.072165</td>\n",
       "    </tr>\n",
       "    <tr>\n",
       "      <th>9</th>\n",
       "      <td>0.045757</td>\n",
       "      <td>0.037801</td>\n",
       "    </tr>\n",
       "  </tbody>\n",
       "</table>\n",
       "</div>"
      ],
      "text/plain": [
       "    benford   finstat\n",
       "1  0.301030  0.254296\n",
       "2  0.176091  0.183849\n",
       "3  0.124939  0.108247\n",
       "4  0.096910  0.128866\n",
       "5  0.079181  0.079038\n",
       "6  0.066947  0.073883\n",
       "7  0.057992  0.061856\n",
       "8  0.051153  0.072165\n",
       "9  0.045757  0.037801"
      ]
     },
     "execution_count": 39,
     "metadata": {},
     "output_type": "execute_result"
    },
    {
     "data": {
      "image/png": "[encoded data removed]",
      "text/plain": [
       "<Figure size 864x432 with 1 Axes>"
      ]
     },
     "metadata": {
      "needs_background": "light"
     },
     "output_type": "display_data"
    }
   ],
   "source": [
    "url = 'http://dart.fss.or.kr/report/viewer.do?rcpNo=20190401004781&dcmNo=6616741&eleId=13&offset=625579&length=120141&dtd=dart3.xsd'\n",
    "df_list = pd.read_html(url)\n",
    "benford(df_list)"
   ]
  },
  {
   "cell_type": "markdown",
   "metadata": {
    "colab_type": "text",
    "id": "SSJ35MTmvGHa"
   },
   "source": [
    "## 모뉴엘\t감사보고서 (2009.06)\n",
    "http://dart.fss.or.kr/dsaf001/main.do?rcpNo=20090610000036\n",
    "\n",
    "#### 재 무 제 표 (2008, 2009년)\n",
    "http://dart.fss.or.kr/report/viewer.do?rcpNo=20090610000036&dcmNo=2330874&eleId=3&offset=9520&length=101157&dtd=dart3.xsd\n"
   ]
  },
  {
   "cell_type": "code",
   "execution_count": 32,
   "metadata": {
    "colab": {
     "base_uri": "https://localhost:8080/",
     "height": 35
    },
    "colab_type": "code",
    "id": "8O-PAo3bvFYK",
    "outputId": "3e24dca7-5008-457d-bcfb-4d76bdcf5c2e"
   },
   "outputs": [
    {
     "data": {
      "text/plain": [
       "16"
      ]
     },
     "execution_count": 32,
     "metadata": {},
     "output_type": "execute_result"
    }
   ],
   "source": [
    "import pandas as pd\n",
    "\n",
    "url = 'http://dart.fss.or.kr/report/viewer.do?rcpNo=20090610000036&dcmNo=2330874&eleId=3&offset=9520&length=101157&dtd=dart3.xsd'\n",
    "dfs = pd.read_html(url)\n",
    "len(dfs)"
   ]
  },
  {
   "cell_type": "code",
   "execution_count": 33,
   "metadata": {
    "colab": {
     "base_uri": "https://localhost:8080/",
     "height": 359
    },
    "colab_type": "code",
    "id": "YGN5BYpsvE8b",
    "outputId": "24598e59-3ab4-4d9d-ddd7-468ae4d64f8d"
   },
   "outputs": [
    {
     "data": {
      "text/html": [
       "<div>\n",
       "<style scoped>\n",
       "    .dataframe tbody tr th:only-of-type {\n",
       "        vertical-align: middle;\n",
       "    }\n",
       "\n",
       "    .dataframe tbody tr th {\n",
       "        vertical-align: top;\n",
       "    }\n",
       "\n",
       "    .dataframe thead th {\n",
       "        text-align: right;\n",
       "    }\n",
       "</style>\n",
       "<table border=\"1\" class=\"dataframe\">\n",
       "  <thead>\n",
       "    <tr style=\"text-align: right;\">\n",
       "      <th></th>\n",
       "      <th>과 목</th>\n",
       "      <th>제 5(당) 기</th>\n",
       "      <th>제 5(당) 기.1</th>\n",
       "      <th>제 4(전) 기</th>\n",
       "      <th>제 4(전) 기.1</th>\n",
       "    </tr>\n",
       "  </thead>\n",
       "  <tbody>\n",
       "    <tr>\n",
       "      <th>0</th>\n",
       "      <td>Ⅰ. 영업활동으로 인한 현금흐름</td>\n",
       "      <td>NaN</td>\n",
       "      <td>(13,485,949,268)</td>\n",
       "      <td>NaN</td>\n",
       "      <td>(9,470,917,414)</td>\n",
       "    </tr>\n",
       "    <tr>\n",
       "      <th>1</th>\n",
       "      <td>1. 당기순이익</td>\n",
       "      <td>7058328249</td>\n",
       "      <td>NaN</td>\n",
       "      <td>1230452397</td>\n",
       "      <td>NaN</td>\n",
       "    </tr>\n",
       "    <tr>\n",
       "      <th>2</th>\n",
       "      <td>2. 현금의 유출이 없는 비용 등의가산</td>\n",
       "      <td>1976501610</td>\n",
       "      <td>NaN</td>\n",
       "      <td>294925697</td>\n",
       "      <td>NaN</td>\n",
       "    </tr>\n",
       "    <tr>\n",
       "      <th>3</th>\n",
       "      <td>가. 매출채권매각손실</td>\n",
       "      <td>676839852</td>\n",
       "      <td>NaN</td>\n",
       "      <td>160677645</td>\n",
       "      <td>NaN</td>\n",
       "    </tr>\n",
       "    <tr>\n",
       "      <th>4</th>\n",
       "      <td>나. 감가상각비</td>\n",
       "      <td>47488363</td>\n",
       "      <td>NaN</td>\n",
       "      <td>16954023</td>\n",
       "      <td>NaN</td>\n",
       "    </tr>\n",
       "    <tr>\n",
       "      <th>5</th>\n",
       "      <td>다. 무형자산상각비</td>\n",
       "      <td>3732000</td>\n",
       "      <td>NaN</td>\n",
       "      <td>2834000</td>\n",
       "      <td>NaN</td>\n",
       "    </tr>\n",
       "    <tr>\n",
       "      <th>6</th>\n",
       "      <td>라. 대손상각비</td>\n",
       "      <td>193990867</td>\n",
       "      <td>NaN</td>\n",
       "      <td>6677932</td>\n",
       "      <td>NaN</td>\n",
       "    </tr>\n",
       "    <tr>\n",
       "      <th>7</th>\n",
       "      <td>마. 퇴직급여</td>\n",
       "      <td>69668803</td>\n",
       "      <td>NaN</td>\n",
       "      <td>40310697</td>\n",
       "      <td>NaN</td>\n",
       "    </tr>\n",
       "    <tr>\n",
       "      <th>8</th>\n",
       "      <td>바. 외화환산손실</td>\n",
       "      <td>984781725</td>\n",
       "      <td>NaN</td>\n",
       "      <td>67471400</td>\n",
       "      <td>NaN</td>\n",
       "    </tr>\n",
       "    <tr>\n",
       "      <th>9</th>\n",
       "      <td>3. 현금의 유입이 없는 수익 등의 차감</td>\n",
       "      <td>(1,013,905,960)</td>\n",
       "      <td>NaN</td>\n",
       "      <td>(101,769,720)</td>\n",
       "      <td>NaN</td>\n",
       "    </tr>\n",
       "  </tbody>\n",
       "</table>\n",
       "</div>"
      ],
      "text/plain": [
       "                      과 목         제 5(당) 기        제 5(당) 기.1       제 4(전) 기  \\\n",
       "0       Ⅰ. 영업활동으로 인한 현금흐름              NaN  (13,485,949,268)            NaN   \n",
       "1                1. 당기순이익       7058328249               NaN     1230452397   \n",
       "2   2. 현금의 유출이 없는 비용 등의가산       1976501610               NaN      294925697   \n",
       "3             가. 매출채권매각손실        676839852               NaN      160677645   \n",
       "4                나. 감가상각비         47488363               NaN       16954023   \n",
       "5              다. 무형자산상각비          3732000               NaN        2834000   \n",
       "6                라. 대손상각비        193990867               NaN        6677932   \n",
       "7                 마. 퇴직급여         69668803               NaN       40310697   \n",
       "8               바. 외화환산손실        984781725               NaN       67471400   \n",
       "9  3. 현금의 유입이 없는 수익 등의 차감  (1,013,905,960)               NaN  (101,769,720)   \n",
       "\n",
       "        제 4(전) 기.1  \n",
       "0  (9,470,917,414)  \n",
       "1              NaN  \n",
       "2              NaN  \n",
       "3              NaN  \n",
       "4              NaN  \n",
       "5              NaN  \n",
       "6              NaN  \n",
       "7              NaN  \n",
       "8              NaN  \n",
       "9              NaN  "
      ]
     },
     "execution_count": 33,
     "metadata": {},
     "output_type": "execute_result"
    }
   ],
   "source": [
    "dfs[14].head(10)"
   ]
  },
  {
   "cell_type": "code",
   "execution_count": 34,
   "metadata": {
    "colab": {
     "base_uri": "https://localhost:8080/",
     "height": 689
    },
    "colab_type": "code",
    "id": "KnaG70FZvEgD",
    "outputId": "c03df70e-0db3-49e8-d2a0-d4a96358a21d"
   },
   "outputs": [
    {
     "data": {
      "text/html": [
       "<div>\n",
       "<style scoped>\n",
       "    .dataframe tbody tr th:only-of-type {\n",
       "        vertical-align: middle;\n",
       "    }\n",
       "\n",
       "    .dataframe tbody tr th {\n",
       "        vertical-align: top;\n",
       "    }\n",
       "\n",
       "    .dataframe thead th {\n",
       "        text-align: right;\n",
       "    }\n",
       "</style>\n",
       "<table border=\"1\" class=\"dataframe\">\n",
       "  <thead>\n",
       "    <tr style=\"text-align: right;\">\n",
       "      <th></th>\n",
       "      <th>benford</th>\n",
       "      <th>finstat</th>\n",
       "    </tr>\n",
       "  </thead>\n",
       "  <tbody>\n",
       "    <tr>\n",
       "      <th>1</th>\n",
       "      <td>0.301030</td>\n",
       "      <td>0.372152</td>\n",
       "    </tr>\n",
       "    <tr>\n",
       "      <th>2</th>\n",
       "      <td>0.176091</td>\n",
       "      <td>0.177215</td>\n",
       "    </tr>\n",
       "    <tr>\n",
       "      <th>3</th>\n",
       "      <td>0.124939</td>\n",
       "      <td>0.093671</td>\n",
       "    </tr>\n",
       "    <tr>\n",
       "      <th>4</th>\n",
       "      <td>0.096910</td>\n",
       "      <td>0.096203</td>\n",
       "    </tr>\n",
       "    <tr>\n",
       "      <th>5</th>\n",
       "      <td>0.079181</td>\n",
       "      <td>0.070886</td>\n",
       "    </tr>\n",
       "    <tr>\n",
       "      <th>6</th>\n",
       "      <td>0.066947</td>\n",
       "      <td>0.070886</td>\n",
       "    </tr>\n",
       "    <tr>\n",
       "      <th>7</th>\n",
       "      <td>0.057992</td>\n",
       "      <td>0.048101</td>\n",
       "    </tr>\n",
       "    <tr>\n",
       "      <th>8</th>\n",
       "      <td>0.051153</td>\n",
       "      <td>0.027848</td>\n",
       "    </tr>\n",
       "    <tr>\n",
       "      <th>9</th>\n",
       "      <td>0.045757</td>\n",
       "      <td>0.043038</td>\n",
       "    </tr>\n",
       "  </tbody>\n",
       "</table>\n",
       "</div>"
      ],
      "text/plain": [
       "    benford   finstat\n",
       "1  0.301030  0.372152\n",
       "2  0.176091  0.177215\n",
       "3  0.124939  0.093671\n",
       "4  0.096910  0.096203\n",
       "5  0.079181  0.070886\n",
       "6  0.066947  0.070886\n",
       "7  0.057992  0.048101\n",
       "8  0.051153  0.027848\n",
       "9  0.045757  0.043038"
      ]
     },
     "execution_count": 34,
     "metadata": {},
     "output_type": "execute_result"
    },
    {
     "data": {
      "image/png": "[encoded data removed]",
      "text/plain": [
       "<Figure size 864x432 with 1 Axes>"
      ]
     },
     "metadata": {
      "needs_background": "light"
     },
     "output_type": "display_data"
    }
   ],
   "source": [
    "df = benford(dfs)\n",
    "df"
   ]
  },
  {
   "cell_type": "code",
   "execution_count": 35,
   "metadata": {
    "colab": {
     "base_uri": "https://localhost:8080/",
     "height": 35
    },
    "colab_type": "code",
    "id": "GlD89pNRA7nw",
    "outputId": "c084d135-f93e-4f51-bbcb-e05e8e178331"
   },
   "outputs": [
    {
     "data": {
      "text/plain": [
       "(0.027427505525541764, 0.071121903070196)"
      ]
     },
     "execution_count": 35,
     "metadata": {},
     "output_type": "execute_result"
    }
   ],
   "source": [
    "benford_desc(dfs)"
   ]
  },
  {
   "cell_type": "markdown",
   "metadata": {
    "colab_type": "text",
    "id": "XUKrNDotpBtI"
   },
   "source": [
    "### 2019 [FinanceData.KR](http://financedata.kr) | [facebook.com/financedata](http://facebook.com/financedata)"
   ]
  }
 ],
 "metadata": {
  "colab": {
   "collapsed_sections": [],
   "name": "벤포드의 법칙.ipynb",
   "provenance": [],
   "version": "0.3.2"
  },
  "kernelspec": {
   "display_name": "Python 3",
   "language": "python",
   "name": "python3"
  },
  "language_info": {
   "codemirror_mode": {
    "name": "ipython",
    "version": 3
   },
   "file_extension": ".py",
   "mimetype": "text/x-python",
   "name": "python",
   "nbconvert_exporter": "python",
   "pygments_lexer": "ipython3",
   "version": "3.7.6"
  }
 },
 "nbformat": 4,
 "nbformat_minor": 1
}
