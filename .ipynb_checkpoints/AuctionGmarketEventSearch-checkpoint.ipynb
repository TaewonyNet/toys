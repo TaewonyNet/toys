{
 "cells": [
  {
   "cell_type": "code",
   "execution_count": 1,
   "metadata": {},
   "outputs": [
    {
     "data": {
      "application/javascript": [
       "var kernel = IPython.notebook.kernel;\n",
       "var body = document.body,  \n",
       "attribs = body.attributes;\n",
       "var command = \"filename = \" + \"'\"+attribs['data-notebook-name'].value+\"'\";\n",
       "kernel.execute(command);\n"
      ],
      "text/plain": [
       "<IPython.core.display.Javascript object>"
      ]
     },
     "metadata": {},
     "output_type": "display_data"
    }
   ],
   "source": [
    "%%javascript\n",
    "var kernel = IPython.notebook.kernel;\n",
    "var body = document.body,  \n",
    "attribs = body.attributes;\n",
    "var command = \"filename = \" + \"'\"+attribs['data-notebook-name'].value+\"'\";\n",
    "kernel.execute(command);"
   ]
  },
  {
   "cell_type": "code",
   "execution_count": 2,
   "metadata": {},
   "outputs": [
    {
     "data": {
      "text/plain": [
       "<SimpleLog.SimpleLog at 0x27cd4d53108>"
      ]
     },
     "execution_count": 2,
     "metadata": {},
     "output_type": "execute_result"
    }
   ],
   "source": [
    "import SimpleLog\n",
    "SimpleLog.SimpleLog(filename + '.log')"
   ]
  },
  {
   "cell_type": "code",
   "execution_count": 3,
   "metadata": {},
   "outputs": [],
   "source": [
    "import requests\n",
    "import json\n",
    "import glob\n",
    "import os\n",
    "import sqlite3\n",
    "import lxml.html\n",
    "import re\n",
    "import ssl\n",
    "import urllib\n",
    "import threading\n",
    "import time\n",
    "from urllib.request import urlopen\n",
    "from urllib.parse import quote\n",
    "from bs4 import BeautifulSoup\n",
    "from dateutil.parser import parse\n",
    "from datetime import datetime, date, timedelta\n",
    "from itertools import product\n",
    "\n",
    "ctx = ssl.create_default_context()\n",
    "ctx.check_hostname = False\n",
    "ctx.verify_mode = ssl.CERT_NONE\n",
    "\n",
    "\n",
    "def get_url_source(url, values=None, headers=None):\n",
    "    try:\n",
    "        #print('get_url_source:', url)\n",
    "        source = None\n",
    "        #values = {'name' : 'Michael Foord',\n",
    "        #  'location' : 'Northampton',\n",
    "        #  'language' : 'Python' }\n",
    "        query = None\n",
    "        if not headers:\n",
    "            headers={\n",
    "                'User-Agent': 'Mozilla/5.0 (Windows NT 10.0; Win64; x64) AppleWebKit/537.36 (KHTML, like Gecko) Chrome/76.0.3809.132 Safari/537.36',\n",
    "            }\n",
    "        if (values):\n",
    "            query = urllib.parse.urlencode(values).encode('utf-8')\n",
    "        request = urllib.request.Request(\n",
    "            url, \n",
    "            data=query, \n",
    "            headers=headers\n",
    "        )\n",
    "#         print(headers)\n",
    "        # 데이터가 많아지면 못받는 경우가 있어서 타임아웃을 30초로 해둠\n",
    "        client = urlopen(request, timeout=30, context=ctx)\n",
    "        source = BeautifulSoup(client, 'lxml', from_encoding='utf-8')\n",
    "        return source # BeautifulSoup\n",
    "#         return client\n",
    "    except Exception as e:\n",
    "        print(str(e))\n",
    "        return None # ValueError\n",
    "    \n",
    "def get_url_event(no):\n",
    "    try:\n",
    "        url = 'http://rpp.auction.co.kr/?exhib=' + str(no)\n",
    "        source = get_url_source(url)\n",
    "        if source and source.find('title') and source.select_one('body'):\n",
    "            print(url, source.find('title').get_text(), regex.sub('', source.select_one('body').get_text(strip=True)))\n",
    "    except Exception as e:\n",
    "        print(str(e))\n",
    "        \n",
    "    try:\n",
    "        url = 'http://rpp.gmarket.co.kr/?exhib=' + str(no)\n",
    "        source = get_url_source(url)\n",
    "        if source and source.find('title') and source.select_one('body'):\n",
    "            print(url, source.find('title').get_text(), regex.sub('', source.select_one('body').get_text(strip=True)))\n",
    "    except Exception as e:\n",
    "        print(str(e))\n",
    "    \n",
    "    time.sleep(5)# 다운로드 후 대기시간"
   ]
  },
  {
   "cell_type": "code",
   "execution_count": 4,
   "metadata": {},
   "outputs": [],
   "source": [
    "# http://rpp.auction.co.kr/?exhib=36450\n",
    "# http://rpp.auction.co.kr/?exhib=37227\n",
    "# http://rpp.gmarket.co.kr/?exhib=29139\n",
    "# http://rpp.gmarket.co.kr/?exhib=36938"
   ]
  },
  {
   "cell_type": "code",
   "execution_count": 5,
   "metadata": {},
   "outputs": [],
   "source": [
    "import re\n",
    "regex = re.compile('[^0-9가-힣]')"
   ]
  },
  {
   "cell_type": "code",
   "execution_count": 6,
   "metadata": {
    "scrolled": true
   },
   "outputs": [],
   "source": [
    "print('테스트')"
   ]
  },
  {
   "cell_type": "code",
   "execution_count": 14,
   "metadata": {
    "scrolled": true
   },
   "outputs": [],
   "source": [
    "no = 38067\n",
    "get_url_event(no)"
   ]
  },
  {
   "cell_type": "code",
   "execution_count": null,
   "metadata": {},
   "outputs": [],
   "source": [
    "# 29000, 40000\n",
    "for no in range(38084, 40000):\n",
    "    get_url_event(no)"
   ]
  },
  {
   "cell_type": "code",
   "execution_count": null,
   "metadata": {},
   "outputs": [],
   "source": []
  },
  {
   "cell_type": "code",
   "execution_count": null,
   "metadata": {},
   "outputs": [],
   "source": []
  },
  {
   "cell_type": "code",
   "execution_count": null,
   "metadata": {},
   "outputs": [],
   "source": []
  }
 ],
 "metadata": {
  "kernelspec": {
   "display_name": "Python 3",
   "language": "python",
   "name": "python3"
  },
  "language_info": {
   "codemirror_mode": {
    "name": "ipython",
    "version": 3
   },
   "file_extension": ".py",
   "mimetype": "text/x-python",
   "name": "python",
   "nbconvert_exporter": "python",
   "pygments_lexer": "ipython3",
   "version": "3.7.4"
  }
 },
 "nbformat": 4,
 "nbformat_minor": 2
}
