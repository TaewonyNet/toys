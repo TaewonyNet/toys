{
 "cells": [
  {
   "cell_type": "markdown",
   "metadata": {
    "colab_type": "text",
    "id": "lKfJf974T-Ua"
   },
   "source": [
    "# 벤포드의 법칙 (Benford law)\n",
    "\n",
    "<img width=\"50%\" src=\"https://i.imgur.com/FmExD6c.png\" >\n",
    "\n",
    "\n",
    "### 2019 [FinanceData.KR](http://financedata.kr) | [facebook.com/financedata](http://facebook.com/financedata)\n"
   ]
  },
  {
   "cell_type": "markdown",
   "metadata": {
    "colab_type": "text",
    "id": "3y1xZFI-R06i"
   },
   "source": [
    "# 벤포드의 법칙 (Benford law)\n",
    "임의의 데이터 집합에서 처음 시작하는 수로 가장 많이 등장하는 것이 '1'이고, '2', '3' 순서대로 낮아 진다는 법칙\n",
    "\n",
    "* 데이터의 첫 자리가 1인 경우가 가장 많다 (30%)\n",
    "* 첫 자리의 숫자의 비율은 로그에 따라 결정\n",
    "* 첫 자리 1: 30.1%, 2: 17.6%, 3: 12.5% ...\n",
    "\n",
    "$$ \n",
    "P(d) = \\log_{10}\\left( \\frac{d+1}{d} \\right)\n",
    "$$\n",
    "\n",
    "[Benford's law (wikipedia)](https://en.wikipedia.org/wiki/Benford's_law)"
   ]
  },
  {
   "cell_type": "markdown",
   "metadata": {
    "colab_type": "text",
    "id": "jIP8xLH5o3ct"
   },
   "source": [
    "## 벤포드 값 구하기"
   ]
  },
  {
   "cell_type": "code",
   "execution_count": 0,
   "metadata": {
    "colab": {},
    "colab_type": "code",
    "id": "39GvRc9YRp_1"
   },
   "outputs": [],
   "source": [
    "%matplotlib inline\n",
    "import matplotlib.pylab as plt\n",
    "\n",
    "plt.rcParams[\"figure.figsize\"] = (12, 6)\n",
    "plt.rcParams['axes.grid'] = True \n",
    "plt.rcParams['lines.linewidth'] = 2"
   ]
  },
  {
   "cell_type": "code",
   "execution_count": 2,
   "metadata": {
    "colab": {
     "base_uri": "https://localhost:8080/",
     "height": 179
    },
    "colab_type": "code",
    "id": "MGxBofAbP508",
    "outputId": "672c76e8-d039-4310-a6da-6d6ae0f1a63b"
   },
   "outputs": [
    {
     "name": "stdout",
     "output_type": "stream",
     "text": [
      "0.3010\n",
      "0.1761\n",
      "0.1249\n",
      "0.0969\n",
      "0.0792\n",
      "0.0669\n",
      "0.0580\n",
      "0.0512\n",
      "0.0458\n"
     ]
    }
   ],
   "source": [
    "import numpy as np\n",
    "\n",
    "for d in range(1, 10):\n",
    "  v = np.log10((d+1)/d)\n",
    "  print('{:.4f}'.format(v))"
   ]
  },
  {
   "cell_type": "code",
   "execution_count": 3,
   "metadata": {
    "colab": {
     "base_uri": "https://localhost:8080/",
     "height": 179
    },
    "colab_type": "code",
    "id": "jaEuiTUZGhjO",
    "outputId": "57f6281b-d2b1-4f47-d1e4-2b6891c6d01f"
   },
   "outputs": [
    {
     "data": {
      "text/plain": [
       "{1: 0.3010299956639812,\n",
       " 2: 0.17609125905568124,\n",
       " 3: 0.12493873660829992,\n",
       " 4: 0.09691001300805642,\n",
       " 5: 0.07918124604762482,\n",
       " 6: 0.06694678963061322,\n",
       " 7: 0.05799194697768673,\n",
       " 8: 0.05115252244738129,\n",
       " 9: 0.04575749056067514}"
      ]
     },
     "execution_count": 3,
     "metadata": {
      "tags": []
     },
     "output_type": "execute_result"
    }
   ],
   "source": [
    "benford_values =  {d:np.log10((d+1)/d) for d in range(1,10)}\n",
    "benford_values"
   ]
  },
  {
   "cell_type": "code",
   "execution_count": 4,
   "metadata": {
    "colab": {
     "base_uri": "https://localhost:8080/",
     "height": 328
    },
    "colab_type": "code",
    "id": "X1xVoqpemM17",
    "outputId": "d5111668-f932-4a96-b9c8-1c5d4218bcf5"
   },
   "outputs": [
    {
     "data": {
      "text/html": [
       "<div>\n",
       "<style scoped>\n",
       "    .dataframe tbody tr th:only-of-type {\n",
       "        vertical-align: middle;\n",
       "    }\n",
       "\n",
       "    .dataframe tbody tr th {\n",
       "        vertical-align: top;\n",
       "    }\n",
       "\n",
       "    .dataframe thead th {\n",
       "        text-align: right;\n",
       "    }\n",
       "</style>\n",
       "<table border=\"1\" class=\"dataframe\">\n",
       "  <thead>\n",
       "    <tr style=\"text-align: right;\">\n",
       "      <th></th>\n",
       "      <th>benford</th>\n",
       "    </tr>\n",
       "  </thead>\n",
       "  <tbody>\n",
       "    <tr>\n",
       "      <th>1</th>\n",
       "      <td>0.301030</td>\n",
       "    </tr>\n",
       "    <tr>\n",
       "      <th>2</th>\n",
       "      <td>0.176091</td>\n",
       "    </tr>\n",
       "    <tr>\n",
       "      <th>3</th>\n",
       "      <td>0.124939</td>\n",
       "    </tr>\n",
       "    <tr>\n",
       "      <th>4</th>\n",
       "      <td>0.096910</td>\n",
       "    </tr>\n",
       "    <tr>\n",
       "      <th>5</th>\n",
       "      <td>0.079181</td>\n",
       "    </tr>\n",
       "    <tr>\n",
       "      <th>6</th>\n",
       "      <td>0.066947</td>\n",
       "    </tr>\n",
       "    <tr>\n",
       "      <th>7</th>\n",
       "      <td>0.057992</td>\n",
       "    </tr>\n",
       "    <tr>\n",
       "      <th>8</th>\n",
       "      <td>0.051153</td>\n",
       "    </tr>\n",
       "    <tr>\n",
       "      <th>9</th>\n",
       "      <td>0.045757</td>\n",
       "    </tr>\n",
       "  </tbody>\n",
       "</table>\n",
       "</div>"
      ],
      "text/plain": [
       "    benford\n",
       "1  0.301030\n",
       "2  0.176091\n",
       "3  0.124939\n",
       "4  0.096910\n",
       "5  0.079181\n",
       "6  0.066947\n",
       "7  0.057992\n",
       "8  0.051153\n",
       "9  0.045757"
      ]
     },
     "execution_count": 4,
     "metadata": {
      "tags": []
     },
     "output_type": "execute_result"
    }
   ],
   "source": [
    "import pandas as pd\n",
    "\n",
    "df = pd.DataFrame({'benford': benford_values})\n",
    "df"
   ]
  },
  {
   "cell_type": "code",
   "execution_count": 5,
   "metadata": {
    "colab": {
     "base_uri": "https://localhost:8080/",
     "height": 396
    },
    "colab_type": "code",
    "id": "zXp4KYNWDGUz",
    "outputId": "3a630eed-6ca5-4f92-83f5-d7f4dade4731"
   },
   "outputs": [
    {
     "data": {
      "text/plain": [
       "[<matplotlib.lines.Line2D at 0x7f3f9148e7f0>]"
      ]
     },
     "execution_count": 5,
     "metadata": {
      "tags": []
     },
     "output_type": "execute_result"
    },
    {
     "data": {
      "image/png": "[encoded data removed]",
      "text/plain": [
       "<Figure size 864x432 with 1 Axes>"
      ]
     },
     "metadata": {
      "tags": []
     },
     "output_type": "display_data"
    }
   ],
   "source": [
    "plt.bar(range(1, 10), df.benford)\n",
    "plt.plot(range(1, 10), df.benford, color='r', lw=3)"
   ]
  },
  {
   "cell_type": "markdown",
   "metadata": {
    "colab_type": "text",
    "id": "89rIoShLMHGL"
   },
   "source": [
    "# 조작된 영수증을 찾아라 \n",
    "\n",
    "<img width=\"80%\" src=\"https://i.imgur.com/tX4mtlX.png\" >\n",
    "\n",
    "http://hkconsensus.hankyung.com/apps.analysis/analysis.downpdf?report_idx=522341\n"
   ]
  },
  {
   "cell_type": "markdown",
   "metadata": {
    "colab_type": "text",
    "id": "tG97rmwVMHBv"
   },
   "source": [
    "## Enron 회계 조작사건 \n",
    "2001년 미국 수학자 마크 니그리니가 벤포드 법칙을 통해 회계 부정을 적발\n",
    "\n",
    "<img src=\"https://i.imgur.com/mSGkPo2.jpg\" >\n",
    "\n",
    "https://successfulportfolios.com/good-clean-fun-with-numbers/"
   ]
  },
  {
   "cell_type": "markdown",
   "metadata": {
    "colab_type": "text",
    "id": "a1YC1y6l3N5V"
   },
   "source": [
    "# 다양한 사례\n",
    "* [영국 LIBOR, 은행들 간의 금리 조작 담합 적발](https://dbr.donga.com/article/view/1206/article_no/6853)\n",
    "* [2009년 이란 부정선거의 증거](https://en.wikipedia.org/wiki/Iranian_presidential_election,_2009)\n",
    "* [그리스가 EU 가입시 제출한 거시경제 지표 조작](https://www.forbes.com/sites/timworstall/2011/09/12/greece-was-lying-about-its-budget-numbers)\n"
   ]
  },
  {
   "cell_type": "markdown",
   "metadata": {
    "colab_type": "text",
    "id": "5TPsSrEKzoJt"
   },
   "source": [
    "# 전자공시(DART) 재무제표 데이터\n",
    "\n",
    "#### 삼성전자 사업보고서 (2018년) (공시일자: 2019-04-01)\n",
    "http://dart.fss.or.kr/dsaf001/main.do?rcpNo=20190401004781\n",
    "\n",
    "#### III. 재무에 관한 사항 / 2. 연결재무제표\n",
    "http://dart.fss.or.kr/report/viewer.do?rcpNo=20190401004781&dcmNo=6616741&eleId=13&offset=625579&length=120141&dtd=dart3.xsd\n",
    "\n",
    "(개별 보고서의 프레임소스 보기를 통해 본문의 URL을 얻을 수 있습니다)\n"
   ]
  },
  {
   "cell_type": "code",
   "execution_count": 6,
   "metadata": {
    "colab": {
     "base_uri": "https://localhost:8080/",
     "height": 35
    },
    "colab_type": "code",
    "id": "WrvROFZJWwFf",
    "outputId": "07b46cce-be87-4146-c03e-41bb22964f5d"
   },
   "outputs": [
    {
     "data": {
      "text/plain": [
       "15"
      ]
     },
     "execution_count": 6,
     "metadata": {
      "tags": []
     },
     "output_type": "execute_result"
    }
   ],
   "source": [
    "import pandas as pd\n",
    "\n",
    "# 2016년, 2017년, 2018년 재무제표 (연결 재무상태표)\n",
    "url = 'http://dart.fss.or.kr/report/viewer.do?rcpNo=20190401004781&dcmNo=6616741&eleId=13&offset=625579&length=120141&dtd=dart3.xsd'\n",
    "\n",
    "df_list = pd.read_html(url)\n",
    "len(df_list)"
   ]
  },
  {
   "cell_type": "code",
   "execution_count": 7,
   "metadata": {
    "colab": {
     "base_uri": "https://localhost:8080/",
     "height": 669
    },
    "colab_type": "code",
    "id": "H20XCAiRWv__",
    "outputId": "a125bb61-ce68-4361-e2c7-f6ca449433fd"
   },
   "outputs": [
    {
     "data": {
      "text/html": [
       "<div>\n",
       "<style scoped>\n",
       "    .dataframe tbody tr th:only-of-type {\n",
       "        vertical-align: middle;\n",
       "    }\n",
       "\n",
       "    .dataframe tbody tr th {\n",
       "        vertical-align: top;\n",
       "    }\n",
       "\n",
       "    .dataframe thead th {\n",
       "        text-align: right;\n",
       "    }\n",
       "</style>\n",
       "<table border=\"1\" class=\"dataframe\">\n",
       "  <thead>\n",
       "    <tr style=\"text-align: right;\">\n",
       "      <th></th>\n",
       "      <th>Unnamed: 0</th>\n",
       "      <th>제 50 기</th>\n",
       "      <th>제 49 기</th>\n",
       "      <th>제 48 기</th>\n",
       "    </tr>\n",
       "  </thead>\n",
       "  <tbody>\n",
       "    <tr>\n",
       "      <th>0</th>\n",
       "      <td>자산</td>\n",
       "      <td>nan</td>\n",
       "      <td>nan</td>\n",
       "      <td>nan</td>\n",
       "    </tr>\n",
       "    <tr>\n",
       "      <th>1</th>\n",
       "      <td>유동자산</td>\n",
       "      <td>174697424</td>\n",
       "      <td>146982464</td>\n",
       "      <td>141429704</td>\n",
       "    </tr>\n",
       "    <tr>\n",
       "      <th>2</th>\n",
       "      <td>현금및현금성자산</td>\n",
       "      <td>30340505</td>\n",
       "      <td>30545130</td>\n",
       "      <td>32111442</td>\n",
       "    </tr>\n",
       "    <tr>\n",
       "      <th>3</th>\n",
       "      <td>단기금융상품</td>\n",
       "      <td>65893797</td>\n",
       "      <td>49447696</td>\n",
       "      <td>52432411</td>\n",
       "    </tr>\n",
       "    <tr>\n",
       "      <th>4</th>\n",
       "      <td>단기매도가능금융자산</td>\n",
       "      <td>nan</td>\n",
       "      <td>3191375</td>\n",
       "      <td>3638460</td>\n",
       "    </tr>\n",
       "    <tr>\n",
       "      <th>5</th>\n",
       "      <td>단기상각후원가금융자산</td>\n",
       "      <td>2703693</td>\n",
       "      <td>nan</td>\n",
       "      <td>nan</td>\n",
       "    </tr>\n",
       "    <tr>\n",
       "      <th>6</th>\n",
       "      <td>단기당기손익-공정가치금융자산</td>\n",
       "      <td>2001948</td>\n",
       "      <td>nan</td>\n",
       "      <td>nan</td>\n",
       "    </tr>\n",
       "    <tr>\n",
       "      <th>7</th>\n",
       "      <td>매출채권</td>\n",
       "      <td>33867733</td>\n",
       "      <td>27695995</td>\n",
       "      <td>24279211</td>\n",
       "    </tr>\n",
       "    <tr>\n",
       "      <th>8</th>\n",
       "      <td>미수금</td>\n",
       "      <td>3080733</td>\n",
       "      <td>4108961</td>\n",
       "      <td>3521197</td>\n",
       "    </tr>\n",
       "    <tr>\n",
       "      <th>9</th>\n",
       "      <td>선급금</td>\n",
       "      <td>1361807</td>\n",
       "      <td>1753673</td>\n",
       "      <td>1439938</td>\n",
       "    </tr>\n",
       "    <tr>\n",
       "      <th>10</th>\n",
       "      <td>선급비용</td>\n",
       "      <td>4136167</td>\n",
       "      <td>3835219</td>\n",
       "      <td>3502083</td>\n",
       "    </tr>\n",
       "    <tr>\n",
       "      <th>11</th>\n",
       "      <td>재고자산</td>\n",
       "      <td>28984704</td>\n",
       "      <td>24983355</td>\n",
       "      <td>18353503</td>\n",
       "    </tr>\n",
       "    <tr>\n",
       "      <th>12</th>\n",
       "      <td>기타유동자산</td>\n",
       "      <td>2326337</td>\n",
       "      <td>1421060</td>\n",
       "      <td>1315653</td>\n",
       "    </tr>\n",
       "    <tr>\n",
       "      <th>13</th>\n",
       "      <td>매각예정분류자산</td>\n",
       "      <td>nan</td>\n",
       "      <td>nan</td>\n",
       "      <td>835806</td>\n",
       "    </tr>\n",
       "    <tr>\n",
       "      <th>14</th>\n",
       "      <td>비유동자산</td>\n",
       "      <td>164659820</td>\n",
       "      <td>154769626</td>\n",
       "      <td>120744620</td>\n",
       "    </tr>\n",
       "    <tr>\n",
       "      <th>15</th>\n",
       "      <td>장기매도가능금융자산</td>\n",
       "      <td>nan</td>\n",
       "      <td>7752180</td>\n",
       "      <td>6804276</td>\n",
       "    </tr>\n",
       "    <tr>\n",
       "      <th>16</th>\n",
       "      <td>만기보유금융자산</td>\n",
       "      <td>nan</td>\n",
       "      <td>106751</td>\n",
       "      <td>nan</td>\n",
       "    </tr>\n",
       "    <tr>\n",
       "      <th>17</th>\n",
       "      <td>상각후원가금융자산</td>\n",
       "      <td>238309</td>\n",
       "      <td>nan</td>\n",
       "      <td>nan</td>\n",
       "    </tr>\n",
       "    <tr>\n",
       "      <th>18</th>\n",
       "      <td>기타포괄손익-공정가치금융자산</td>\n",
       "      <td>7301351</td>\n",
       "      <td>nan</td>\n",
       "      <td>nan</td>\n",
       "    </tr>\n",
       "    <tr>\n",
       "      <th>19</th>\n",
       "      <td>당기손익-공정가치금융자산</td>\n",
       "      <td>775427</td>\n",
       "      <td>nan</td>\n",
       "      <td>nan</td>\n",
       "    </tr>\n",
       "  </tbody>\n",
       "</table>\n",
       "</div>"
      ],
      "text/plain": [
       "         Unnamed: 0     제 50 기     제 49 기     제 48 기\n",
       "0                자산        nan        nan        nan\n",
       "1              유동자산  174697424  146982464  141429704\n",
       "2          현금및현금성자산   30340505   30545130   32111442\n",
       "3            단기금융상품   65893797   49447696   52432411\n",
       "4        단기매도가능금융자산        nan    3191375    3638460\n",
       "5       단기상각후원가금융자산    2703693        nan        nan\n",
       "6   단기당기손익-공정가치금융자산    2001948        nan        nan\n",
       "7              매출채권   33867733   27695995   24279211\n",
       "8               미수금    3080733    4108961    3521197\n",
       "9               선급금    1361807    1753673    1439938\n",
       "10             선급비용    4136167    3835219    3502083\n",
       "11             재고자산   28984704   24983355   18353503\n",
       "12           기타유동자산    2326337    1421060    1315653\n",
       "13         매각예정분류자산        nan        nan     835806\n",
       "14            비유동자산  164659820  154769626  120744620\n",
       "15       장기매도가능금융자산        nan    7752180    6804276\n",
       "16         만기보유금융자산        nan     106751        nan\n",
       "17        상각후원가금융자산     238309        nan        nan\n",
       "18  기타포괄손익-공정가치금융자산    7301351        nan        nan\n",
       "19    당기손익-공정가치금융자산     775427        nan        nan"
      ]
     },
     "execution_count": 7,
     "metadata": {
      "tags": []
     },
     "output_type": "execute_result"
    }
   ],
   "source": [
    "# 연결 재무상태표(BS)\n",
    "df_bs = df_list[1].astype(str)\n",
    "df_bs.head(20)"
   ]
  },
  {
   "cell_type": "code",
   "execution_count": 8,
   "metadata": {
    "colab": {
     "base_uri": "https://localhost:8080/",
     "height": 514
    },
    "colab_type": "code",
    "id": "L1kKoWyQ11P-",
    "outputId": "be9d64dd-8718-454c-e703-c77619ca2baf"
   },
   "outputs": [
    {
     "data": {
      "text/html": [
       "<div>\n",
       "<style scoped>\n",
       "    .dataframe tbody tr th:only-of-type {\n",
       "        vertical-align: middle;\n",
       "    }\n",
       "\n",
       "    .dataframe tbody tr th {\n",
       "        vertical-align: top;\n",
       "    }\n",
       "\n",
       "    .dataframe thead th {\n",
       "        text-align: right;\n",
       "    }\n",
       "</style>\n",
       "<table border=\"1\" class=\"dataframe\">\n",
       "  <thead>\n",
       "    <tr style=\"text-align: right;\">\n",
       "      <th></th>\n",
       "      <th>Unnamed: 0</th>\n",
       "      <th>제 50 기</th>\n",
       "      <th>제 49 기</th>\n",
       "      <th>제 48 기</th>\n",
       "    </tr>\n",
       "  </thead>\n",
       "  <tbody>\n",
       "    <tr>\n",
       "      <th>0</th>\n",
       "      <td>당기순이익(손실)</td>\n",
       "      <td>44344857</td>\n",
       "      <td>42186747</td>\n",
       "      <td>22726092</td>\n",
       "    </tr>\n",
       "    <tr>\n",
       "      <th>1</th>\n",
       "      <td>기타포괄손익</td>\n",
       "      <td>(12,242)</td>\n",
       "      <td>(5,502,257)</td>\n",
       "      <td>1991400</td>\n",
       "    </tr>\n",
       "    <tr>\n",
       "      <th>2</th>\n",
       "      <td>후속적으로 당기손익으로 재분류되지 않는 포괄손익</td>\n",
       "      <td>(656,647)</td>\n",
       "      <td>407900</td>\n",
       "      <td>1014040</td>\n",
       "    </tr>\n",
       "    <tr>\n",
       "      <th>3</th>\n",
       "      <td>기타포괄손익-공정가치금융자산평가손익</td>\n",
       "      <td>(235,865)</td>\n",
       "      <td>nan</td>\n",
       "      <td>nan</td>\n",
       "    </tr>\n",
       "    <tr>\n",
       "      <th>4</th>\n",
       "      <td>관계기업 및 공동기업의 기타포괄손익에 대한 지분</td>\n",
       "      <td>(10,631)</td>\n",
       "      <td>(6,347)</td>\n",
       "      <td>50438</td>\n",
       "    </tr>\n",
       "    <tr>\n",
       "      <th>5</th>\n",
       "      <td>순확정급여부채 재측정요소</td>\n",
       "      <td>(410,151)</td>\n",
       "      <td>414247</td>\n",
       "      <td>963602</td>\n",
       "    </tr>\n",
       "    <tr>\n",
       "      <th>6</th>\n",
       "      <td>후속적으로 당기손익으로 재분류되는 포괄손익</td>\n",
       "      <td>644405</td>\n",
       "      <td>(5,910,157)</td>\n",
       "      <td>977360</td>\n",
       "    </tr>\n",
       "    <tr>\n",
       "      <th>7</th>\n",
       "      <td>매도가능금융자산평가손익</td>\n",
       "      <td>nan</td>\n",
       "      <td>511207</td>\n",
       "      <td>(23,839)</td>\n",
       "    </tr>\n",
       "    <tr>\n",
       "      <th>8</th>\n",
       "      <td>관계기업 및 공동기업의 기타포괄손익에 대한 지분</td>\n",
       "      <td>6688</td>\n",
       "      <td>(49,256)</td>\n",
       "      <td>(130,337)</td>\n",
       "    </tr>\n",
       "    <tr>\n",
       "      <th>9</th>\n",
       "      <td>해외사업장환산외환차이</td>\n",
       "      <td>590638</td>\n",
       "      <td>(6,334,987)</td>\n",
       "      <td>1131536</td>\n",
       "    </tr>\n",
       "    <tr>\n",
       "      <th>10</th>\n",
       "      <td>현금흐름위험회피파생상품평가손익</td>\n",
       "      <td>47079</td>\n",
       "      <td>(37,121)</td>\n",
       "      <td>nan</td>\n",
       "    </tr>\n",
       "    <tr>\n",
       "      <th>11</th>\n",
       "      <td>총포괄손익</td>\n",
       "      <td>44332615</td>\n",
       "      <td>36684490</td>\n",
       "      <td>24717492</td>\n",
       "    </tr>\n",
       "    <tr>\n",
       "      <th>12</th>\n",
       "      <td>포괄손익의 귀속</td>\n",
       "      <td>nan</td>\n",
       "      <td>nan</td>\n",
       "      <td>nan</td>\n",
       "    </tr>\n",
       "    <tr>\n",
       "      <th>13</th>\n",
       "      <td>지배기업 소유주지분</td>\n",
       "      <td>43882473</td>\n",
       "      <td>35887505</td>\n",
       "      <td>24310814</td>\n",
       "    </tr>\n",
       "    <tr>\n",
       "      <th>14</th>\n",
       "      <td>비지배지분</td>\n",
       "      <td>450142</td>\n",
       "      <td>796985</td>\n",
       "      <td>406678</td>\n",
       "    </tr>\n",
       "  </tbody>\n",
       "</table>\n",
       "</div>"
      ],
      "text/plain": [
       "                    Unnamed: 0     제 50 기       제 49 기     제 48 기\n",
       "0                    당기순이익(손실)   44344857     42186747   22726092\n",
       "1                       기타포괄손익   (12,242)  (5,502,257)    1991400\n",
       "2   후속적으로 당기손익으로 재분류되지 않는 포괄손익  (656,647)       407900    1014040\n",
       "3          기타포괄손익-공정가치금융자산평가손익  (235,865)          nan        nan\n",
       "4   관계기업 및 공동기업의 기타포괄손익에 대한 지분   (10,631)      (6,347)      50438\n",
       "5                순확정급여부채 재측정요소  (410,151)       414247     963602\n",
       "6      후속적으로 당기손익으로 재분류되는 포괄손익     644405  (5,910,157)     977360\n",
       "7                 매도가능금융자산평가손익        nan       511207   (23,839)\n",
       "8   관계기업 및 공동기업의 기타포괄손익에 대한 지분       6688     (49,256)  (130,337)\n",
       "9                  해외사업장환산외환차이     590638  (6,334,987)    1131536\n",
       "10            현금흐름위험회피파생상품평가손익      47079     (37,121)        nan\n",
       "11                       총포괄손익   44332615     36684490   24717492\n",
       "12                    포괄손익의 귀속        nan          nan        nan\n",
       "13                  지배기업 소유주지분   43882473     35887505   24310814\n",
       "14                       비지배지분     450142       796985     406678"
      ]
     },
     "execution_count": 8,
     "metadata": {
      "tags": []
     },
     "output_type": "execute_result"
    }
   ],
   "source": [
    "# 연결 포괄손익계산서 (IS)\n",
    "df_is = df_list[7].astype(str)\n",
    "df_is.head(20)"
   ]
  },
  {
   "cell_type": "code",
   "execution_count": 9,
   "metadata": {
    "colab": {
     "base_uri": "https://localhost:8080/",
     "height": 669
    },
    "colab_type": "code",
    "id": "VVs3QmW-11KW",
    "outputId": "083eecf7-a0e0-499a-9e7d-2fa06dc59f5b"
   },
   "outputs": [
    {
     "data": {
      "text/html": [
       "<div>\n",
       "<style scoped>\n",
       "    .dataframe tbody tr th:only-of-type {\n",
       "        vertical-align: middle;\n",
       "    }\n",
       "\n",
       "    .dataframe tbody tr th {\n",
       "        vertical-align: top;\n",
       "    }\n",
       "\n",
       "    .dataframe thead th {\n",
       "        text-align: right;\n",
       "    }\n",
       "</style>\n",
       "<table border=\"1\" class=\"dataframe\">\n",
       "  <thead>\n",
       "    <tr style=\"text-align: right;\">\n",
       "      <th></th>\n",
       "      <th>Unnamed: 0</th>\n",
       "      <th>제 50 기</th>\n",
       "      <th>제 49 기</th>\n",
       "      <th>제 48 기</th>\n",
       "    </tr>\n",
       "  </thead>\n",
       "  <tbody>\n",
       "    <tr>\n",
       "      <th>0</th>\n",
       "      <td>영업활동 현금흐름</td>\n",
       "      <td>67031863</td>\n",
       "      <td>62162041</td>\n",
       "      <td>47385644</td>\n",
       "    </tr>\n",
       "    <tr>\n",
       "      <th>1</th>\n",
       "      <td>영업에서 창출된 현금흐름</td>\n",
       "      <td>78025064</td>\n",
       "      <td>67777432</td>\n",
       "      <td>52299610</td>\n",
       "    </tr>\n",
       "    <tr>\n",
       "      <th>2</th>\n",
       "      <td>당기순이익</td>\n",
       "      <td>44344857</td>\n",
       "      <td>42186747</td>\n",
       "      <td>22726092</td>\n",
       "    </tr>\n",
       "    <tr>\n",
       "      <th>3</th>\n",
       "      <td>조정</td>\n",
       "      <td>43604573</td>\n",
       "      <td>36211232</td>\n",
       "      <td>30754471</td>\n",
       "    </tr>\n",
       "    <tr>\n",
       "      <th>4</th>\n",
       "      <td>영업활동으로 인한 자산부채의 변동</td>\n",
       "      <td>(9,924,366)</td>\n",
       "      <td>(10,620,547)</td>\n",
       "      <td>(1,180,953)</td>\n",
       "    </tr>\n",
       "    <tr>\n",
       "      <th>5</th>\n",
       "      <td>이자의 수취</td>\n",
       "      <td>1788520</td>\n",
       "      <td>1581117</td>\n",
       "      <td>1405085</td>\n",
       "    </tr>\n",
       "    <tr>\n",
       "      <th>6</th>\n",
       "      <td>이자의 지급</td>\n",
       "      <td>(548,272)</td>\n",
       "      <td>(542,715)</td>\n",
       "      <td>(443,838)</td>\n",
       "    </tr>\n",
       "    <tr>\n",
       "      <th>7</th>\n",
       "      <td>배당금 수입</td>\n",
       "      <td>215992</td>\n",
       "      <td>173305</td>\n",
       "      <td>256851</td>\n",
       "    </tr>\n",
       "    <tr>\n",
       "      <th>8</th>\n",
       "      <td>법인세 납부액</td>\n",
       "      <td>(12,449,441)</td>\n",
       "      <td>(6,827,098)</td>\n",
       "      <td>(6,132,064)</td>\n",
       "    </tr>\n",
       "    <tr>\n",
       "      <th>9</th>\n",
       "      <td>투자활동 현금흐름</td>\n",
       "      <td>(52,240,453)</td>\n",
       "      <td>(49,385,216)</td>\n",
       "      <td>(29,658,675)</td>\n",
       "    </tr>\n",
       "    <tr>\n",
       "      <th>10</th>\n",
       "      <td>단기금융상품의 순감소(증가)</td>\n",
       "      <td>(12,368,298)</td>\n",
       "      <td>387627</td>\n",
       "      <td>(6,780,610)</td>\n",
       "    </tr>\n",
       "    <tr>\n",
       "      <th>11</th>\n",
       "      <td>단기상각후원가금융자산의 순증가</td>\n",
       "      <td>(1,436,844)</td>\n",
       "      <td>nan</td>\n",
       "      <td>nan</td>\n",
       "    </tr>\n",
       "    <tr>\n",
       "      <th>12</th>\n",
       "      <td>단기당기손익-공정가치금융자산의 순증가</td>\n",
       "      <td>(139,668)</td>\n",
       "      <td>nan</td>\n",
       "      <td>nan</td>\n",
       "    </tr>\n",
       "    <tr>\n",
       "      <th>13</th>\n",
       "      <td>단기매도가능금융자산의 처분</td>\n",
       "      <td>nan</td>\n",
       "      <td>499856</td>\n",
       "      <td>3010003</td>\n",
       "    </tr>\n",
       "    <tr>\n",
       "      <th>14</th>\n",
       "      <td>단기매도가능금융자산의 취득</td>\n",
       "      <td>nan</td>\n",
       "      <td>nan</td>\n",
       "      <td>(2,129,551)</td>\n",
       "    </tr>\n",
       "    <tr>\n",
       "      <th>15</th>\n",
       "      <td>장기금융상품의 처분</td>\n",
       "      <td>255850</td>\n",
       "      <td>1750221</td>\n",
       "      <td>789862</td>\n",
       "    </tr>\n",
       "    <tr>\n",
       "      <th>16</th>\n",
       "      <td>장기금융상품의 취득</td>\n",
       "      <td>(7,678,654)</td>\n",
       "      <td>(1,079,355)</td>\n",
       "      <td>(1,741,547)</td>\n",
       "    </tr>\n",
       "    <tr>\n",
       "      <th>17</th>\n",
       "      <td>장기매도가능금융자산의 처분</td>\n",
       "      <td>nan</td>\n",
       "      <td>191826</td>\n",
       "      <td>2010356</td>\n",
       "    </tr>\n",
       "    <tr>\n",
       "      <th>18</th>\n",
       "      <td>장기매도가능금융자산의 취득</td>\n",
       "      <td>nan</td>\n",
       "      <td>(358,497)</td>\n",
       "      <td>(1,498,148)</td>\n",
       "    </tr>\n",
       "    <tr>\n",
       "      <th>19</th>\n",
       "      <td>만기보유금융자산의 취득</td>\n",
       "      <td>nan</td>\n",
       "      <td>(106,751)</td>\n",
       "      <td>nan</td>\n",
       "    </tr>\n",
       "  </tbody>\n",
       "</table>\n",
       "</div>"
      ],
      "text/plain": [
       "              Unnamed: 0        제 50 기        제 49 기        제 48 기\n",
       "0              영업활동 현금흐름      67031863      62162041      47385644\n",
       "1          영업에서 창출된 현금흐름      78025064      67777432      52299610\n",
       "2                  당기순이익      44344857      42186747      22726092\n",
       "3                     조정      43604573      36211232      30754471\n",
       "4     영업활동으로 인한 자산부채의 변동   (9,924,366)  (10,620,547)   (1,180,953)\n",
       "5                 이자의 수취       1788520       1581117       1405085\n",
       "6                 이자의 지급     (548,272)     (542,715)     (443,838)\n",
       "7                 배당금 수입        215992        173305        256851\n",
       "8                법인세 납부액  (12,449,441)   (6,827,098)   (6,132,064)\n",
       "9              투자활동 현금흐름  (52,240,453)  (49,385,216)  (29,658,675)\n",
       "10       단기금융상품의 순감소(증가)  (12,368,298)        387627   (6,780,610)\n",
       "11      단기상각후원가금융자산의 순증가   (1,436,844)           nan           nan\n",
       "12  단기당기손익-공정가치금융자산의 순증가     (139,668)           nan           nan\n",
       "13        단기매도가능금융자산의 처분           nan        499856       3010003\n",
       "14        단기매도가능금융자산의 취득           nan           nan   (2,129,551)\n",
       "15            장기금융상품의 처분        255850       1750221        789862\n",
       "16            장기금융상품의 취득   (7,678,654)   (1,079,355)   (1,741,547)\n",
       "17        장기매도가능금융자산의 처분           nan        191826       2010356\n",
       "18        장기매도가능금융자산의 취득           nan     (358,497)   (1,498,148)\n",
       "19          만기보유금융자산의 취득           nan     (106,751)           nan"
      ]
     },
     "execution_count": 9,
     "metadata": {
      "tags": []
     },
     "output_type": "execute_result"
    }
   ],
   "source": [
    "# 연결 현금흐름표 (CF)\n",
    "df_cf = df_list[13].astype(str)\n",
    "df_cf.head(20)"
   ]
  },
  {
   "cell_type": "markdown",
   "metadata": {
    "colab_type": "text",
    "id": "EBqvgmwL-L9j"
   },
   "source": [
    "데이터프레임에서 숫자를 제외한('[^0-9]')모든 내용을 빈 값('')으로 치환합니다."
   ]
  },
  {
   "cell_type": "code",
   "execution_count": 10,
   "metadata": {
    "colab": {
     "base_uri": "https://localhost:8080/",
     "height": 669
    },
    "colab_type": "code",
    "id": "oOOLhRD48gay",
    "outputId": "f8d32999-b142-4233-f930-abb0dd73564b"
   },
   "outputs": [
    {
     "data": {
      "text/html": [
       "<div>\n",
       "<style scoped>\n",
       "    .dataframe tbody tr th:only-of-type {\n",
       "        vertical-align: middle;\n",
       "    }\n",
       "\n",
       "    .dataframe tbody tr th {\n",
       "        vertical-align: top;\n",
       "    }\n",
       "\n",
       "    .dataframe thead th {\n",
       "        text-align: right;\n",
       "    }\n",
       "</style>\n",
       "<table border=\"1\" class=\"dataframe\">\n",
       "  <thead>\n",
       "    <tr style=\"text-align: right;\">\n",
       "      <th></th>\n",
       "      <th>Unnamed: 0</th>\n",
       "      <th>제 50 기</th>\n",
       "      <th>제 49 기</th>\n",
       "      <th>제 48 기</th>\n",
       "    </tr>\n",
       "  </thead>\n",
       "  <tbody>\n",
       "    <tr>\n",
       "      <th>0</th>\n",
       "      <td></td>\n",
       "      <td>67031863</td>\n",
       "      <td>62162041</td>\n",
       "      <td>47385644</td>\n",
       "    </tr>\n",
       "    <tr>\n",
       "      <th>1</th>\n",
       "      <td></td>\n",
       "      <td>78025064</td>\n",
       "      <td>67777432</td>\n",
       "      <td>52299610</td>\n",
       "    </tr>\n",
       "    <tr>\n",
       "      <th>2</th>\n",
       "      <td></td>\n",
       "      <td>44344857</td>\n",
       "      <td>42186747</td>\n",
       "      <td>22726092</td>\n",
       "    </tr>\n",
       "    <tr>\n",
       "      <th>3</th>\n",
       "      <td></td>\n",
       "      <td>43604573</td>\n",
       "      <td>36211232</td>\n",
       "      <td>30754471</td>\n",
       "    </tr>\n",
       "    <tr>\n",
       "      <th>4</th>\n",
       "      <td></td>\n",
       "      <td>9924366</td>\n",
       "      <td>10620547</td>\n",
       "      <td>1180953</td>\n",
       "    </tr>\n",
       "    <tr>\n",
       "      <th>5</th>\n",
       "      <td></td>\n",
       "      <td>1788520</td>\n",
       "      <td>1581117</td>\n",
       "      <td>1405085</td>\n",
       "    </tr>\n",
       "    <tr>\n",
       "      <th>6</th>\n",
       "      <td></td>\n",
       "      <td>548272</td>\n",
       "      <td>542715</td>\n",
       "      <td>443838</td>\n",
       "    </tr>\n",
       "    <tr>\n",
       "      <th>7</th>\n",
       "      <td></td>\n",
       "      <td>215992</td>\n",
       "      <td>173305</td>\n",
       "      <td>256851</td>\n",
       "    </tr>\n",
       "    <tr>\n",
       "      <th>8</th>\n",
       "      <td></td>\n",
       "      <td>12449441</td>\n",
       "      <td>6827098</td>\n",
       "      <td>6132064</td>\n",
       "    </tr>\n",
       "    <tr>\n",
       "      <th>9</th>\n",
       "      <td></td>\n",
       "      <td>52240453</td>\n",
       "      <td>49385216</td>\n",
       "      <td>29658675</td>\n",
       "    </tr>\n",
       "    <tr>\n",
       "      <th>10</th>\n",
       "      <td></td>\n",
       "      <td>12368298</td>\n",
       "      <td>387627</td>\n",
       "      <td>6780610</td>\n",
       "    </tr>\n",
       "    <tr>\n",
       "      <th>11</th>\n",
       "      <td></td>\n",
       "      <td>1436844</td>\n",
       "      <td></td>\n",
       "      <td></td>\n",
       "    </tr>\n",
       "    <tr>\n",
       "      <th>12</th>\n",
       "      <td></td>\n",
       "      <td>139668</td>\n",
       "      <td></td>\n",
       "      <td></td>\n",
       "    </tr>\n",
       "    <tr>\n",
       "      <th>13</th>\n",
       "      <td></td>\n",
       "      <td></td>\n",
       "      <td>499856</td>\n",
       "      <td>3010003</td>\n",
       "    </tr>\n",
       "    <tr>\n",
       "      <th>14</th>\n",
       "      <td></td>\n",
       "      <td></td>\n",
       "      <td></td>\n",
       "      <td>2129551</td>\n",
       "    </tr>\n",
       "    <tr>\n",
       "      <th>15</th>\n",
       "      <td></td>\n",
       "      <td>255850</td>\n",
       "      <td>1750221</td>\n",
       "      <td>789862</td>\n",
       "    </tr>\n",
       "    <tr>\n",
       "      <th>16</th>\n",
       "      <td></td>\n",
       "      <td>7678654</td>\n",
       "      <td>1079355</td>\n",
       "      <td>1741547</td>\n",
       "    </tr>\n",
       "    <tr>\n",
       "      <th>17</th>\n",
       "      <td></td>\n",
       "      <td></td>\n",
       "      <td>191826</td>\n",
       "      <td>2010356</td>\n",
       "    </tr>\n",
       "    <tr>\n",
       "      <th>18</th>\n",
       "      <td></td>\n",
       "      <td></td>\n",
       "      <td>358497</td>\n",
       "      <td>1498148</td>\n",
       "    </tr>\n",
       "    <tr>\n",
       "      <th>19</th>\n",
       "      <td></td>\n",
       "      <td></td>\n",
       "      <td>106751</td>\n",
       "      <td></td>\n",
       "    </tr>\n",
       "  </tbody>\n",
       "</table>\n",
       "</div>"
      ],
      "text/plain": [
       "   Unnamed: 0    제 50 기    제 49 기    제 48 기\n",
       "0              67031863  62162041  47385644\n",
       "1              78025064  67777432  52299610\n",
       "2              44344857  42186747  22726092\n",
       "3              43604573  36211232  30754471\n",
       "4               9924366  10620547   1180953\n",
       "5               1788520   1581117   1405085\n",
       "6                548272    542715    443838\n",
       "7                215992    173305    256851\n",
       "8              12449441   6827098   6132064\n",
       "9              52240453  49385216  29658675\n",
       "10             12368298    387627   6780610\n",
       "11              1436844                    \n",
       "12               139668                    \n",
       "13                         499856   3010003\n",
       "14                                  2129551\n",
       "15               255850   1750221    789862\n",
       "16              7678654   1079355   1741547\n",
       "17                         191826   2010356\n",
       "18                         358497   1498148\n",
       "19                         106751          "
      ]
     },
     "execution_count": 10,
     "metadata": {
      "tags": []
     },
     "output_type": "execute_result"
    }
   ],
   "source": [
    "import re\n",
    "\n",
    "df_cf.replace('[^0-9]', '', regex=True).head(20)"
   ]
  },
  {
   "cell_type": "markdown",
   "metadata": {
    "colab_type": "text",
    "id": "NiGzRhYh-eZz"
   },
   "source": [
    "데이터 프레임은 2차원 구조(컬럼과 로우로 구성)입니다. DataFrame.values로 2차원 값들만 추출할 수 있습니다.\n",
    "\n",
    "2차원 자료구조를 reshape(-1) 하여 간단하게 1차원 리스트로 바꿀 수 있습니다."
   ]
  },
  {
   "cell_type": "code",
   "execution_count": 11,
   "metadata": {
    "colab": {
     "base_uri": "https://localhost:8080/",
     "height": 431
    },
    "colab_type": "code",
    "id": "KoqOMnLd5xx_",
    "outputId": "f654e986-01fd-403b-9dcc-ba0489d95e89"
   },
   "outputs": [
    {
     "data": {
      "text/plain": [
       "array(['', '67031863', '62162041', '47385644', '', '78025064', '67777432',\n",
       "       '52299610', '', '44344857', '42186747', '22726092', '', '43604573',\n",
       "       '36211232', '30754471', '', '9924366', '10620547', '1180953', '',\n",
       "       '1788520', '1581117', '1405085', '', '548272', '542715', '443838',\n",
       "       '', '215992', '173305', '256851', '', '12449441', '6827098',\n",
       "       '6132064', '', '52240453', '49385216', '29658675', '', '12368298',\n",
       "       '387627', '6780610', '', '1436844', '', '', '', '139668', '', '',\n",
       "       '', '', '499856', '3010003', '', '', '', '2129551', '', '255850',\n",
       "       '1750221', '789862', '', '7678654', '1079355', '1741547', '', '',\n",
       "       '191826', '2010356', '', '', '358497', '1498148', '', '', '106751',\n",
       "       '', '', '158716', '', '', '', '16211', '', '', '', '456134', '',\n",
       "       '', '', '80138', '', '', '', '193848', '', '', '', '148', '355926',\n",
       "       '2280203', '', '51226', '25293', '84306', '', '556973', '308354',\n",
       "       '270874', '', '29556406', '42792234', '24142973', '', '11935',\n",
       "       '733', '6944', '', '1020517', '983740', '1047668', '', '99108',\n",
       "       '8754268', '622050', '', '', '1248834', '', '', '2289', '28455',\n",
       "       '19936', '', '15090222', '12560867', '8669514', '', '2046470',\n",
       "       '2730676', '1351037', '', '875111', '8350424', '7707938', '',\n",
       "       '3580', '998311', '1041743', '', '1986597', '1140803', '252846',\n",
       "       '', '10193695', '6804297', '3114742', '', '8071', '5670', '13232',\n",
       "       '', '94187', '1782270', '417243', '', '204625', '1566312',\n",
       "       '9474698', '', '30545130', '32111442', '22636744', '', '30340505',\n",
       "       '30545130', '32111442'], dtype=object)"
      ]
     },
     "execution_count": 11,
     "metadata": {
      "tags": []
     },
     "output_type": "execute_result"
    }
   ],
   "source": [
    "val_list = df_cf.replace('[^0-9]', '', regex=True).values.reshape(-1)\n",
    "val_list"
   ]
  },
  {
   "cell_type": "markdown",
   "metadata": {
    "colab_type": "text",
    "id": "5G3iG6nf--qL"
   },
   "source": [
    "## 첫 번째 숫자 추출하기\n",
    "\n",
    "빈 값('')이 아닌 숫자 데이터의 첫 글자만 수집합니다"
   ]
  },
  {
   "cell_type": "code",
   "execution_count": 12,
   "metadata": {
    "colab": {
     "base_uri": "https://localhost:8080/",
     "height": 55
    },
    "colab_type": "code",
    "id": "RvoL93wK6cqQ",
    "outputId": "3d9af6c8-1a16-48a3-f7b8-3ed47844b397"
   },
   "outputs": [
    {
     "name": "stdout",
     "output_type": "stream",
     "text": [
      "[6, 6, 4, 7, 6, 5, 4, 4, 2, 4, 3, 3, 9, 1, 1, 1, 1, 1, 5, 5, 4, 2, 1, 2, 1, 6, 6, 5, 4, 2, 1, 3, 6, 1, 1, 4, 3, 2, 2, 1, 7, 7, 1, 1, 1, 2, 3, 1, 1, 1, 1, 4, 8, 1, 1, 3, 2, 5, 2, 8, 5, 3, 2, 2, 4, 2, 1, 7, 6, 1, 9, 1, 9, 8, 6, 1, 2, 2, 1, 1, 1, 8, 2, 2, 1, 8, 8, 7, 3, 9, 1, 1, 1, 2, 1, 6, 3, 8, 5, 1, 9, 1, 4, 2, 1, 9, 3, 3, 2, 3, 3, 3]\n"
     ]
    }
   ],
   "source": [
    "leading_digits = [int(v[0]) for v in val_list if v]\n",
    "\n",
    "print(leading_digits)"
   ]
  },
  {
   "cell_type": "markdown",
   "metadata": {
    "colab_type": "text",
    "id": "1hR1sAES_omR"
   },
   "source": [
    "## 개수 세기\n",
    "파이썬의 dict를 사용하여 각 숫자의 개수를 카운트 합니다."
   ]
  },
  {
   "cell_type": "code",
   "execution_count": 13,
   "metadata": {
    "colab": {
     "base_uri": "https://localhost:8080/",
     "height": 35
    },
    "colab_type": "code",
    "id": "CFidqlJv_ome",
    "outputId": "0eadc416-f4f7-4f08-c446-247529c92831"
   },
   "outputs": [
    {
     "data": {
      "text/plain": [
       "{1: 35, 2: 19, 3: 14, 4: 10, 5: 7, 6: 9, 7: 5, 8: 7, 9: 6}"
      ]
     },
     "execution_count": 13,
     "metadata": {
      "tags": []
     },
     "output_type": "execute_result"
    }
   ],
   "source": [
    "# counter dict 초기화\n",
    "counter = {i:0 for i in range(1, 10)}\n",
    "\n",
    "# dict를 사용하여 개수 세기\n",
    "for i in leading_digits:\n",
    "  counter[i] =  counter.get(i, 0) + 1\n",
    "\n",
    "counter  "
   ]
  },
  {
   "cell_type": "code",
   "execution_count": 14,
   "metadata": {
    "colab": {
     "base_uri": "https://localhost:8080/",
     "height": 179
    },
    "colab_type": "code",
    "id": "5NWlZGeCBXhZ",
    "outputId": "3983deb8-6285-4379-f268-38b395ca4bc0"
   },
   "outputs": [
    {
     "data": {
      "text/plain": [
       "{1: 0.3125,\n",
       " 2: 0.16964285714285715,\n",
       " 3: 0.125,\n",
       " 4: 0.08928571428571429,\n",
       " 5: 0.0625,\n",
       " 6: 0.08035714285714286,\n",
       " 7: 0.044642857142857144,\n",
       " 8: 0.0625,\n",
       " 9: 0.05357142857142857}"
      ]
     },
     "execution_count": 14,
     "metadata": {
      "tags": []
     },
     "output_type": "execute_result"
    }
   ],
   "source": [
    "total = sum(counter.values())\n",
    "finstat_ratio = {i: counter[i]/total for i in counter.keys()}\n",
    "finstat_ratio"
   ]
  },
  {
   "cell_type": "code",
   "execution_count": 15,
   "metadata": {
    "colab": {
     "base_uri": "https://localhost:8080/",
     "height": 328
    },
    "colab_type": "code",
    "id": "14pgNfS_BXhj",
    "outputId": "06a71848-ee90-4f9b-b9fd-182a65ac95ef"
   },
   "outputs": [
    {
     "data": {
      "text/html": [
       "<div>\n",
       "<style scoped>\n",
       "    .dataframe tbody tr th:only-of-type {\n",
       "        vertical-align: middle;\n",
       "    }\n",
       "\n",
       "    .dataframe tbody tr th {\n",
       "        vertical-align: top;\n",
       "    }\n",
       "\n",
       "    .dataframe thead th {\n",
       "        text-align: right;\n",
       "    }\n",
       "</style>\n",
       "<table border=\"1\" class=\"dataframe\">\n",
       "  <thead>\n",
       "    <tr style=\"text-align: right;\">\n",
       "      <th></th>\n",
       "      <th>benford</th>\n",
       "      <th>finstat</th>\n",
       "    </tr>\n",
       "  </thead>\n",
       "  <tbody>\n",
       "    <tr>\n",
       "      <th>1</th>\n",
       "      <td>0.301030</td>\n",
       "      <td>0.312500</td>\n",
       "    </tr>\n",
       "    <tr>\n",
       "      <th>2</th>\n",
       "      <td>0.176091</td>\n",
       "      <td>0.169643</td>\n",
       "    </tr>\n",
       "    <tr>\n",
       "      <th>3</th>\n",
       "      <td>0.124939</td>\n",
       "      <td>0.125000</td>\n",
       "    </tr>\n",
       "    <tr>\n",
       "      <th>4</th>\n",
       "      <td>0.096910</td>\n",
       "      <td>0.089286</td>\n",
       "    </tr>\n",
       "    <tr>\n",
       "      <th>5</th>\n",
       "      <td>0.079181</td>\n",
       "      <td>0.062500</td>\n",
       "    </tr>\n",
       "    <tr>\n",
       "      <th>6</th>\n",
       "      <td>0.066947</td>\n",
       "      <td>0.080357</td>\n",
       "    </tr>\n",
       "    <tr>\n",
       "      <th>7</th>\n",
       "      <td>0.057992</td>\n",
       "      <td>0.044643</td>\n",
       "    </tr>\n",
       "    <tr>\n",
       "      <th>8</th>\n",
       "      <td>0.051153</td>\n",
       "      <td>0.062500</td>\n",
       "    </tr>\n",
       "    <tr>\n",
       "      <th>9</th>\n",
       "      <td>0.045757</td>\n",
       "      <td>0.053571</td>\n",
       "    </tr>\n",
       "  </tbody>\n",
       "</table>\n",
       "</div>"
      ],
      "text/plain": [
       "    benford   finstat\n",
       "1  0.301030  0.312500\n",
       "2  0.176091  0.169643\n",
       "3  0.124939  0.125000\n",
       "4  0.096910  0.089286\n",
       "5  0.079181  0.062500\n",
       "6  0.066947  0.080357\n",
       "7  0.057992  0.044643\n",
       "8  0.051153  0.062500\n",
       "9  0.045757  0.053571"
      ]
     },
     "execution_count": 15,
     "metadata": {
      "tags": []
     },
     "output_type": "execute_result"
    }
   ],
   "source": [
    "df_ratio = pd.DataFrame({\n",
    "    'benford': benford_values,\n",
    "    'finstat': finstat_ratio\n",
    "})\n",
    "\n",
    "df_ratio"
   ]
  },
  {
   "cell_type": "code",
   "execution_count": 16,
   "metadata": {
    "colab": {
     "base_uri": "https://localhost:8080/",
     "height": 396
    },
    "colab_type": "code",
    "id": "YJDsiG84BpKc",
    "outputId": "76672880-5ed3-4390-bb35-36964323e5db"
   },
   "outputs": [
    {
     "data": {
      "text/plain": [
       "<matplotlib.axes._subplots.AxesSubplot at 0x7f3f8d7caf60>"
      ]
     },
     "execution_count": 16,
     "metadata": {
      "tags": []
     },
     "output_type": "execute_result"
    },
    {
     "data": {
      "image/png": "[encoded data removed]",
      "text/plain": [
       "<Figure size 864x432 with 1 Axes>"
      ]
     },
     "metadata": {
      "tags": []
     },
     "output_type": "display_data"
    }
   ],
   "source": [
    "df_ratio.plot()"
   ]
  },
  {
   "cell_type": "markdown",
   "metadata": {
    "colab_type": "text",
    "id": "X_xOrIcJLiMu"
   },
   "source": [
    "## RMSE 와 최대오차\n",
    "\n",
    "$$\n",
    "RMSE = \\sqrt{\\frac{\\sum_{i=1}^{9}{(P(i) - P_{benford}(i))^2}}{9}} \n",
    "$$\n"
   ]
  },
  {
   "cell_type": "code",
   "execution_count": 17,
   "metadata": {
    "colab": {
     "base_uri": "https://localhost:8080/",
     "height": 35
    },
    "colab_type": "code",
    "id": "4g8ePLQcMsxM",
    "outputId": "29ef308f-3568-4763-efdb-2788ef1b4793"
   },
   "outputs": [
    {
     "data": {
      "text/plain": [
       "0.010839225001669731"
      ]
     },
     "execution_count": 17,
     "metadata": {
      "tags": []
     },
     "output_type": "execute_result"
    }
   ],
   "source": [
    "rmse = ((df_ratio['finstat'] - df_ratio['benford']) ** 2).mean() ** 0.5\n",
    "rmse"
   ]
  },
  {
   "cell_type": "code",
   "execution_count": 18,
   "metadata": {
    "colab": {
     "base_uri": "https://localhost:8080/",
     "height": 35
    },
    "colab_type": "code",
    "id": "LepDKs5NXOQw",
    "outputId": "e998a702-ad4c-45df-8b87-1f5ef783d016"
   },
   "outputs": [
    {
     "data": {
      "text/plain": [
       "0.016681246047624818"
      ]
     },
     "execution_count": 18,
     "metadata": {
      "tags": []
     },
     "output_type": "execute_result"
    }
   ],
   "source": [
    "np.abs(df_ratio['finstat'] - df_ratio['benford']).max()"
   ]
  },
  {
   "cell_type": "markdown",
   "metadata": {
    "colab_type": "text",
    "id": "elF0MT3c_k2r"
   },
   "source": [
    "# 함수로 정리"
   ]
  },
  {
   "cell_type": "code",
   "execution_count": 0,
   "metadata": {
    "colab": {},
    "colab_type": "code",
    "id": "Xr2g9Bvz_kXi"
   },
   "outputs": [],
   "source": [
    "import re\n",
    "import numpy as np\n",
    "\n",
    "def benford(df_list, plot=True):\n",
    "  val_list = []\n",
    "  # 전달된 데이터프레임 리스트에서 숫자 문자열만 추출\n",
    "  for df in df_list:\n",
    "    df = df.astype(str)\n",
    "    # 특정 문자열을 포함하는 데이터프레임만 대상\n",
    "    if any(x in df.to_html() for x in ['유동자산', '매출원가', '포괄손익', '현금흐름', '당기순이익']):\n",
    "      values = df.replace('[^0-9]', '', regex=True).values.reshape(-1)\n",
    "      val_list.extend(values)\n",
    "\n",
    "  # 첫 글자 목록 추출\n",
    "  leading_digits = [int(v[0]) for v in val_list if v]\n",
    "\n",
    "  # 개수 세기\n",
    "  counter = {i:0 for i in range(1, 10)}\n",
    "  for i in leading_digits:\n",
    "    counter[i] =  counter.get(i, 0) + 1\n",
    "\n",
    "  # 비율 구하기\n",
    "  total = sum(counter.values())\n",
    "  finstat_ratio = {i: counter[i]/total for i in counter.keys()}\n",
    "\n",
    "  # 데이터 프레임을 생성하여 반환\n",
    "  benford_values =  {d:np.log10((d+1)/d) for d in range(1,10)}\n",
    "  df_ratio = pd.DataFrame({\n",
    "    'benford': benford_values,\n",
    "    'finstat': finstat_ratio\n",
    "  })\n",
    "  if plot:\n",
    "    df_ratio.plot()\n",
    "  return df_ratio\n",
    "\n",
    "# return RMSE와 최대오차(max)\n",
    "def benford_desc(df_list):\n",
    "  df = benford(df_list, plot=False)\n",
    "  rmse = ((df['finstat'] - df['benford']) ** 2).mean() ** 0.5\n",
    "  max_err = np.abs(df['finstat'] - df['benford']).max()\n",
    "  return rmse, max_err"
   ]
  },
  {
   "cell_type": "markdown",
   "metadata": {
    "colab_type": "text",
    "id": "SSJ35MTmvGHa"
   },
   "source": [
    "## 모뉴엘\t감사보고서 (2009.06)\n",
    "http://dart.fss.or.kr/dsaf001/main.do?rcpNo=20090610000036\n",
    "\n",
    "#### 재 무 제 표 (2008, 2009년)\n",
    "http://dart.fss.or.kr/report/viewer.do?rcpNo=20090610000036&dcmNo=2330874&eleId=3&offset=9520&length=101157&dtd=dart3.xsd\n"
   ]
  },
  {
   "cell_type": "code",
   "execution_count": 22,
   "metadata": {
    "colab": {
     "base_uri": "https://localhost:8080/",
     "height": 35
    },
    "colab_type": "code",
    "id": "8O-PAo3bvFYK",
    "outputId": "3e24dca7-5008-457d-bcfb-4d76bdcf5c2e"
   },
   "outputs": [
    {
     "data": {
      "text/plain": [
       "16"
      ]
     },
     "execution_count": 22,
     "metadata": {
      "tags": []
     },
     "output_type": "execute_result"
    }
   ],
   "source": [
    "import pandas as pd\n",
    "\n",
    "url = 'http://dart.fss.or.kr/report/viewer.do?rcpNo=20090610000036&dcmNo=2330874&eleId=3&offset=9520&length=101157&dtd=dart3.xsd'\n",
    "dfs = pd.read_html(url)\n",
    "len(dfs)"
   ]
  },
  {
   "cell_type": "code",
   "execution_count": 23,
   "metadata": {
    "colab": {
     "base_uri": "https://localhost:8080/",
     "height": 359
    },
    "colab_type": "code",
    "id": "YGN5BYpsvE8b",
    "outputId": "24598e59-3ab4-4d9d-ddd7-468ae4d64f8d"
   },
   "outputs": [
    {
     "data": {
      "text/html": [
       "<div>\n",
       "<style scoped>\n",
       "    .dataframe tbody tr th:only-of-type {\n",
       "        vertical-align: middle;\n",
       "    }\n",
       "\n",
       "    .dataframe tbody tr th {\n",
       "        vertical-align: top;\n",
       "    }\n",
       "\n",
       "    .dataframe thead th {\n",
       "        text-align: right;\n",
       "    }\n",
       "</style>\n",
       "<table border=\"1\" class=\"dataframe\">\n",
       "  <thead>\n",
       "    <tr style=\"text-align: right;\">\n",
       "      <th></th>\n",
       "      <th>과 목</th>\n",
       "      <th>제 5(당) 기</th>\n",
       "      <th>제 5(당) 기.1</th>\n",
       "      <th>제 4(전) 기</th>\n",
       "      <th>제 4(전) 기.1</th>\n",
       "    </tr>\n",
       "  </thead>\n",
       "  <tbody>\n",
       "    <tr>\n",
       "      <th>0</th>\n",
       "      <td>Ⅰ. 영업활동으로 인한 현금흐름</td>\n",
       "      <td>NaN</td>\n",
       "      <td>(13,485,949,268)</td>\n",
       "      <td>NaN</td>\n",
       "      <td>(9,470,917,414)</td>\n",
       "    </tr>\n",
       "    <tr>\n",
       "      <th>1</th>\n",
       "      <td>1. 당기순이익</td>\n",
       "      <td>7058328249</td>\n",
       "      <td>NaN</td>\n",
       "      <td>1230452397</td>\n",
       "      <td>NaN</td>\n",
       "    </tr>\n",
       "    <tr>\n",
       "      <th>2</th>\n",
       "      <td>2. 현금의 유출이 없는 비용 등의가산</td>\n",
       "      <td>1976501610</td>\n",
       "      <td>NaN</td>\n",
       "      <td>294925697</td>\n",
       "      <td>NaN</td>\n",
       "    </tr>\n",
       "    <tr>\n",
       "      <th>3</th>\n",
       "      <td>가. 매출채권매각손실</td>\n",
       "      <td>676839852</td>\n",
       "      <td>NaN</td>\n",
       "      <td>160677645</td>\n",
       "      <td>NaN</td>\n",
       "    </tr>\n",
       "    <tr>\n",
       "      <th>4</th>\n",
       "      <td>나. 감가상각비</td>\n",
       "      <td>47488363</td>\n",
       "      <td>NaN</td>\n",
       "      <td>16954023</td>\n",
       "      <td>NaN</td>\n",
       "    </tr>\n",
       "    <tr>\n",
       "      <th>5</th>\n",
       "      <td>다. 무형자산상각비</td>\n",
       "      <td>3732000</td>\n",
       "      <td>NaN</td>\n",
       "      <td>2834000</td>\n",
       "      <td>NaN</td>\n",
       "    </tr>\n",
       "    <tr>\n",
       "      <th>6</th>\n",
       "      <td>라. 대손상각비</td>\n",
       "      <td>193990867</td>\n",
       "      <td>NaN</td>\n",
       "      <td>6677932</td>\n",
       "      <td>NaN</td>\n",
       "    </tr>\n",
       "    <tr>\n",
       "      <th>7</th>\n",
       "      <td>마. 퇴직급여</td>\n",
       "      <td>69668803</td>\n",
       "      <td>NaN</td>\n",
       "      <td>40310697</td>\n",
       "      <td>NaN</td>\n",
       "    </tr>\n",
       "    <tr>\n",
       "      <th>8</th>\n",
       "      <td>바. 외화환산손실</td>\n",
       "      <td>984781725</td>\n",
       "      <td>NaN</td>\n",
       "      <td>67471400</td>\n",
       "      <td>NaN</td>\n",
       "    </tr>\n",
       "    <tr>\n",
       "      <th>9</th>\n",
       "      <td>3. 현금의 유입이 없는 수익 등의 차감</td>\n",
       "      <td>(1,013,905,960)</td>\n",
       "      <td>NaN</td>\n",
       "      <td>(101,769,720)</td>\n",
       "      <td>NaN</td>\n",
       "    </tr>\n",
       "  </tbody>\n",
       "</table>\n",
       "</div>"
      ],
      "text/plain": [
       "                      과 목         제 5(당) 기  ...       제 4(전) 기       제 4(전) 기.1\n",
       "0       Ⅰ. 영업활동으로 인한 현금흐름              NaN  ...            NaN  (9,470,917,414)\n",
       "1                1. 당기순이익       7058328249  ...     1230452397              NaN\n",
       "2   2. 현금의 유출이 없는 비용 등의가산       1976501610  ...      294925697              NaN\n",
       "3             가. 매출채권매각손실        676839852  ...      160677645              NaN\n",
       "4                나. 감가상각비         47488363  ...       16954023              NaN\n",
       "5              다. 무형자산상각비          3732000  ...        2834000              NaN\n",
       "6                라. 대손상각비        193990867  ...        6677932              NaN\n",
       "7                 마. 퇴직급여         69668803  ...       40310697              NaN\n",
       "8               바. 외화환산손실        984781725  ...       67471400              NaN\n",
       "9  3. 현금의 유입이 없는 수익 등의 차감  (1,013,905,960)  ...  (101,769,720)              NaN\n",
       "\n",
       "[10 rows x 5 columns]"
      ]
     },
     "execution_count": 23,
     "metadata": {
      "tags": []
     },
     "output_type": "execute_result"
    }
   ],
   "source": [
    "dfs[14].head(10)"
   ]
  },
  {
   "cell_type": "code",
   "execution_count": 24,
   "metadata": {
    "colab": {
     "base_uri": "https://localhost:8080/",
     "height": 689
    },
    "colab_type": "code",
    "id": "KnaG70FZvEgD",
    "outputId": "c03df70e-0db3-49e8-d2a0-d4a96358a21d"
   },
   "outputs": [
    {
     "data": {
      "text/html": [
       "<div>\n",
       "<style scoped>\n",
       "    .dataframe tbody tr th:only-of-type {\n",
       "        vertical-align: middle;\n",
       "    }\n",
       "\n",
       "    .dataframe tbody tr th {\n",
       "        vertical-align: top;\n",
       "    }\n",
       "\n",
       "    .dataframe thead th {\n",
       "        text-align: right;\n",
       "    }\n",
       "</style>\n",
       "<table border=\"1\" class=\"dataframe\">\n",
       "  <thead>\n",
       "    <tr style=\"text-align: right;\">\n",
       "      <th></th>\n",
       "      <th>benford</th>\n",
       "      <th>finstat</th>\n",
       "    </tr>\n",
       "  </thead>\n",
       "  <tbody>\n",
       "    <tr>\n",
       "      <th>1</th>\n",
       "      <td>0.301030</td>\n",
       "      <td>0.372152</td>\n",
       "    </tr>\n",
       "    <tr>\n",
       "      <th>2</th>\n",
       "      <td>0.176091</td>\n",
       "      <td>0.177215</td>\n",
       "    </tr>\n",
       "    <tr>\n",
       "      <th>3</th>\n",
       "      <td>0.124939</td>\n",
       "      <td>0.093671</td>\n",
       "    </tr>\n",
       "    <tr>\n",
       "      <th>4</th>\n",
       "      <td>0.096910</td>\n",
       "      <td>0.096203</td>\n",
       "    </tr>\n",
       "    <tr>\n",
       "      <th>5</th>\n",
       "      <td>0.079181</td>\n",
       "      <td>0.070886</td>\n",
       "    </tr>\n",
       "    <tr>\n",
       "      <th>6</th>\n",
       "      <td>0.066947</td>\n",
       "      <td>0.070886</td>\n",
       "    </tr>\n",
       "    <tr>\n",
       "      <th>7</th>\n",
       "      <td>0.057992</td>\n",
       "      <td>0.048101</td>\n",
       "    </tr>\n",
       "    <tr>\n",
       "      <th>8</th>\n",
       "      <td>0.051153</td>\n",
       "      <td>0.027848</td>\n",
       "    </tr>\n",
       "    <tr>\n",
       "      <th>9</th>\n",
       "      <td>0.045757</td>\n",
       "      <td>0.043038</td>\n",
       "    </tr>\n",
       "  </tbody>\n",
       "</table>\n",
       "</div>"
      ],
      "text/plain": [
       "    benford   finstat\n",
       "1  0.301030  0.372152\n",
       "2  0.176091  0.177215\n",
       "3  0.124939  0.093671\n",
       "4  0.096910  0.096203\n",
       "5  0.079181  0.070886\n",
       "6  0.066947  0.070886\n",
       "7  0.057992  0.048101\n",
       "8  0.051153  0.027848\n",
       "9  0.045757  0.043038"
      ]
     },
     "execution_count": 24,
     "metadata": {
      "tags": []
     },
     "output_type": "execute_result"
    },
    {
     "data": {
      "image/png": "[encoded data removed]",
      "text/plain": [
       "<Figure size 864x432 with 1 Axes>"
      ]
     },
     "metadata": {
      "tags": []
     },
     "output_type": "display_data"
    }
   ],
   "source": [
    "df = benford(dfs)\n",
    "df"
   ]
  },
  {
   "cell_type": "code",
   "execution_count": 25,
   "metadata": {
    "colab": {
     "base_uri": "https://localhost:8080/",
     "height": 35
    },
    "colab_type": "code",
    "id": "GlD89pNRA7nw",
    "outputId": "c084d135-f93e-4f51-bbcb-e05e8e178331"
   },
   "outputs": [
    {
     "data": {
      "text/plain": [
       "(0.027427505525541764, 0.071121903070196)"
      ]
     },
     "execution_count": 25,
     "metadata": {
      "tags": []
     },
     "output_type": "execute_result"
    }
   ],
   "source": [
    "benford_desc(dfs)"
   ]
  },
  {
   "cell_type": "markdown",
   "metadata": {
    "colab_type": "text",
    "id": "XUKrNDotpBtI"
   },
   "source": [
    "### 2019 [FinanceData.KR](http://financedata.kr) | [facebook.com/financedata](http://facebook.com/financedata)"
   ]
  }
 ],
 "metadata": {
  "colab": {
   "collapsed_sections": [],
   "name": "벤포드의 법칙.ipynb",
   "provenance": [],
   "version": "0.3.2"
  },
  "kernelspec": {
   "display_name": "Python 3",
   "name": "python3"
  }
 },
 "nbformat": 4,
 "nbformat_minor": 0
}
